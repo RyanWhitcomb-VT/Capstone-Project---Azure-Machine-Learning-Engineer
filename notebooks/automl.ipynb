{
  "cells": [
    {
      "cell_type": "markdown",
      "source": [
        "# Automated ML\n",
        "\n",
        "TODO: Import Dependencies. In the cell below, import all the dependencies that you will need to complete the project."
      ],
      "metadata": {}
    },
    {
      "cell_type": "code",
      "source": [
        "import azureml.core\n",
        "from azureml.core.experiment import Experiment\n",
        "from azureml.core.workspace import Workspace\n",
        "from azureml.core.dataset import Dataset\n",
        "from azureml.train.automl import AutoMLConfig\n",
        "from azureml.train.automl.run import AutoMLRun"
      ],
      "outputs": [],
      "execution_count": 1,
      "metadata": {
        "gather": {
          "logged": 1668056721155
        }
      }
    },
    {
      "cell_type": "markdown",
      "source": [
        "## Dataset\n",
        "\n",
        "### Overview\n",
        "The National Basketball Association (NBA) Games Data Kaggle dataset (https://www.kaggle.com/datasets/nathanlauga/nba-games) is a dataset of all NBA games from 2004-2020.  The information was collected from the NBA stats website and contains key information about the perfromance of each team during the game.  I will be using this data to train a model on what the key characteristics are for an NBA team in a win.  Using a data-driven approach, NBA teams can choose their focus area for strategizing and practicing when preparing for a successful season."
      ],
      "metadata": {}
    },
    {
      "cell_type": "code",
      "source": [
        "ws = Workspace.from_config()\n",
        "\n",
        "# choose a name for experiment\n",
        "experiment_name = 'nba_automl'\n",
        "\n",
        "experiment=Experiment(ws, experiment_name)"
      ],
      "outputs": [],
      "execution_count": 2,
      "metadata": {
        "gather": {
          "logged": 1668056722648
        },
        "jupyter": {
          "outputs_hidden": false,
          "source_hidden": false
        },
        "nteract": {
          "transient": {
            "deleting": false
          }
        }
      }
    },
    {
      "cell_type": "markdown",
      "source": [
        "## AutoML Configuration\n",
        "\n",
        "TODO: Explain why you chose the automl settings and cofiguration you used below."
      ],
      "metadata": {}
    },
    {
      "cell_type": "code",
      "source": [
        "# Read Data\r\n",
        "dataset = Dataset.get_by_name(ws, name='nba-games-data')\r\n",
        "df = dataset.to_pandas_dataframe()\r\n",
        "\r\n",
        "from sklearn.model_selection import train_test_split\r\n",
        "train_data, test_data = train_test_split(df, test_size=0.15)"
      ],
      "outputs": [],
      "execution_count": 5,
      "metadata": {
        "jupyter": {
          "source_hidden": false,
          "outputs_hidden": false
        },
        "nteract": {
          "transient": {
            "deleting": false
          }
        },
        "gather": {
          "logged": 1668056875454
        }
      }
    },
    {
      "cell_type": "code",
      "source": [
        "automl_settings = {\"n_cross_validations\": 3,\n",
        "    \"primary_metric\": \"AUC_weighted\",\n",
        "    \"enable_early_stopping\": True,\n",
        "    \"max_concurrent_iterations\": 2,  \n",
        "    \"experiment_timeout_hours\": 0.25\n",
        "}\n",
        "\n",
        "automl_config = AutoMLConfig( task=\"classification\",\n",
        "    debug_log=\"automl_errors.log\",\n",
        "    training_data=train_data,\n",
        "    label_column_name='HOME_TEAM_WINS',\n",
        "    **automl_settings)"
      ],
      "outputs": [],
      "execution_count": 6,
      "metadata": {
        "gather": {
          "logged": 1668056886721
        },
        "jupyter": {
          "outputs_hidden": false,
          "source_hidden": false
        },
        "nteract": {
          "transient": {
            "deleting": false
          }
        }
      }
    },
    {
      "cell_type": "code",
      "source": [
        "remote_run = experiment.submit(automl_config)"
      ],
      "outputs": [
        {
          "output_type": "stream",
          "name": "stderr",
          "text": "2022-11-10:05:09:30,992 INFO     [font_manager.py:1337] generated new fontManager\n2022-11-10:05:09:32,766 WARNING  [local_experiment_driver.py:145] Running on local machine. Note that local runs always run synchronously even if you use the parameter 'show_output=False'\n"
        },
        {
          "output_type": "display_data",
          "data": {
            "text/plain": "<IPython.core.display.HTML object>",
            "text/html": "<table style=\"width:100%\"><tr><th>Experiment</th><th>Id</th><th>Type</th><th>Status</th><th>Details Page</th><th>Docs Page</th></tr><tr><td>nba_automl</td><td>AutoML_4fedc2bd-b32a-422b-b43d-8a9d288abd05</td><td>automl</td><td>Preparing</td><td><a href=\"https://ml.azure.com/runs/AutoML_4fedc2bd-b32a-422b-b43d-8a9d288abd05?wsid=/subscriptions/61c5c3f0-6dc7-4ed9-a7f3-c704b20e3b30/resourcegroups/aml-quickstarts-214827/workspaces/quick-starts-ws-214827&amp;tid=660b3398-b80e-49d2-bc5b-ac1dc93b5254\" target=\"_blank\" rel=\"noopener\">Link to Azure Machine Learning studio</a></td><td><a href=\"https://docs.microsoft.com/en-us/python/api/overview/azure/ml/intro?view=azure-ml-py\" target=\"_blank\" rel=\"noopener\">Link to Documentation</a></td></tr></table>"
          },
          "metadata": {}
        },
        {
          "output_type": "stream",
          "name": "stderr",
          "text": "2022-11-10:05:27:47,802 INFO     [explanation_client.py:334] Using default datastore for uploads\n"
        }
      ],
      "execution_count": 7,
      "metadata": {
        "gather": {
          "logged": 1668058096056
        },
        "jupyter": {
          "outputs_hidden": false,
          "source_hidden": false
        },
        "nteract": {
          "transient": {
            "deleting": false
          }
        }
      }
    },
    {
      "cell_type": "markdown",
      "source": [
        "## Run Details\n"
      ],
      "metadata": {}
    },
    {
      "cell_type": "code",
      "source": [
        "from azureml.widgets import RunDetails\r\n",
        "RunDetails(remote_run).show()"
      ],
      "outputs": [
        {
          "output_type": "display_data",
          "data": {
            "text/plain": "_AutoMLWidget(widget_settings={'childWidgetDisplay': 'popup', 'send_telemetry': False, 'log_level': 'INFO', 's…",
            "application/vnd.jupyter.widget-view+json": {
              "version_major": 2,
              "version_minor": 0,
              "model_id": "cc73124132fc493cb1323e7870e05a4a"
            }
          },
          "metadata": {}
        },
        {
          "output_type": "display_data",
          "data": {
            "application/aml.mini.widget.v1": "{\"status\": \"Completed\", \"workbench_run_details_uri\": \"https://ml.azure.com/runs/AutoML_4fedc2bd-b32a-422b-b43d-8a9d288abd05?wsid=/subscriptions/61c5c3f0-6dc7-4ed9-a7f3-c704b20e3b30/resourcegroups/aml-quickstarts-214827/workspaces/quick-starts-ws-214827&tid=660b3398-b80e-49d2-bc5b-ac1dc93b5254\", \"run_id\": \"AutoML_4fedc2bd-b32a-422b-b43d-8a9d288abd05\", \"run_properties\": {\"run_id\": \"AutoML_4fedc2bd-b32a-422b-b43d-8a9d288abd05\", \"created_utc\": \"2022-11-10T05:09:34.63722Z\", \"properties\": {\"num_iterations\": \"1000\", \"training_type\": \"TrainFull\", \"acquisition_function\": \"EI\", \"primary_metric\": \"AUC_weighted\", \"train_split\": \"0\", \"acquisition_parameter\": \"0\", \"num_cross_validation\": \"3\", \"target\": \"local\", \"AMLSettingsJsonString\": \"{\\\"path\\\":null,\\\"name\\\":\\\"nba_automl\\\",\\\"subscription_id\\\":\\\"61c5c3f0-6dc7-4ed9-a7f3-c704b20e3b30\\\",\\\"resource_group\\\":\\\"aml-quickstarts-214827\\\",\\\"workspace_name\\\":\\\"quick-starts-ws-214827\\\",\\\"region\\\":\\\"southcentralus\\\",\\\"compute_target\\\":\\\"local\\\",\\\"spark_service\\\":null,\\\"azure_service\\\":\\\"Microsoft.AzureNotebookVM\\\",\\\"many_models\\\":false,\\\"pipeline_fetch_max_batch_size\\\":1,\\\"enable_batch_run\\\":false,\\\"enable_run_restructure\\\":false,\\\"start_auxiliary_runs_before_parent_complete\\\":false,\\\"enable_code_generation\\\":true,\\\"iterations\\\":1000,\\\"primary_metric\\\":\\\"AUC_weighted\\\",\\\"task_type\\\":\\\"classification\\\",\\\"positive_label\\\":null,\\\"data_script\\\":null,\\\"test_size\\\":0.0,\\\"test_include_predictions_only\\\":false,\\\"validation_size\\\":0.0,\\\"n_cross_validations\\\":3,\\\"y_min\\\":null,\\\"y_max\\\":null,\\\"num_classes\\\":null,\\\"featurization\\\":\\\"auto\\\",\\\"_ignore_package_version_incompatibilities\\\":false,\\\"is_timeseries\\\":false,\\\"max_cores_per_iteration\\\":1,\\\"max_concurrent_iterations\\\":2,\\\"iteration_timeout_minutes\\\":null,\\\"mem_in_mb\\\":null,\\\"enforce_time_on_windows\\\":false,\\\"experiment_timeout_minutes\\\":15,\\\"experiment_exit_score\\\":null,\\\"partition_column_names\\\":null,\\\"whitelist_models\\\":null,\\\"blacklist_algos\\\":[\\\"TensorFlowLinearClassifier\\\",\\\"TensorFlowDNN\\\"],\\\"supported_models\\\":[\\\"MultinomialNaiveBayes\\\",\\\"SGD\\\",\\\"RandomForest\\\",\\\"LightGBM\\\",\\\"ExtremeRandomTrees\\\",\\\"LinearSVM\\\",\\\"TensorFlowLinearClassifier\\\",\\\"TabnetClassifier\\\",\\\"KNN\\\",\\\"TensorFlowDNN\\\",\\\"XGBoostClassifier\\\",\\\"DecisionTree\\\",\\\"BernoulliNaiveBayes\\\",\\\"AveragedPerceptronClassifier\\\",\\\"GradientBoosting\\\",\\\"LogisticRegression\\\",\\\"SVM\\\"],\\\"private_models\\\":[],\\\"auto_blacklist\\\":true,\\\"blacklist_samples_reached\\\":false,\\\"exclude_nan_labels\\\":true,\\\"verbosity\\\":20,\\\"_debug_log\\\":\\\"automl_errors.log\\\",\\\"show_warnings\\\":false,\\\"model_explainability\\\":true,\\\"service_url\\\":null,\\\"sdk_url\\\":null,\\\"sdk_packages\\\":null,\\\"enable_onnx_compatible_models\\\":false,\\\"enable_split_onnx_featurizer_estimator_models\\\":false,\\\"vm_type\\\":null,\\\"telemetry_verbosity\\\":20,\\\"send_telemetry\\\":true,\\\"enable_dnn\\\":false,\\\"scenario\\\":\\\"AutoML\\\",\\\"environment_label\\\":null,\\\"save_mlflow\\\":false,\\\"enable_categorical_indicators\\\":false,\\\"force_text_dnn\\\":false,\\\"enable_feature_sweeping\\\":true,\\\"enable_early_stopping\\\":true,\\\"early_stopping_n_iters\\\":10,\\\"arguments\\\":null,\\\"dataset_id\\\":null,\\\"hyperdrive_config\\\":null,\\\"validation_dataset_id\\\":null,\\\"run_source\\\":null,\\\"metrics\\\":null,\\\"enable_metric_confidence\\\":false,\\\"enable_ensembling\\\":true,\\\"enable_stack_ensembling\\\":true,\\\"ensemble_iterations\\\":15,\\\"enable_tf\\\":false,\\\"enable_subsampling\\\":null,\\\"subsample_seed\\\":null,\\\"enable_nimbusml\\\":false,\\\"enable_streaming\\\":false,\\\"force_streaming\\\":false,\\\"track_child_runs\\\":true,\\\"allowed_private_models\\\":[],\\\"label_column_name\\\":\\\"HOME_TEAM_WINS\\\",\\\"weight_column_name\\\":null,\\\"cv_split_column_names\\\":null,\\\"enable_local_managed\\\":false,\\\"_local_managed_run_id\\\":null,\\\"cost_mode\\\":1,\\\"lag_length\\\":0,\\\"metric_operation\\\":\\\"maximize\\\",\\\"preprocess\\\":true}\", \"DataPrepJsonString\": null, \"EnableSubsampling\": null, \"runTemplate\": \"AutoML\", \"azureml.runsource\": \"automl\", \"display_task_type\": \"classification\", \"dependencies_versions\": \"{\\\"azureml-widgets\\\": \\\"1.44.0\\\", \\\"azureml-training-tabular\\\": \\\"1.44.0\\\", \\\"azureml-train\\\": \\\"1.44.0\\\", \\\"azureml-train-restclients-hyperdrive\\\": \\\"1.44.0\\\", \\\"azureml-train-core\\\": \\\"1.44.0\\\", \\\"azureml-train-automl\\\": \\\"1.44.0\\\", \\\"azureml-train-automl-runtime\\\": \\\"1.44.0\\\", \\\"azureml-train-automl-client\\\": \\\"1.44.0\\\", \\\"azureml-tensorboard\\\": \\\"1.44.0\\\", \\\"azureml-telemetry\\\": \\\"1.44.0\\\", \\\"azureml-sdk\\\": \\\"1.44.0\\\", \\\"azureml-samples\\\": \\\"0+unknown\\\", \\\"azureml-responsibleai\\\": \\\"1.44.0\\\", \\\"azureml-pipeline\\\": \\\"1.44.0\\\", \\\"azureml-pipeline-steps\\\": \\\"1.44.0\\\", \\\"azureml-pipeline-core\\\": \\\"1.44.0\\\", \\\"azureml-opendatasets\\\": \\\"1.44.0\\\", \\\"azureml-mlflow\\\": \\\"1.44.0\\\", \\\"azureml-interpret\\\": \\\"1.44.0\\\", \\\"azureml-inference-server-http\\\": \\\"0.7.4\\\", \\\"azureml-explain-model\\\": \\\"1.44.0\\\", \\\"azureml-defaults\\\": \\\"1.44.0\\\", \\\"azureml-dataset-runtime\\\": \\\"1.44.0\\\", \\\"azureml-dataprep\\\": \\\"4.2.2\\\", \\\"azureml-dataprep-rslex\\\": \\\"2.8.1\\\", \\\"azureml-dataprep-native\\\": \\\"38.0.0\\\", \\\"azureml-datadrift\\\": \\\"1.44.0\\\", \\\"azureml-core\\\": \\\"1.44.0\\\", \\\"azureml-contrib-services\\\": \\\"1.44.0\\\", \\\"azureml-contrib-server\\\": \\\"1.44.0\\\", \\\"azureml-contrib-reinforcementlearning\\\": \\\"1.44.0\\\", \\\"azureml-contrib-pipeline-steps\\\": \\\"1.44.0\\\", \\\"azureml-contrib-notebook\\\": \\\"1.44.0\\\", \\\"azureml-contrib-fairness\\\": \\\"1.44.0\\\", \\\"azureml-contrib-dataset\\\": \\\"1.44.0\\\", \\\"azureml-contrib-automl-pipeline-steps\\\": \\\"1.44.0\\\", \\\"azureml-cli-common\\\": \\\"1.44.0\\\", \\\"azureml-automl-runtime\\\": \\\"1.44.0\\\", \\\"azureml-automl-dnn-nlp\\\": \\\"1.44.0\\\", \\\"azureml-automl-core\\\": \\\"1.44.0\\\", \\\"azureml-accel-models\\\": \\\"1.44.0\\\"}\", \"_aml_system_scenario_identification\": \"Local.Parent\", \"ClientSdkVersion\": \"1.44.0\", \"ClientType\": \"SDK\", \"environment_cpu_name\": \"AzureML-AutoML\", \"environment_cpu_label\": \"prod\", \"environment_gpu_name\": \"AzureML-AutoML-GPU\", \"environment_gpu_label\": \"prod\", \"root_attribution\": \"automl\", \"attribution\": \"AutoML\", \"Orchestrator\": \"AutoML\", \"_azureml.ComputeTargetType\": \"local\", \"ProblemInfoJsonString\": \"{\\\"dataset_num_categorical\\\": 0, \\\"is_sparse\\\": false, \\\"subsampling\\\": false, \\\"has_extra_col\\\": true, \\\"dataset_classes\\\": 2, \\\"dataset_features\\\": 11, \\\"dataset_samples\\\": 21926, \\\"single_frequency_class_detected\\\": false}\"}, \"tags\": {\"model_explain_run\": \"best_run\", \"_aml_system_automl_run_workspace_id\": \"6c9b2c3c-52dc-4422-b662-df0d77e5caaa\", \"best_score\": \"0.9489711666046156\", \"best_pipeline\": \"VotingEnsemble\", \"automl_best_child_run_id\": \"AutoML_4fedc2bd-b32a-422b-b43d-8a9d288abd05_20\", \"model_explain_best_run_child_id\": \"AutoML_4fedc2bd-b32a-422b-b43d-8a9d288abd05_20\"}, \"end_time_utc\": \"2022-11-10T05:26:23.591101Z\", \"status\": \"Completed\", \"log_files\": {}, \"log_groups\": [], \"run_duration\": \"0:16:48\", \"run_number\": \"1668056974\", \"run_queued_details\": {\"status\": \"Completed\", \"details\": null}}, \"child_runs\": [{\"run_id\": \"AutoML_4fedc2bd-b32a-422b-b43d-8a9d288abd05_0\", \"run_number\": 1668057005, \"metric\": null, \"status\": \"Completed\", \"run_type\": null, \"training_percent\": \"100\", \"start_time\": \"2022-11-10T05:10:05.356637Z\", \"end_time\": \"2022-11-10T05:10:54.6672Z\", \"created_time\": \"2022-11-10T05:10:05.21417Z\", \"created_time_dt\": \"2022-11-10T05:10:05.21417Z\", \"duration\": \"0:00:49\", \"iteration\": \"0\", \"goal\": \"AUC_weighted_max\", \"run_name\": \"MaxAbsScaler, LightGBM\", \"run_properties\": \"copy=True\", \"primary_metric\": 0.94603483, \"best_metric\": 0.94603483}, {\"run_id\": \"AutoML_4fedc2bd-b32a-422b-b43d-8a9d288abd05_1\", \"run_number\": 1668057054, \"metric\": null, \"status\": \"Completed\", \"run_type\": null, \"training_percent\": \"100\", \"start_time\": \"2022-11-10T05:10:54.983843Z\", \"end_time\": \"2022-11-10T05:11:39.598185Z\", \"created_time\": \"2022-11-10T05:10:54.887747Z\", \"created_time_dt\": \"2022-11-10T05:10:54.887747Z\", \"duration\": \"0:00:44\", \"iteration\": \"1\", \"goal\": \"AUC_weighted_max\", \"run_name\": \"MaxAbsScaler, XGBoostClassifier\", \"run_properties\": \"copy=True\", \"primary_metric\": 0.9418416, \"best_metric\": 0.94603483}, {\"run_id\": \"AutoML_4fedc2bd-b32a-422b-b43d-8a9d288abd05_2\", \"run_number\": 1668057100, \"metric\": null, \"status\": \"Completed\", \"run_type\": null, \"training_percent\": \"100\", \"start_time\": \"2022-11-10T05:11:40.365491Z\", \"end_time\": \"2022-11-10T05:12:17.240692Z\", \"created_time\": \"2022-11-10T05:11:40.257067Z\", \"created_time_dt\": \"2022-11-10T05:11:40.257067Z\", \"duration\": \"0:00:36\", \"iteration\": \"2\", \"goal\": \"AUC_weighted_max\", \"run_name\": \"MaxAbsScaler, ExtremeRandomTrees\", \"run_properties\": \"copy=True\", \"primary_metric\": 0.90526287, \"best_metric\": 0.94603483}, {\"run_id\": \"AutoML_4fedc2bd-b32a-422b-b43d-8a9d288abd05_3\", \"run_number\": 1668057138, \"metric\": null, \"status\": \"Completed\", \"run_type\": null, \"training_percent\": \"100\", \"start_time\": \"2022-11-10T05:12:18.587723Z\", \"end_time\": \"2022-11-10T05:12:54.241973Z\", \"created_time\": \"2022-11-10T05:12:18.44191Z\", \"created_time_dt\": \"2022-11-10T05:12:18.44191Z\", \"duration\": \"0:00:35\", \"iteration\": \"3\", \"goal\": \"AUC_weighted_max\", \"run_name\": \"MaxAbsScaler, RandomForest\", \"run_properties\": \"copy=True\", \"primary_metric\": 0.91635962, \"best_metric\": 0.94603483}, {\"run_id\": \"AutoML_4fedc2bd-b32a-422b-b43d-8a9d288abd05_4\", \"run_number\": 1668057175, \"metric\": null, \"status\": \"Completed\", \"run_type\": null, \"training_percent\": \"100\", \"start_time\": \"2022-11-10T05:12:55.615707Z\", \"end_time\": \"2022-11-10T05:13:30.648876Z\", \"created_time\": \"2022-11-10T05:12:55.509799Z\", \"created_time_dt\": \"2022-11-10T05:12:55.509799Z\", \"duration\": \"0:00:35\", \"iteration\": \"4\", \"goal\": \"AUC_weighted_max\", \"run_name\": \"StandardScalerWrapper, LightGBM\", \"run_properties\": \"copy=True, with_mean=False, with_std=True\", \"primary_metric\": 0.92487752, \"best_metric\": 0.94603483}, {\"run_id\": \"AutoML_4fedc2bd-b32a-422b-b43d-8a9d288abd05_5\", \"run_number\": 1668057211, \"metric\": null, \"status\": \"Completed\", \"run_type\": null, \"training_percent\": \"100\", \"start_time\": \"2022-11-10T05:13:31.972035Z\", \"end_time\": \"2022-11-10T05:14:10.314866Z\", \"created_time\": \"2022-11-10T05:13:31.841472Z\", \"created_time_dt\": \"2022-11-10T05:13:31.841472Z\", \"duration\": \"0:00:38\", \"iteration\": \"5\", \"goal\": \"AUC_weighted_max\", \"run_name\": \"SparseNormalizer, XGBoostClassifier\", \"run_properties\": \"copy=True, norm='max'\", \"primary_metric\": 0.93299706, \"best_metric\": 0.94603483}, {\"run_id\": \"AutoML_4fedc2bd-b32a-422b-b43d-8a9d288abd05_6\", \"run_number\": 1668057251, \"metric\": null, \"status\": \"Completed\", \"run_type\": null, \"training_percent\": \"100\", \"start_time\": \"2022-11-10T05:14:11.695909Z\", \"end_time\": \"2022-11-10T05:15:02.285921Z\", \"created_time\": \"2022-11-10T05:14:11.573767Z\", \"created_time_dt\": \"2022-11-10T05:14:11.573767Z\", \"duration\": \"0:00:50\", \"iteration\": \"6\", \"goal\": \"AUC_weighted_max\", \"run_name\": \"SparseNormalizer, RandomForest\", \"run_properties\": \"copy=True, norm='l2'\", \"primary_metric\": 0.92525179, \"best_metric\": 0.94603483}, {\"run_id\": \"AutoML_4fedc2bd-b32a-422b-b43d-8a9d288abd05_7\", \"run_number\": 1668057303, \"metric\": null, \"status\": \"Completed\", \"run_type\": null, \"training_percent\": \"100\", \"start_time\": \"2022-11-10T05:15:03.709065Z\", \"end_time\": \"2022-11-10T05:15:44.752399Z\", \"created_time\": \"2022-11-10T05:15:03.512766Z\", \"created_time_dt\": \"2022-11-10T05:15:03.512766Z\", \"duration\": \"0:00:41\", \"iteration\": \"7\", \"goal\": \"AUC_weighted_max\", \"run_name\": \"MinMaxScaler, RandomForest\", \"run_properties\": \"copy=True, feature_range=(0, 1\", \"primary_metric\": 0.89554974, \"best_metric\": 0.94603483}, {\"run_id\": \"AutoML_4fedc2bd-b32a-422b-b43d-8a9d288abd05_8\", \"run_number\": 1668057345, \"metric\": null, \"status\": \"Completed\", \"run_type\": null, \"training_percent\": \"100\", \"start_time\": \"2022-11-10T05:15:46.070214Z\", \"end_time\": \"2022-11-10T05:16:21.858557Z\", \"created_time\": \"2022-11-10T05:15:45.958481Z\", \"created_time_dt\": \"2022-11-10T05:15:45.958481Z\", \"duration\": \"0:00:35\", \"iteration\": \"8\", \"goal\": \"AUC_weighted_max\", \"run_name\": \"StandardScalerWrapper, LogisticRegression\", \"run_properties\": \"copy=True, with_mean=True, with_std=True\", \"primary_metric\": 0.94581483, \"best_metric\": 0.94603483}, {\"run_id\": \"AutoML_4fedc2bd-b32a-422b-b43d-8a9d288abd05_9\", \"run_number\": 1668057383, \"metric\": null, \"status\": \"Completed\", \"run_type\": null, \"training_percent\": \"100\", \"start_time\": \"2022-11-10T05:16:23.166198Z\", \"end_time\": \"2022-11-10T05:17:02.305947Z\", \"created_time\": \"2022-11-10T05:16:23.019534Z\", \"created_time_dt\": \"2022-11-10T05:16:23.019534Z\", \"duration\": \"0:00:39\", \"iteration\": \"9\", \"goal\": \"AUC_weighted_max\", \"run_name\": \"StandardScalerWrapper, XGBoostClassifier\", \"run_properties\": \"copy=True, with_mean=False, with_std=False\", \"primary_metric\": 0.92393649, \"best_metric\": 0.94603483}, {\"run_id\": \"AutoML_4fedc2bd-b32a-422b-b43d-8a9d288abd05_10\", \"run_number\": 1668057423, \"metric\": null, \"status\": \"Completed\", \"run_type\": null, \"training_percent\": \"100\", \"start_time\": \"2022-11-10T05:17:03.710254Z\", \"end_time\": \"2022-11-10T05:17:41.252102Z\", \"created_time\": \"2022-11-10T05:17:03.577333Z\", \"created_time_dt\": \"2022-11-10T05:17:03.577333Z\", \"duration\": \"0:00:37\", \"iteration\": \"10\", \"goal\": \"AUC_weighted_max\", \"run_name\": \"RobustScaler, ExtremeRandomTrees\", \"run_properties\": \"copy=True, quantile_range=[10, 90], with_centering=True,\\n             with_scaling=False\", \"primary_metric\": 0.90822298, \"best_metric\": 0.94603483}, {\"run_id\": \"AutoML_4fedc2bd-b32a-422b-b43d-8a9d288abd05_11\", \"run_number\": 1668057462, \"metric\": null, \"status\": \"Completed\", \"run_type\": null, \"training_percent\": \"100\", \"start_time\": \"2022-11-10T05:17:42.761208Z\", \"end_time\": \"2022-11-10T05:18:22.033685Z\", \"created_time\": \"2022-11-10T05:17:42.623239Z\", \"created_time_dt\": \"2022-11-10T05:17:42.623239Z\", \"duration\": \"0:00:39\", \"iteration\": \"11\", \"goal\": \"AUC_weighted_max\", \"run_name\": \"SparseNormalizer, XGBoostClassifier\", \"run_properties\": \"copy=True, norm='max'\", \"primary_metric\": 0.93197692, \"best_metric\": 0.94603483}, {\"run_id\": \"AutoML_4fedc2bd-b32a-422b-b43d-8a9d288abd05_12\", \"run_number\": 1668057503, \"metric\": null, \"status\": \"Completed\", \"run_type\": null, \"training_percent\": \"100\", \"start_time\": \"2022-11-10T05:18:23.52579Z\", \"end_time\": \"2022-11-10T05:19:01.026407Z\", \"created_time\": \"2022-11-10T05:18:23.38971Z\", \"created_time_dt\": \"2022-11-10T05:18:23.38971Z\", \"duration\": \"0:00:37\", \"iteration\": \"12\", \"goal\": \"AUC_weighted_max\", \"run_name\": \"MinMaxScaler, ExtremeRandomTrees\", \"run_properties\": \"copy=True, feature_range=(0, 1\", \"primary_metric\": 0.9178244, \"best_metric\": 0.94603483}, {\"run_id\": \"AutoML_4fedc2bd-b32a-422b-b43d-8a9d288abd05_13\", \"run_number\": 1668057542, \"metric\": null, \"status\": \"Completed\", \"run_type\": null, \"training_percent\": \"100\", \"start_time\": \"2022-11-10T05:19:02.295955Z\", \"end_time\": \"2022-11-10T05:19:40.018708Z\", \"created_time\": \"2022-11-10T05:19:02.151854Z\", \"created_time_dt\": \"2022-11-10T05:19:02.151854Z\", \"duration\": \"0:00:37\", \"iteration\": \"13\", \"goal\": \"AUC_weighted_max\", \"run_name\": \"MinMaxScaler, ExtremeRandomTrees\", \"run_properties\": \"copy=True, feature_range=(0, 1\", \"primary_metric\": 0.92373235, \"best_metric\": 0.94603483}, {\"run_id\": \"AutoML_4fedc2bd-b32a-422b-b43d-8a9d288abd05_14\", \"run_number\": 1668057581, \"metric\": null, \"status\": \"Completed\", \"run_type\": null, \"training_percent\": \"100\", \"start_time\": \"2022-11-10T05:19:41.409943Z\", \"end_time\": \"2022-11-10T05:20:16.915538Z\", \"created_time\": \"2022-11-10T05:19:41.259007Z\", \"created_time_dt\": \"2022-11-10T05:19:41.259007Z\", \"duration\": \"0:00:35\", \"iteration\": \"14\", \"goal\": \"AUC_weighted_max\", \"run_name\": \"SparseNormalizer, LightGBM\", \"run_properties\": \"copy=True, norm='l1'\", \"primary_metric\": 0.9205715, \"best_metric\": 0.94603483}, {\"run_id\": \"AutoML_4fedc2bd-b32a-422b-b43d-8a9d288abd05_15\", \"run_number\": 1668057618, \"metric\": null, \"status\": \"Completed\", \"run_type\": null, \"training_percent\": \"100\", \"start_time\": \"2022-11-10T05:20:18.448108Z\", \"end_time\": \"2022-11-10T05:21:04.669235Z\", \"created_time\": \"2022-11-10T05:20:18.302519Z\", \"created_time_dt\": \"2022-11-10T05:20:18.302519Z\", \"duration\": \"0:00:46\", \"iteration\": \"15\", \"goal\": \"AUC_weighted_max\", \"run_name\": \"MaxAbsScaler, ExtremeRandomTrees\", \"run_properties\": \"copy=True\", \"primary_metric\": 0.92851511, \"best_metric\": 0.94603483}, {\"run_id\": \"AutoML_4fedc2bd-b32a-422b-b43d-8a9d288abd05_16\", \"run_number\": 1668057665, \"metric\": null, \"status\": \"Completed\", \"run_type\": null, \"training_percent\": \"100\", \"start_time\": \"2022-11-10T05:21:06.047867Z\", \"end_time\": \"2022-11-10T05:21:50.706151Z\", \"created_time\": \"2022-11-10T05:21:05.91256Z\", \"created_time_dt\": \"2022-11-10T05:21:05.91256Z\", \"duration\": \"0:00:44\", \"iteration\": \"16\", \"goal\": \"AUC_weighted_max\", \"run_name\": \"StandardScalerWrapper, XGBoostClassifier\", \"run_properties\": \"copy=True, with_mean=False, with_std=False\", \"primary_metric\": 0.93980881, \"best_metric\": 0.94603483}, {\"run_id\": \"AutoML_4fedc2bd-b32a-422b-b43d-8a9d288abd05_17\", \"run_number\": 1668057711, \"metric\": null, \"status\": \"Completed\", \"run_type\": null, \"training_percent\": \"100\", \"start_time\": \"2022-11-10T05:21:52.139415Z\", \"end_time\": \"2022-11-10T05:23:14.26108Z\", \"created_time\": \"2022-11-10T05:21:51.986838Z\", \"created_time_dt\": \"2022-11-10T05:21:51.986838Z\", \"duration\": \"0:01:22\", \"iteration\": \"17\", \"goal\": \"AUC_weighted_max\", \"run_name\": \"StandardScalerWrapper, RandomForest\", \"run_properties\": \"copy=True, with_mean=False, with_std=False\", \"primary_metric\": 0.9374642, \"best_metric\": 0.94603483}, {\"run_id\": \"AutoML_4fedc2bd-b32a-422b-b43d-8a9d288abd05_18\", \"run_number\": 1668057795, \"metric\": null, \"status\": \"Completed\", \"run_type\": null, \"training_percent\": \"100\", \"start_time\": \"2022-11-10T05:23:15.893928Z\", \"end_time\": \"2022-11-10T05:24:18.87641Z\", \"created_time\": \"2022-11-10T05:23:15.67724Z\", \"created_time_dt\": \"2022-11-10T05:23:15.67724Z\", \"duration\": \"0:01:03\", \"iteration\": \"18\", \"goal\": \"AUC_weighted_max\", \"run_name\": \"MaxAbsScaler, LightGBM\", \"run_properties\": \"copy=True\", \"primary_metric\": 0.9373787, \"best_metric\": 0.94603483}, {\"run_id\": \"AutoML_4fedc2bd-b32a-422b-b43d-8a9d288abd05_19\", \"run_number\": 1668057860, \"metric\": null, \"status\": \"Completed\", \"run_type\": null, \"training_percent\": \"100\", \"start_time\": \"2022-11-10T05:24:20.372061Z\", \"end_time\": \"2022-11-10T05:25:00.591547Z\", \"created_time\": \"2022-11-10T05:24:20.193228Z\", \"created_time_dt\": \"2022-11-10T05:24:20.193228Z\", \"duration\": \"0:00:40\", \"iteration\": \"19\", \"goal\": \"AUC_weighted_max\", \"run_name\": \"MaxAbsScaler, LogisticRegression\", \"run_properties\": \"copy=True\", \"primary_metric\": 0.9458283, \"best_metric\": 0.94603483}, {\"run_id\": \"AutoML_4fedc2bd-b32a-422b-b43d-8a9d288abd05_20\", \"run_number\": 1668057900, \"metric\": null, \"status\": \"Completed\", \"run_type\": null, \"training_percent\": \"100\", \"start_time\": \"2022-11-10T05:25:00.928229Z\", \"end_time\": \"2022-11-10T05:25:38.725287Z\", \"created_time\": \"2022-11-10T05:25:00.793619Z\", \"created_time_dt\": \"2022-11-10T05:25:00.793619Z\", \"duration\": \"0:00:37\", \"iteration\": \"20\", \"goal\": \"AUC_weighted_max\", \"run_name\": \"VotingEnsemble\", \"run_properties\": \"classification_labels=numpy.array([0, 1]\", \"primary_metric\": 0.94897117, \"best_metric\": 0.94897117}, {\"run_id\": \"AutoML_4fedc2bd-b32a-422b-b43d-8a9d288abd05_21\", \"run_number\": 1668057938, \"metric\": null, \"status\": \"Completed\", \"run_type\": null, \"training_percent\": \"100\", \"start_time\": \"2022-11-10T05:25:39.097772Z\", \"end_time\": \"2022-11-10T05:26:23.185481Z\", \"created_time\": \"2022-11-10T05:25:38.964672Z\", \"created_time_dt\": \"2022-11-10T05:25:38.964672Z\", \"duration\": \"0:00:44\", \"iteration\": \"21\", \"goal\": \"AUC_weighted_max\", \"run_name\": \"StackEnsemble\", \"run_properties\": \"base_learners=[('0', Pipeline(memory=None, steps=[('maxabsscaler', MaxAbsScaler(copy=True\", \"primary_metric\": 0.94865141, \"best_metric\": 0.94897117}], \"children_metrics\": {\"categories\": [0], \"series\": {\"average_precision_score_weighted\": [{\"categories\": [\"0\", \"1\", \"2\", \"3\", \"4\", \"5\", \"6\", \"7\", \"8\", \"9\", \"10\", \"11\", \"12\", \"13\", \"14\", \"15\", \"16\", \"17\", \"18\", \"19\", \"20\", \"21\"], \"mode\": \"markers\", \"name\": \"average_precision_score_weighted\", \"stepped\": false, \"type\": \"scatter\", \"data\": [0.9485417584619574, 0.9444098206093061, 0.9087188863588661, 0.91962973993133, 0.927977769773272, 0.935405709445003, 0.9280850250576177, 0.8987041922858818, 0.948211693945674, 0.926234771884349, 0.9119456015830214, 0.9345697584488161, 0.9211685356908584, 0.9271300426144341, 0.9235030457421006, 0.9317697151035929, 0.9423371394048942, 0.9383800911695507, 0.9399729495977551, 0.9482204472909714, 0.9513611264927344, 0.9510108392981661]}, {\"categories\": [\"0\", \"1\", \"2\", \"3\", \"4\", \"5\", \"6\", \"7\", \"8\", \"9\", \"10\", \"11\", \"12\", \"13\", \"14\", \"15\", \"16\", \"17\", \"18\", \"19\", \"20\", \"21\"], \"mode\": \"lines\", \"name\": \"average_precision_score_weighted_max\", \"stepped\": true, \"type\": \"scatter\", \"data\": [0.9485417584619574, 0.9485417584619574, 0.9485417584619574, 0.9485417584619574, 0.9485417584619574, 0.9485417584619574, 0.9485417584619574, 0.9485417584619574, 0.9485417584619574, 0.9485417584619574, 0.9485417584619574, 0.9485417584619574, 0.9485417584619574, 0.9485417584619574, 0.9485417584619574, 0.9485417584619574, 0.9485417584619574, 0.9485417584619574, 0.9485417584619574, 0.9485417584619574, 0.9513611264927344, 0.9513611264927344]}], \"average_precision_score_macro\": [{\"categories\": [\"0\", \"1\", \"2\", \"3\", \"4\", \"5\", \"6\", \"7\", \"8\", \"9\", \"10\", \"11\", \"12\", \"13\", \"14\", \"15\", \"16\", \"17\", \"18\", \"19\", \"20\", \"21\"], \"mode\": \"markers\", \"name\": \"average_precision_score_macro\", \"stepped\": false, \"type\": \"scatter\", \"data\": [0.945792188103856, 0.9415010939188172, 0.9038762439383342, 0.9154243165869457, 0.9241021678850233, 0.9320636585922638, 0.9244560150390869, 0.8932612877481744, 0.9454969410086922, 0.922494218933917, 0.9071812406660236, 0.931362601684392, 0.9169740501585766, 0.9232840642511443, 0.91959025891622, 0.9281308987043716, 0.9392712733408765, 0.9352889293430579, 0.9368456829013346, 0.9454942688013629, 0.9487396074402269, 0.9483762869039486]}, {\"categories\": [\"0\", \"1\", \"2\", \"3\", \"4\", \"5\", \"6\", \"7\", \"8\", \"9\", \"10\", \"11\", \"12\", \"13\", \"14\", \"15\", \"16\", \"17\", \"18\", \"19\", \"20\", \"21\"], \"mode\": \"lines\", \"name\": \"average_precision_score_macro_max\", \"stepped\": true, \"type\": \"scatter\", \"data\": [0.945792188103856, 0.945792188103856, 0.945792188103856, 0.945792188103856, 0.945792188103856, 0.945792188103856, 0.945792188103856, 0.945792188103856, 0.945792188103856, 0.945792188103856, 0.945792188103856, 0.945792188103856, 0.945792188103856, 0.945792188103856, 0.945792188103856, 0.945792188103856, 0.945792188103856, 0.945792188103856, 0.945792188103856, 0.945792188103856, 0.9487396074402269, 0.9487396074402269]}], \"average_precision_score_micro\": [{\"categories\": [\"0\", \"1\", \"2\", \"3\", \"4\", \"5\", \"6\", \"7\", \"8\", \"9\", \"10\", \"11\", \"12\", \"13\", \"14\", \"15\", \"16\", \"17\", \"18\", \"19\", \"20\", \"21\"], \"mode\": \"markers\", \"name\": \"average_precision_score_micro\", \"stepped\": false, \"type\": \"scatter\", \"data\": [0.9498074778447307, 0.9457199319274695, 0.904215816949859, 0.9207445867889774, 0.9275491739964048, 0.9368137527304627, 0.9273094571325412, 0.8994512597832357, 0.9495138544858562, 0.9279349784712959, 0.9093102353285832, 0.9361521149259362, 0.9208691094720295, 0.9255791195903321, 0.9241739795093314, 0.9300464994935392, 0.9436455129661421, 0.9397604948214991, 0.9380344524572853, 0.9474366085195648, 0.9525692085445309, 0.9516602482233658]}, {\"categories\": [\"0\", \"1\", \"2\", \"3\", \"4\", \"5\", \"6\", \"7\", \"8\", \"9\", \"10\", \"11\", \"12\", \"13\", \"14\", \"15\", \"16\", \"17\", \"18\", \"19\", \"20\", \"21\"], \"mode\": \"lines\", \"name\": \"average_precision_score_micro_max\", \"stepped\": true, \"type\": \"scatter\", \"data\": [0.9498074778447307, 0.9498074778447307, 0.9498074778447307, 0.9498074778447307, 0.9498074778447307, 0.9498074778447307, 0.9498074778447307, 0.9498074778447307, 0.9498074778447307, 0.9498074778447307, 0.9498074778447307, 0.9498074778447307, 0.9498074778447307, 0.9498074778447307, 0.9498074778447307, 0.9498074778447307, 0.9498074778447307, 0.9498074778447307, 0.9498074778447307, 0.9498074778447307, 0.9525692085445309, 0.9525692085445309]}], \"recall_score_macro\": [{\"categories\": [\"0\", \"1\", \"2\", \"3\", \"4\", \"5\", \"6\", \"7\", \"8\", \"9\", \"10\", \"11\", \"12\", \"13\", \"14\", \"15\", \"16\", \"17\", \"18\", \"19\", \"20\", \"21\"], \"mode\": \"markers\", \"name\": \"recall_score_macro\", \"stepped\": false, \"type\": \"scatter\", \"data\": [0.8634855087219898, 0.8588790849497633, 0.7975913650291374, 0.8212602593897443, 0.8262987518280553, 0.8479124379592838, 0.8432226033778908, 0.7921807114773639, 0.8623587997598269, 0.8387021378065104, 0.8213181844298957, 0.847481948763304, 0.8186928163447197, 0.8399507928250797, 0.8266063071303914, 0.8481052972397992, 0.8546841068783492, 0.8546717856805434, 0.846793491998786, 0.8653407854751677, 0.868559323455746, 0.8691513282751625]}, {\"categories\": [\"0\", \"1\", \"2\", \"3\", \"4\", \"5\", \"6\", \"7\", \"8\", \"9\", \"10\", \"11\", \"12\", \"13\", \"14\", \"15\", \"16\", \"17\", \"18\", \"19\", \"20\", \"21\"], \"mode\": \"lines\", \"name\": \"recall_score_macro_max\", \"stepped\": true, \"type\": \"scatter\", \"data\": [0.8634855087219898, 0.8634855087219898, 0.8634855087219898, 0.8634855087219898, 0.8634855087219898, 0.8634855087219898, 0.8634855087219898, 0.8634855087219898, 0.8634855087219898, 0.8634855087219898, 0.8634855087219898, 0.8634855087219898, 0.8634855087219898, 0.8634855087219898, 0.8634855087219898, 0.8634855087219898, 0.8634855087219898, 0.8634855087219898, 0.8634855087219898, 0.8653407854751677, 0.868559323455746, 0.8691513282751625]}], \"f1_score_weighted\": [{\"categories\": [\"0\", \"1\", \"2\", \"3\", \"4\", \"5\", \"6\", \"7\", \"8\", \"9\", \"10\", \"11\", \"12\", \"13\", \"14\", \"15\", \"16\", \"17\", \"18\", \"19\", \"20\", \"21\"], \"mode\": \"markers\", \"name\": \"f1_score_weighted\", \"stepped\": false, \"type\": \"scatter\", \"data\": [0.8696457736412745, 0.865126678729833, 0.813932453938078, 0.831707775205624, 0.8385989522861367, 0.855373713581966, 0.844505547916866, 0.8063696704631624, 0.8685162562123762, 0.846296398623502, 0.8205347682021316, 0.8545980914572815, 0.831397494784963, 0.8398731944497978, 0.8375474545098017, 0.8474845434469557, 0.8621594042095554, 0.8617426854823892, 0.8570569203091226, 0.8661478506738081, 0.8739619526735739, 0.8743963691730973]}, {\"categories\": [\"0\", \"1\", \"2\", \"3\", \"4\", \"5\", \"6\", \"7\", \"8\", \"9\", \"10\", \"11\", \"12\", \"13\", \"14\", \"15\", \"16\", \"17\", \"18\", \"19\", \"20\", \"21\"], \"mode\": \"lines\", \"name\": \"f1_score_weighted_max\", \"stepped\": true, \"type\": \"scatter\", \"data\": [0.8696457736412745, 0.8696457736412745, 0.8696457736412745, 0.8696457736412745, 0.8696457736412745, 0.8696457736412745, 0.8696457736412745, 0.8696457736412745, 0.8696457736412745, 0.8696457736412745, 0.8696457736412745, 0.8696457736412745, 0.8696457736412745, 0.8696457736412745, 0.8696457736412745, 0.8696457736412745, 0.8696457736412745, 0.8696457736412745, 0.8696457736412745, 0.8696457736412745, 0.8739619526735739, 0.8743963691730973]}], \"f1_score_macro\": [{\"categories\": [\"0\", \"1\", \"2\", \"3\", \"4\", \"5\", \"6\", \"7\", \"8\", \"9\", \"10\", \"11\", \"12\", \"13\", \"14\", \"15\", \"16\", \"17\", \"18\", \"19\", \"20\", \"21\"], \"mode\": \"markers\", \"name\": \"f1_score_macro\", \"stepped\": false, \"type\": \"scatter\", \"data\": [0.8651531956067994, 0.8604652832927391, 0.8051246172232354, 0.8251404771984895, 0.8318769510410857, 0.8502001376191094, 0.8401876825281248, 0.7978850323555332, 0.8639712920903095, 0.8408221369783241, 0.816152796708435, 0.8494545763312494, 0.8243053546150909, 0.8357020351345436, 0.8311043385985514, 0.8435419258929491, 0.8571895803605575, 0.8568411292132619, 0.8514413206956016, 0.862368878718191, 0.8696975478028808, 0.8701681281706021]}, {\"categories\": [\"0\", \"1\", \"2\", \"3\", \"4\", \"5\", \"6\", \"7\", \"8\", \"9\", \"10\", \"11\", \"12\", \"13\", \"14\", \"15\", \"16\", \"17\", \"18\", \"19\", \"20\", \"21\"], \"mode\": \"lines\", \"name\": \"f1_score_macro_max\", \"stepped\": true, \"type\": \"scatter\", \"data\": [0.8651531956067994, 0.8651531956067994, 0.8651531956067994, 0.8651531956067994, 0.8651531956067994, 0.8651531956067994, 0.8651531956067994, 0.8651531956067994, 0.8651531956067994, 0.8651531956067994, 0.8651531956067994, 0.8651531956067994, 0.8651531956067994, 0.8651531956067994, 0.8651531956067994, 0.8651531956067994, 0.8651531956067994, 0.8651531956067994, 0.8651531956067994, 0.8651531956067994, 0.8696975478028808, 0.8701681281706021]}], \"balanced_accuracy\": [{\"categories\": [\"0\", \"1\", \"2\", \"3\", \"4\", \"5\", \"6\", \"7\", \"8\", \"9\", \"10\", \"11\", \"12\", \"13\", \"14\", \"15\", \"16\", \"17\", \"18\", \"19\", \"20\", \"21\"], \"mode\": \"markers\", \"name\": \"balanced_accuracy\", \"stepped\": false, \"type\": \"scatter\", \"data\": [0.8634855087219898, 0.8588790849497633, 0.7975913650291374, 0.8212602593897443, 0.8262987518280553, 0.8479124379592838, 0.8432226033778908, 0.7921807114773639, 0.8623587997598269, 0.8387021378065104, 0.8213181844298957, 0.847481948763304, 0.8186928163447197, 0.8399507928250797, 0.8266063071303914, 0.8481052972397992, 0.8546841068783492, 0.8546717856805434, 0.846793491998786, 0.8653407854751677, 0.868559323455746, 0.8691513282751625]}, {\"categories\": [\"0\", \"1\", \"2\", \"3\", \"4\", \"5\", \"6\", \"7\", \"8\", \"9\", \"10\", \"11\", \"12\", \"13\", \"14\", \"15\", \"16\", \"17\", \"18\", \"19\", \"20\", \"21\"], \"mode\": \"lines\", \"name\": \"balanced_accuracy_max\", \"stepped\": true, \"type\": \"scatter\", \"data\": [0.8634855087219898, 0.8634855087219898, 0.8634855087219898, 0.8634855087219898, 0.8634855087219898, 0.8634855087219898, 0.8634855087219898, 0.8634855087219898, 0.8634855087219898, 0.8634855087219898, 0.8634855087219898, 0.8634855087219898, 0.8634855087219898, 0.8634855087219898, 0.8634855087219898, 0.8634855087219898, 0.8634855087219898, 0.8634855087219898, 0.8634855087219898, 0.8653407854751677, 0.868559323455746, 0.8691513282751625]}], \"recall_score_weighted\": [{\"categories\": [\"0\", \"1\", \"2\", \"3\", \"4\", \"5\", \"6\", \"7\", \"8\", \"9\", \"10\", \"11\", \"12\", \"13\", \"14\", \"15\", \"16\", \"17\", \"18\", \"19\", \"20\", \"21\"], \"mode\": \"markers\", \"name\": \"recall_score_weighted\", \"stepped\": false, \"type\": \"scatter\", \"data\": [0.869971406340125, 0.8654563811267167, 0.8179782574057936, 0.8330292504893021, 0.8405087948069911, 0.8559244102233143, 0.843929428816507, 0.8092220481610511, 0.8688314279838192, 0.8468484730981135, 0.8195290942635972, 0.8550579797436529, 0.8334852218620931, 0.8390949815091521, 0.8390036324691756, 0.8467116804381679, 0.8627199725196527, 0.8622182579809219, 0.8582956910137381, 0.8656845789915081, 0.8741675336650356, 0.8745779927719058]}, {\"categories\": [\"0\", \"1\", \"2\", \"3\", \"4\", \"5\", \"6\", \"7\", \"8\", \"9\", \"10\", \"11\", \"12\", \"13\", \"14\", \"15\", \"16\", \"17\", \"18\", \"19\", \"20\", \"21\"], \"mode\": \"lines\", \"name\": \"recall_score_weighted_max\", \"stepped\": true, \"type\": \"scatter\", \"data\": [0.869971406340125, 0.869971406340125, 0.869971406340125, 0.869971406340125, 0.869971406340125, 0.869971406340125, 0.869971406340125, 0.869971406340125, 0.869971406340125, 0.869971406340125, 0.869971406340125, 0.869971406340125, 0.869971406340125, 0.869971406340125, 0.869971406340125, 0.869971406340125, 0.869971406340125, 0.869971406340125, 0.869971406340125, 0.869971406340125, 0.8741675336650356, 0.8745779927719058]}], \"log_loss\": [{\"categories\": [\"0\", \"1\", \"2\", \"3\", \"4\", \"5\", \"6\", \"7\", \"8\", \"9\", \"10\", \"11\", \"12\", \"13\", \"14\", \"15\", \"16\", \"17\", \"18\", \"19\", \"20\", \"21\"], \"mode\": \"markers\", \"name\": \"log_loss\", \"stepped\": false, \"type\": \"scatter\", \"data\": [0.2911942646669579, 0.3103909896762452, 0.4683392811800043, 0.3911790616770166, 0.4053839996269432, 0.33003562302778083, 0.3738224966961719, 0.43191973278799506, 0.29058302747573367, 0.3506622038995369, 0.5106846513250071, 0.32961593218735946, 0.4194149465190515, 0.39775596791260687, 0.39128655031790444, 0.5117587964983973, 0.3335088417745866, 0.3251232569557349, 0.40184010475979964, 0.29635336212317576, 0.28488757018134825, 0.2975758274659959]}, {\"categories\": [\"0\", \"1\", \"2\", \"3\", \"4\", \"5\", \"6\", \"7\", \"8\", \"9\", \"10\", \"11\", \"12\", \"13\", \"14\", \"15\", \"16\", \"17\", \"18\", \"19\", \"20\", \"21\"], \"mode\": \"lines\", \"name\": \"log_loss_min\", \"stepped\": true, \"type\": \"scatter\", \"data\": [0.2911942646669579, 0.2911942646669579, 0.2911942646669579, 0.2911942646669579, 0.2911942646669579, 0.2911942646669579, 0.2911942646669579, 0.2911942646669579, 0.29058302747573367, 0.29058302747573367, 0.29058302747573367, 0.29058302747573367, 0.29058302747573367, 0.29058302747573367, 0.29058302747573367, 0.29058302747573367, 0.29058302747573367, 0.29058302747573367, 0.29058302747573367, 0.29058302747573367, 0.28488757018134825, 0.28488757018134825]}], \"norm_macro_recall\": [{\"categories\": [\"0\", \"1\", \"2\", \"3\", \"4\", \"5\", \"6\", \"7\", \"8\", \"9\", \"10\", \"11\", \"12\", \"13\", \"14\", \"15\", \"16\", \"17\", \"18\", \"19\", \"20\", \"21\"], \"mode\": \"markers\", \"name\": \"norm_macro_recall\", \"stepped\": false, \"type\": \"scatter\", \"data\": [0.7269710174439797, 0.7177581698995267, 0.5951827300582749, 0.6425205187794888, 0.6525975036561108, 0.6958248759185676, 0.6864452067557817, 0.5843614229547278, 0.7247175995196539, 0.677404275613021, 0.6426363688597916, 0.6949638975266077, 0.6373856326894394, 0.6799015856501592, 0.6532126142607829, 0.6962105944795983, 0.7093682137566985, 0.7093435713610866, 0.6935869839975717, 0.7306815709503353, 0.7371186469114922, 0.7383026565503249]}, {\"categories\": [\"0\", \"1\", \"2\", \"3\", \"4\", \"5\", \"6\", \"7\", \"8\", \"9\", \"10\", \"11\", \"12\", \"13\", \"14\", \"15\", \"16\", \"17\", \"18\", \"19\", \"20\", \"21\"], \"mode\": \"lines\", \"name\": \"norm_macro_recall_max\", \"stepped\": true, \"type\": \"scatter\", \"data\": [0.7269710174439797, 0.7269710174439797, 0.7269710174439797, 0.7269710174439797, 0.7269710174439797, 0.7269710174439797, 0.7269710174439797, 0.7269710174439797, 0.7269710174439797, 0.7269710174439797, 0.7269710174439797, 0.7269710174439797, 0.7269710174439797, 0.7269710174439797, 0.7269710174439797, 0.7269710174439797, 0.7269710174439797, 0.7269710174439797, 0.7269710174439797, 0.7306815709503353, 0.7371186469114922, 0.7383026565503249]}], \"recall_score_micro\": [{\"categories\": [\"0\", \"1\", \"2\", \"3\", \"4\", \"5\", \"6\", \"7\", \"8\", \"9\", \"10\", \"11\", \"12\", \"13\", \"14\", \"15\", \"16\", \"17\", \"18\", \"19\", \"20\", \"21\"], \"mode\": \"markers\", \"name\": \"recall_score_micro\", \"stepped\": false, \"type\": \"scatter\", \"data\": [0.869971406340125, 0.8654563811267167, 0.8179782574057936, 0.8330292504893021, 0.8405087948069911, 0.8559244102233143, 0.843929428816507, 0.8092220481610511, 0.8688314279838192, 0.8468484730981135, 0.8195290942635972, 0.8550579797436529, 0.8334852218620931, 0.8390949815091521, 0.8390036324691756, 0.8467116804381679, 0.8627199725196527, 0.8622182579809219, 0.8582956910137381, 0.8656845789915081, 0.8741675336650356, 0.8745779927719058]}, {\"categories\": [\"0\", \"1\", \"2\", \"3\", \"4\", \"5\", \"6\", \"7\", \"8\", \"9\", \"10\", \"11\", \"12\", \"13\", \"14\", \"15\", \"16\", \"17\", \"18\", \"19\", \"20\", \"21\"], \"mode\": \"lines\", \"name\": \"recall_score_micro_max\", \"stepped\": true, \"type\": \"scatter\", \"data\": [0.869971406340125, 0.869971406340125, 0.869971406340125, 0.869971406340125, 0.869971406340125, 0.869971406340125, 0.869971406340125, 0.869971406340125, 0.869971406340125, 0.869971406340125, 0.869971406340125, 0.869971406340125, 0.869971406340125, 0.869971406340125, 0.869971406340125, 0.869971406340125, 0.869971406340125, 0.869971406340125, 0.869971406340125, 0.869971406340125, 0.8741675336650356, 0.8745779927719058]}], \"AUC_weighted\": [{\"categories\": [\"0\", \"1\", \"2\", \"3\", \"4\", \"5\", \"6\", \"7\", \"8\", \"9\", \"10\", \"11\", \"12\", \"13\", \"14\", \"15\", \"16\", \"17\", \"18\", \"19\", \"20\", \"21\"], \"mode\": \"markers\", \"name\": \"AUC_weighted\", \"stepped\": false, \"type\": \"scatter\", \"data\": [0.9460348279956988, 0.9418416005439653, 0.9052628667792723, 0.9163596166735736, 0.9248775174009581, 0.93299706348098, 0.925251789988923, 0.8955497417996328, 0.9458148276810694, 0.9239364931554097, 0.9082229782710436, 0.931976924300144, 0.9178243955634112, 0.9237323537903267, 0.9205714955668934, 0.9285151143567677, 0.9398088115141344, 0.9374641955840671, 0.9373787048254952, 0.9458283016136712, 0.9489711666046156, 0.9486514128402287]}, {\"categories\": [\"0\", \"1\", \"2\", \"3\", \"4\", \"5\", \"6\", \"7\", \"8\", \"9\", \"10\", \"11\", \"12\", \"13\", \"14\", \"15\", \"16\", \"17\", \"18\", \"19\", \"20\", \"21\"], \"mode\": \"lines\", \"name\": \"AUC_weighted_max\", \"stepped\": true, \"type\": \"scatter\", \"data\": [0.9460348279956988, 0.9460348279956988, 0.9460348279956988, 0.9460348279956988, 0.9460348279956988, 0.9460348279956988, 0.9460348279956988, 0.9460348279956988, 0.9460348279956988, 0.9460348279956988, 0.9460348279956988, 0.9460348279956988, 0.9460348279956988, 0.9460348279956988, 0.9460348279956988, 0.9460348279956988, 0.9460348279956988, 0.9460348279956988, 0.9460348279956988, 0.9460348279956988, 0.9489711666046156, 0.9489711666046156]}], \"AUC_macro\": [{\"categories\": [\"0\", \"1\", \"2\", \"3\", \"4\", \"5\", \"6\", \"7\", \"8\", \"9\", \"10\", \"11\", \"12\", \"13\", \"14\", \"15\", \"16\", \"17\", \"18\", \"19\", \"20\", \"21\"], \"mode\": \"markers\", \"name\": \"AUC_macro\", \"stepped\": false, \"type\": \"scatter\", \"data\": [0.9460348279956988, 0.9418416005439653, 0.9052628667792723, 0.9163596166735738, 0.924877517400958, 0.93299706348098, 0.9252517899889229, 0.8955497417996328, 0.9458148276810695, 0.9239364931554097, 0.9082229782710437, 0.931976924300144, 0.9178243955634112, 0.9237323537903267, 0.9205714955668934, 0.9285151143567676, 0.9398088115141346, 0.9374641955840671, 0.9373787048254952, 0.9458283016136712, 0.9489711666046156, 0.9486514128402287]}, {\"categories\": [\"0\", \"1\", \"2\", \"3\", \"4\", \"5\", \"6\", \"7\", \"8\", \"9\", \"10\", \"11\", \"12\", \"13\", \"14\", \"15\", \"16\", \"17\", \"18\", \"19\", \"20\", \"21\"], \"mode\": \"lines\", \"name\": \"AUC_macro_max\", \"stepped\": true, \"type\": \"scatter\", \"data\": [0.9460348279956988, 0.9460348279956988, 0.9460348279956988, 0.9460348279956988, 0.9460348279956988, 0.9460348279956988, 0.9460348279956988, 0.9460348279956988, 0.9460348279956988, 0.9460348279956988, 0.9460348279956988, 0.9460348279956988, 0.9460348279956988, 0.9460348279956988, 0.9460348279956988, 0.9460348279956988, 0.9460348279956988, 0.9460348279956988, 0.9460348279956988, 0.9460348279956988, 0.9489711666046156, 0.9489711666046156]}], \"precision_score_micro\": [{\"categories\": [\"0\", \"1\", \"2\", \"3\", \"4\", \"5\", \"6\", \"7\", \"8\", \"9\", \"10\", \"11\", \"12\", \"13\", \"14\", \"15\", \"16\", \"17\", \"18\", \"19\", \"20\", \"21\"], \"mode\": \"markers\", \"name\": \"precision_score_micro\", \"stepped\": false, \"type\": \"scatter\", \"data\": [0.869971406340125, 0.8654563811267167, 0.8179782574057936, 0.8330292504893021, 0.8405087948069911, 0.8559244102233143, 0.843929428816507, 0.8092220481610511, 0.8688314279838192, 0.8468484730981135, 0.8195290942635972, 0.8550579797436529, 0.8334852218620931, 0.8390949815091521, 0.8390036324691756, 0.8467116804381679, 0.8627199725196527, 0.8622182579809219, 0.8582956910137381, 0.8656845789915081, 0.8741675336650356, 0.8745779927719058]}, {\"categories\": [\"0\", \"1\", \"2\", \"3\", \"4\", \"5\", \"6\", \"7\", \"8\", \"9\", \"10\", \"11\", \"12\", \"13\", \"14\", \"15\", \"16\", \"17\", \"18\", \"19\", \"20\", \"21\"], \"mode\": \"lines\", \"name\": \"precision_score_micro_max\", \"stepped\": true, \"type\": \"scatter\", \"data\": [0.869971406340125, 0.869971406340125, 0.869971406340125, 0.869971406340125, 0.869971406340125, 0.869971406340125, 0.869971406340125, 0.869971406340125, 0.869971406340125, 0.869971406340125, 0.869971406340125, 0.869971406340125, 0.869971406340125, 0.869971406340125, 0.869971406340125, 0.869971406340125, 0.869971406340125, 0.869971406340125, 0.869971406340125, 0.869971406340125, 0.8741675336650356, 0.8745779927719058]}], \"accuracy\": [{\"categories\": [\"0\", \"1\", \"2\", \"3\", \"4\", \"5\", \"6\", \"7\", \"8\", \"9\", \"10\", \"11\", \"12\", \"13\", \"14\", \"15\", \"16\", \"17\", \"18\", \"19\", \"20\", \"21\"], \"mode\": \"markers\", \"name\": \"accuracy\", \"stepped\": false, \"type\": \"scatter\", \"data\": [0.869971406340125, 0.8654563811267167, 0.8179782574057936, 0.8330292504893021, 0.8405087948069911, 0.8559244102233143, 0.843929428816507, 0.8092220481610511, 0.8688314279838192, 0.8468484730981135, 0.8195290942635972, 0.8550579797436529, 0.8334852218620931, 0.8390949815091521, 0.8390036324691756, 0.8467116804381679, 0.8627199725196527, 0.8622182579809219, 0.8582956910137381, 0.8656845789915081, 0.8741675336650356, 0.8745779927719058]}, {\"categories\": [\"0\", \"1\", \"2\", \"3\", \"4\", \"5\", \"6\", \"7\", \"8\", \"9\", \"10\", \"11\", \"12\", \"13\", \"14\", \"15\", \"16\", \"17\", \"18\", \"19\", \"20\", \"21\"], \"mode\": \"lines\", \"name\": \"accuracy_max\", \"stepped\": true, \"type\": \"scatter\", \"data\": [0.869971406340125, 0.869971406340125, 0.869971406340125, 0.869971406340125, 0.869971406340125, 0.869971406340125, 0.869971406340125, 0.869971406340125, 0.869971406340125, 0.869971406340125, 0.869971406340125, 0.869971406340125, 0.869971406340125, 0.869971406340125, 0.869971406340125, 0.869971406340125, 0.869971406340125, 0.869971406340125, 0.869971406340125, 0.869971406340125, 0.8741675336650356, 0.8745779927719058]}], \"precision_score_weighted\": [{\"categories\": [\"0\", \"1\", \"2\", \"3\", \"4\", \"5\", \"6\", \"7\", \"8\", \"9\", \"10\", \"11\", \"12\", \"13\", \"14\", \"15\", \"16\", \"17\", \"18\", \"19\", \"20\", \"21\"], \"mode\": \"markers\", \"name\": \"precision_score_weighted\", \"stepped\": false, \"type\": \"scatter\", \"data\": [0.8696328757103062, 0.8651219580134404, 0.8216924428738421, 0.8327515851491943, 0.8412669413195552, 0.8555620361929819, 0.8460546849053232, 0.8096654553535939, 0.868471587919319, 0.8463947089236933, 0.8246463660591629, 0.8546055135026434, 0.8341765346613736, 0.8425220460554198, 0.8389537298230386, 0.850333768950566, 0.8623695645650002, 0.8618239275348767, 0.858634028452549, 0.8675048231282906, 0.8738923790808917, 0.8743237072523523]}, {\"categories\": [\"0\", \"1\", \"2\", \"3\", \"4\", \"5\", \"6\", \"7\", \"8\", \"9\", \"10\", \"11\", \"12\", \"13\", \"14\", \"15\", \"16\", \"17\", \"18\", \"19\", \"20\", \"21\"], \"mode\": \"lines\", \"name\": \"precision_score_weighted_max\", \"stepped\": true, \"type\": \"scatter\", \"data\": [0.8696328757103062, 0.8696328757103062, 0.8696328757103062, 0.8696328757103062, 0.8696328757103062, 0.8696328757103062, 0.8696328757103062, 0.8696328757103062, 0.8696328757103062, 0.8696328757103062, 0.8696328757103062, 0.8696328757103062, 0.8696328757103062, 0.8696328757103062, 0.8696328757103062, 0.8696328757103062, 0.8696328757103062, 0.8696328757103062, 0.8696328757103062, 0.8696328757103062, 0.8738923790808917, 0.8743237072523523]}], \"weighted_accuracy\": [{\"categories\": [\"0\", \"1\", \"2\", \"3\", \"4\", \"5\", \"6\", \"7\", \"8\", \"9\", \"10\", \"11\", \"12\", \"13\", \"14\", \"15\", \"16\", \"17\", \"18\", \"19\", \"20\", \"21\"], \"mode\": \"markers\", \"name\": \"weighted_accuracy\", \"stepped\": false, \"type\": \"scatter\", \"data\": [0.8760485669546183, 0.8716210346454213, 0.8371002863727212, 0.8440676582967862, 0.85383412755106, 0.8634416058648791, 0.8445840897814119, 0.8251900339913091, 0.8748922531116742, 0.854492108868235, 0.8178321320507553, 0.8621590477701258, 0.8473565153844872, 0.8382859593735699, 0.8506293776329027, 0.8453996126073875, 0.8702569556302211, 0.8692946443355356, 0.8690861568575493, 0.8659938803003779, 0.8794216158730547, 0.8796594965248414]}, {\"categories\": [\"0\", \"1\", \"2\", \"3\", \"4\", \"5\", \"6\", \"7\", \"8\", \"9\", \"10\", \"11\", \"12\", \"13\", \"14\", \"15\", \"16\", \"17\", \"18\", \"19\", \"20\", \"21\"], \"mode\": \"lines\", \"name\": \"weighted_accuracy_max\", \"stepped\": true, \"type\": \"scatter\", \"data\": [0.8760485669546183, 0.8760485669546183, 0.8760485669546183, 0.8760485669546183, 0.8760485669546183, 0.8760485669546183, 0.8760485669546183, 0.8760485669546183, 0.8760485669546183, 0.8760485669546183, 0.8760485669546183, 0.8760485669546183, 0.8760485669546183, 0.8760485669546183, 0.8760485669546183, 0.8760485669546183, 0.8760485669546183, 0.8760485669546183, 0.8760485669546183, 0.8760485669546183, 0.8794216158730547, 0.8796594965248414]}], \"matthews_correlation\": [{\"categories\": [\"0\", \"1\", \"2\", \"3\", \"4\", \"5\", \"6\", \"7\", \"8\", \"9\", \"10\", \"11\", \"12\", \"13\", \"14\", \"15\", \"16\", \"17\", \"18\", \"19\", \"20\", \"21\"], \"mode\": \"markers\", \"name\": \"matthews_correlation\", \"stepped\": false, \"type\": \"scatter\", \"data\": [0.7306292796165715, 0.7212655323518479, 0.6223893422507465, 0.6527168451983617, 0.6684719965400947, 0.7011601668247059, 0.6813781778526127, 0.6021149097288819, 0.7282222939158363, 0.6823127913038908, 0.6354945874191454, 0.6993907693222488, 0.6536269869344372, 0.6733314429879544, 0.6651599831273495, 0.6892237101131887, 0.715172597949406, 0.7142558372285964, 0.7057833573789908, 0.7256577823595913, 0.7395354255481595, 0.7404489061897269]}, {\"categories\": [\"0\", \"1\", \"2\", \"3\", \"4\", \"5\", \"6\", \"7\", \"8\", \"9\", \"10\", \"11\", \"12\", \"13\", \"14\", \"15\", \"16\", \"17\", \"18\", \"19\", \"20\", \"21\"], \"mode\": \"lines\", \"name\": \"matthews_correlation_max\", \"stepped\": true, \"type\": \"scatter\", \"data\": [0.7306292796165715, 0.7306292796165715, 0.7306292796165715, 0.7306292796165715, 0.7306292796165715, 0.7306292796165715, 0.7306292796165715, 0.7306292796165715, 0.7306292796165715, 0.7306292796165715, 0.7306292796165715, 0.7306292796165715, 0.7306292796165715, 0.7306292796165715, 0.7306292796165715, 0.7306292796165715, 0.7306292796165715, 0.7306292796165715, 0.7306292796165715, 0.7306292796165715, 0.7395354255481595, 0.7404489061897269]}], \"f1_score_micro\": [{\"categories\": [\"0\", \"1\", \"2\", \"3\", \"4\", \"5\", \"6\", \"7\", \"8\", \"9\", \"10\", \"11\", \"12\", \"13\", \"14\", \"15\", \"16\", \"17\", \"18\", \"19\", \"20\", \"21\"], \"mode\": \"markers\", \"name\": \"f1_score_micro\", \"stepped\": false, \"type\": \"scatter\", \"data\": [0.869971406340125, 0.8654563811267167, 0.8179782574057936, 0.8330292504893021, 0.8405087948069911, 0.8559244102233143, 0.8439294288165072, 0.8092220481610511, 0.8688314279838192, 0.8468484730981135, 0.8195290942635972, 0.8550579797436529, 0.8334852218620931, 0.839094981509152, 0.8390036324691756, 0.8467116804381679, 0.8627199725196527, 0.8622182579809219, 0.8582956910137381, 0.8656845789915081, 0.8741675336650356, 0.8745779927719058]}, {\"categories\": [\"0\", \"1\", \"2\", \"3\", \"4\", \"5\", \"6\", \"7\", \"8\", \"9\", \"10\", \"11\", \"12\", \"13\", \"14\", \"15\", \"16\", \"17\", \"18\", \"19\", \"20\", \"21\"], \"mode\": \"lines\", \"name\": \"f1_score_micro_max\", \"stepped\": true, \"type\": \"scatter\", \"data\": [0.869971406340125, 0.869971406340125, 0.869971406340125, 0.869971406340125, 0.869971406340125, 0.869971406340125, 0.869971406340125, 0.869971406340125, 0.869971406340125, 0.869971406340125, 0.869971406340125, 0.869971406340125, 0.869971406340125, 0.869971406340125, 0.869971406340125, 0.869971406340125, 0.869971406340125, 0.869971406340125, 0.869971406340125, 0.869971406340125, 0.8741675336650356, 0.8745779927719058]}], \"precision_score_macro\": [{\"categories\": [\"0\", \"1\", \"2\", \"3\", \"4\", \"5\", \"6\", \"7\", \"8\", \"9\", \"10\", \"11\", \"12\", \"13\", \"14\", \"15\", \"16\", \"17\", \"18\", \"19\", \"20\", \"21\"], \"mode\": \"markers\", \"name\": \"precision_score_macro\", \"stepped\": false, \"type\": \"scatter\", \"data\": [0.8671537745340875, 0.8623963431956119, 0.8254283433430292, 0.8315418744903639, 0.8423678391496564, 0.8532701557294219, 0.8381745605833787, 0.8102074398926448, 0.8658723725125391, 0.8436295027978126, 0.8142170827611493, 0.8519229339923516, 0.8351412019631819, 0.8334132097609256, 0.8386629611753992, 0.8411545788295663, 0.8605126158542934, 0.8596011165975419, 0.8590993535430425, 0.8603344140705653, 0.8709801595582927, 0.8713010201489997]}, {\"categories\": [\"0\", \"1\", \"2\", \"3\", \"4\", \"5\", \"6\", \"7\", \"8\", \"9\", \"10\", \"11\", \"12\", \"13\", \"14\", \"15\", \"16\", \"17\", \"18\", \"19\", \"20\", \"21\"], \"mode\": \"lines\", \"name\": \"precision_score_macro_max\", \"stepped\": true, \"type\": \"scatter\", \"data\": [0.8671537745340875, 0.8671537745340875, 0.8671537745340875, 0.8671537745340875, 0.8671537745340875, 0.8671537745340875, 0.8671537745340875, 0.8671537745340875, 0.8671537745340875, 0.8671537745340875, 0.8671537745340875, 0.8671537745340875, 0.8671537745340875, 0.8671537745340875, 0.8671537745340875, 0.8671537745340875, 0.8671537745340875, 0.8671537745340875, 0.8671537745340875, 0.8671537745340875, 0.8709801595582927, 0.8713010201489997]}], \"AUC_micro\": [{\"categories\": [\"0\", \"1\", \"2\", \"3\", \"4\", \"5\", \"6\", \"7\", \"8\", \"9\", \"10\", \"11\", \"12\", \"13\", \"14\", \"15\", \"16\", \"17\", \"18\", \"19\", \"20\", \"21\"], \"mode\": \"markers\", \"name\": \"AUC_micro\", \"stepped\": false, \"type\": \"scatter\", \"data\": [0.9482239824192721, 0.944263719455159, 0.902644085796589, 0.9191920358131628, 0.925795267582922, 0.9358030054389369, 0.9258810297106895, 0.8978708248499233, 0.9481010264576891, 0.9271468664377743, 0.9068173460655572, 0.9350749588496184, 0.9190521620131648, 0.9233672183878161, 0.9229828547783904, 0.9278325811056378, 0.9422028439606324, 0.9401274229574179, 0.9373179070710328, 0.9459259666796153, 0.9510218554990466, 0.9504500444359664]}, {\"categories\": [\"0\", \"1\", \"2\", \"3\", \"4\", \"5\", \"6\", \"7\", \"8\", \"9\", \"10\", \"11\", \"12\", \"13\", \"14\", \"15\", \"16\", \"17\", \"18\", \"19\", \"20\", \"21\"], \"mode\": \"lines\", \"name\": \"AUC_micro_max\", \"stepped\": true, \"type\": \"scatter\", \"data\": [0.9482239824192721, 0.9482239824192721, 0.9482239824192721, 0.9482239824192721, 0.9482239824192721, 0.9482239824192721, 0.9482239824192721, 0.9482239824192721, 0.9482239824192721, 0.9482239824192721, 0.9482239824192721, 0.9482239824192721, 0.9482239824192721, 0.9482239824192721, 0.9482239824192721, 0.9482239824192721, 0.9482239824192721, 0.9482239824192721, 0.9482239824192721, 0.9482239824192721, 0.9510218554990466, 0.9510218554990466]}]}, \"metricName\": null, \"primaryMetricName\": \"AUC_weighted\", \"showLegend\": false}, \"run_metrics\": [{\"name\": \"precision_score_macro\", \"run_id\": \"AutoML_4fedc2bd-b32a-422b-b43d-8a9d288abd05\", \"categories\": [0], \"series\": [{\"data\": [0.8709801595582927]}]}, {\"name\": \"matthews_correlation\", \"run_id\": \"AutoML_4fedc2bd-b32a-422b-b43d-8a9d288abd05\", \"categories\": [0], \"series\": [{\"data\": [0.7395354255481595]}]}, {\"name\": \"weighted_accuracy\", \"run_id\": \"AutoML_4fedc2bd-b32a-422b-b43d-8a9d288abd05\", \"categories\": [0], \"series\": [{\"data\": [0.8794216158730547]}]}, {\"name\": \"precision_score_micro\", \"run_id\": \"AutoML_4fedc2bd-b32a-422b-b43d-8a9d288abd05\", \"categories\": [0], \"series\": [{\"data\": [0.8741675336650356]}]}, {\"name\": \"AUC_micro\", \"run_id\": \"AutoML_4fedc2bd-b32a-422b-b43d-8a9d288abd05\", \"categories\": [0], \"series\": [{\"data\": [0.9510218554990466]}]}, {\"name\": \"precision_score_weighted\", \"run_id\": \"AutoML_4fedc2bd-b32a-422b-b43d-8a9d288abd05\", \"categories\": [0], \"series\": [{\"data\": [0.8738923790808917]}]}, {\"name\": \"f1_score_micro\", \"run_id\": \"AutoML_4fedc2bd-b32a-422b-b43d-8a9d288abd05\", \"categories\": [0], \"series\": [{\"data\": [0.8741675336650356]}]}, {\"name\": \"recall_score_weighted\", \"run_id\": \"AutoML_4fedc2bd-b32a-422b-b43d-8a9d288abd05\", \"categories\": [0], \"series\": [{\"data\": [0.8741675336650356]}]}, {\"name\": \"average_precision_score_micro\", \"run_id\": \"AutoML_4fedc2bd-b32a-422b-b43d-8a9d288abd05\", \"categories\": [0], \"series\": [{\"data\": [0.9525692085445309]}]}, {\"name\": \"AUC_weighted\", \"run_id\": \"AutoML_4fedc2bd-b32a-422b-b43d-8a9d288abd05\", \"categories\": [0], \"series\": [{\"data\": [0.9489711666046156]}]}, {\"name\": \"average_precision_score_macro\", \"run_id\": \"AutoML_4fedc2bd-b32a-422b-b43d-8a9d288abd05\", \"categories\": [0], \"series\": [{\"data\": [0.9487396074402269]}]}, {\"name\": \"balanced_accuracy\", \"run_id\": \"AutoML_4fedc2bd-b32a-422b-b43d-8a9d288abd05\", \"categories\": [0], \"series\": [{\"data\": [0.868559323455746]}]}, {\"name\": \"recall_score_macro\", \"run_id\": \"AutoML_4fedc2bd-b32a-422b-b43d-8a9d288abd05\", \"categories\": [0], \"series\": [{\"data\": [0.868559323455746]}]}, {\"name\": \"recall_score_micro\", \"run_id\": \"AutoML_4fedc2bd-b32a-422b-b43d-8a9d288abd05\", \"categories\": [0], \"series\": [{\"data\": [0.8741675336650356]}]}, {\"name\": \"AUC_macro\", \"run_id\": \"AutoML_4fedc2bd-b32a-422b-b43d-8a9d288abd05\", \"categories\": [0], \"series\": [{\"data\": [0.9489711666046156]}]}, {\"name\": \"accuracy\", \"run_id\": \"AutoML_4fedc2bd-b32a-422b-b43d-8a9d288abd05\", \"categories\": [0], \"series\": [{\"data\": [0.8741675336650356]}]}, {\"name\": \"log_loss\", \"run_id\": \"AutoML_4fedc2bd-b32a-422b-b43d-8a9d288abd05\", \"categories\": [0], \"series\": [{\"data\": [0.28488757018134825]}]}, {\"name\": \"f1_score_weighted\", \"run_id\": \"AutoML_4fedc2bd-b32a-422b-b43d-8a9d288abd05\", \"categories\": [0], \"series\": [{\"data\": [0.8739619526735739]}]}, {\"name\": \"norm_macro_recall\", \"run_id\": \"AutoML_4fedc2bd-b32a-422b-b43d-8a9d288abd05\", \"categories\": [0], \"series\": [{\"data\": [0.7371186469114922]}]}, {\"name\": \"f1_score_macro\", \"run_id\": \"AutoML_4fedc2bd-b32a-422b-b43d-8a9d288abd05\", \"categories\": [0], \"series\": [{\"data\": [0.8696975478028808]}]}, {\"name\": \"average_precision_score_weighted\", \"run_id\": \"AutoML_4fedc2bd-b32a-422b-b43d-8a9d288abd05\", \"categories\": [0], \"series\": [{\"data\": [0.9513611264927344]}]}], \"run_logs\": \"\\nRun is completed.\", \"graph\": {}, \"widget_settings\": {\"childWidgetDisplay\": \"popup\", \"send_telemetry\": false, \"log_level\": \"INFO\", \"sdk_version\": \"1.44.0\"}, \"loading\": false}"
          },
          "metadata": {}
        }
      ],
      "execution_count": 8,
      "metadata": {
        "gather": {
          "logged": 1668058096838
        },
        "jupyter": {
          "outputs_hidden": false,
          "source_hidden": false
        },
        "nteract": {
          "transient": {
            "deleting": false
          }
        }
      }
    },
    {
      "cell_type": "markdown",
      "source": [
        "## Best Model\n",
        "\n",
        "TODO: In the cell below, get the best model from the automl experiments and display all the properties of the model.\n",
        "\n"
      ],
      "metadata": {}
    },
    {
      "cell_type": "code",
      "source": [
        "best_auto_run, fitted_auto_model = remote_run.get_output()\r\n",
        "best_auto_run.get_metrics()"
      ],
      "outputs": [
        {
          "output_type": "execute_result",
          "execution_count": 16,
          "data": {
            "text/plain": "{'average_precision_score_weighted': 0.9513611264927344,\n 'average_precision_score_macro': 0.9487396074402269,\n 'average_precision_score_micro': 0.9525692085445309,\n 'recall_score_macro': 0.868559323455746,\n 'f1_score_weighted': 0.8739619526735739,\n 'f1_score_macro': 0.8696975478028808,\n 'balanced_accuracy': 0.868559323455746,\n 'recall_score_weighted': 0.8741675336650356,\n 'log_loss': 0.28488757018134825,\n 'norm_macro_recall': 0.7371186469114922,\n 'recall_score_micro': 0.8741675336650356,\n 'AUC_weighted': 0.9489711666046156,\n 'AUC_macro': 0.9489711666046156,\n 'precision_score_micro': 0.8741675336650356,\n 'accuracy': 0.8741675336650356,\n 'precision_score_weighted': 0.8738923790808917,\n 'weighted_accuracy': 0.8794216158730547,\n 'matthews_correlation': 0.7395354255481595,\n 'f1_score_micro': 0.8741675336650356,\n 'precision_score_macro': 0.8709801595582927,\n 'AUC_micro': 0.9510218554990466,\n 'confusion_matrix': 'aml://artifactId/ExperimentRun/dcid.AutoML_4fedc2bd-b32a-422b-b43d-8a9d288abd05_20/confusion_matrix',\n 'accuracy_table': 'aml://artifactId/ExperimentRun/dcid.AutoML_4fedc2bd-b32a-422b-b43d-8a9d288abd05_20/accuracy_table'}"
          },
          "metadata": {}
        }
      ],
      "execution_count": 16,
      "metadata": {
        "gather": {
          "logged": 1668058639264
        },
        "jupyter": {
          "outputs_hidden": false,
          "source_hidden": false
        },
        "nteract": {
          "transient": {
            "deleting": false
          }
        }
      }
    },
    {
      "cell_type": "code",
      "source": [
        "import joblib\r\n",
        "joblib.dump(fitted_auto_model, 'nba-games-model.pkl')"
      ],
      "outputs": [
        {
          "output_type": "execute_result",
          "execution_count": 17,
          "data": {
            "text/plain": "['nba-games-model.pkl']"
          },
          "metadata": {}
        }
      ],
      "execution_count": 17,
      "metadata": {
        "gather": {
          "logged": 1668058639538
        },
        "jupyter": {
          "outputs_hidden": false,
          "source_hidden": false
        },
        "nteract": {
          "transient": {
            "deleting": false
          }
        }
      }
    },
    {
      "cell_type": "markdown",
      "source": [
        "## Model Deployment\n",
        "\n",
        "Remember you have to deploy only one of the two models you trained but you still need to register both the models. Perform the steps in the rest of this notebook only if you wish to deploy this model.\n",
        "\n",
        "TODO: In the cell below, register the model, create an inference config and deploy the model as a web service."
      ],
      "metadata": {}
    },
    {
      "cell_type": "code",
      "source": [
        "from azureml.core import Model\r\n",
        "model = Model.register(workspace=ws,\r\n",
        "                       model_name='nba-games-model', \r\n",
        "                       model_path='./nba-games-model.pkl',\r\n",
        "                       description='NBA games AutoML run.',\r\n",
        "                       tags={'course': 'capstone'})"
      ],
      "outputs": [
        {
          "output_type": "stream",
          "name": "stdout",
          "text": "Registering model nba-games-model\n"
        }
      ],
      "execution_count": 20,
      "metadata": {
        "gather": {
          "logged": 1668058682155
        },
        "jupyter": {
          "outputs_hidden": false,
          "source_hidden": false
        },
        "nteract": {
          "transient": {
            "deleting": false
          }
        }
      }
    },
    {
      "cell_type": "code",
      "source": [
        "best_auto_run.download_file('outputs/scoring_file_v_1_0_0.py', 'score.py')\r\n",
        "best_auto_run.download_file('outputs/conda_env_v_1_0_0.yml', 'envFile.yml')"
      ],
      "outputs": [],
      "execution_count": 25,
      "metadata": {
        "jupyter": {
          "source_hidden": false,
          "outputs_hidden": false
        },
        "nteract": {
          "transient": {
            "deleting": false
          }
        },
        "gather": {
          "logged": 1668058771797
        }
      }
    },
    {
      "cell_type": "code",
      "source": [
        "from azureml.core.model import InferenceConfig\r\n",
        "\r\n",
        "inf_config = InferenceConfig(\r\n",
        "    entry_script='score.py',\r\n",
        "    environment=ws.environments['nba-2']\r\n",
        ")"
      ],
      "outputs": [],
      "execution_count": 48,
      "metadata": {
        "jupyter": {
          "source_hidden": false,
          "outputs_hidden": false
        },
        "nteract": {
          "transient": {
            "deleting": false
          }
        },
        "gather": {
          "logged": 1668061077488
        }
      }
    },
    {
      "cell_type": "code",
      "source": [
        "from azureml.core.webservice import AciWebservice\r\n",
        "\r\n",
        "deployment_config = AciWebservice.deploy_configuration(\r\n",
        "    cpu_cores=1,\r\n",
        "    memory_gb=1\r\n",
        ")\r\n",
        "\r\n",
        "service = Model.deploy(\r\n",
        "    ws, \"nba-games-deploy2\", [model], inf_config, deployment_config\r\n",
        ")"
      ],
      "outputs": [],
      "execution_count": 49,
      "metadata": {
        "jupyter": {
          "source_hidden": false,
          "outputs_hidden": false
        },
        "nteract": {
          "transient": {
            "deleting": false
          }
        },
        "gather": {
          "logged": 1668061092883
        }
      }
    },
    {
      "cell_type": "code",
      "source": [
        "type(service)"
      ],
      "outputs": [
        {
          "output_type": "execute_result",
          "execution_count": 51,
          "data": {
            "text/plain": "azureml.core.webservice.aci.AciWebservice"
          },
          "metadata": {}
        }
      ],
      "execution_count": 51,
      "metadata": {
        "jupyter": {
          "source_hidden": false,
          "outputs_hidden": false
        },
        "nteract": {
          "transient": {
            "deleting": false
          }
        },
        "gather": {
          "logged": 1668061123607
        }
      }
    },
    {
      "cell_type": "markdown",
      "source": [
        "TODO: In the cell below, send a request to the web service you deployed to test it."
      ],
      "metadata": {
        "collapsed": true,
        "gather": {
          "logged": 1598431657736
        },
        "jupyter": {
          "outputs_hidden": false,
          "source_hidden": false
        },
        "nteract": {
          "transient": {
            "deleting": false
          }
        }
      }
    },
    {
      "cell_type": "code",
      "source": [
        "import requests\r\n",
        "headers = {'Content-type':'application/json'}\r\n",
        "resp = requests.post(service.scoring_uri, test_data.to_json(), headers=headers)\r\n",
        "print(resp.text)"
      ],
      "outputs": [
        {
          "output_type": "error",
          "ename": "MissingSchema",
          "evalue": "Invalid URL 'None': No scheme supplied. Perhaps you meant http://None?",
          "traceback": [
            "\u001b[0;31m---------------------------------------------------------------------------\u001b[0m",
            "\u001b[0;31mMissingSchema\u001b[0m                             Traceback (most recent call last)",
            "Input \u001b[0;32mIn [50]\u001b[0m, in \u001b[0;36m<cell line: 3>\u001b[0;34m()\u001b[0m\n\u001b[1;32m      1\u001b[0m \u001b[38;5;28;01mimport\u001b[39;00m \u001b[38;5;21;01mrequests\u001b[39;00m\n\u001b[1;32m      2\u001b[0m headers \u001b[38;5;241m=\u001b[39m {\u001b[38;5;124m'\u001b[39m\u001b[38;5;124mContent-type\u001b[39m\u001b[38;5;124m'\u001b[39m:\u001b[38;5;124m'\u001b[39m\u001b[38;5;124mapplication/json\u001b[39m\u001b[38;5;124m'\u001b[39m}\n\u001b[0;32m----> 3\u001b[0m resp \u001b[38;5;241m=\u001b[39m \u001b[43mrequests\u001b[49m\u001b[38;5;241;43m.\u001b[39;49m\u001b[43mpost\u001b[49m\u001b[43m(\u001b[49m\u001b[43mservice\u001b[49m\u001b[38;5;241;43m.\u001b[39;49m\u001b[43mscoring_uri\u001b[49m\u001b[43m,\u001b[49m\u001b[43m \u001b[49m\u001b[43mtest_data\u001b[49m\u001b[38;5;241;43m.\u001b[39;49m\u001b[43mto_json\u001b[49m\u001b[43m(\u001b[49m\u001b[43m)\u001b[49m\u001b[43m,\u001b[49m\u001b[43m \u001b[49m\u001b[43mheaders\u001b[49m\u001b[38;5;241;43m=\u001b[39;49m\u001b[43mheaders\u001b[49m\u001b[43m)\u001b[49m\n\u001b[1;32m      4\u001b[0m \u001b[38;5;28mprint\u001b[39m(resp\u001b[38;5;241m.\u001b[39mtext)\n",
            "File \u001b[0;32m/anaconda/envs/azureml_py38/lib/python3.8/site-packages/requests/api.py:115\u001b[0m, in \u001b[0;36mpost\u001b[0;34m(url, data, json, **kwargs)\u001b[0m\n\u001b[1;32m    103\u001b[0m \u001b[38;5;28;01mdef\u001b[39;00m \u001b[38;5;21mpost\u001b[39m(url, data\u001b[38;5;241m=\u001b[39m\u001b[38;5;28;01mNone\u001b[39;00m, json\u001b[38;5;241m=\u001b[39m\u001b[38;5;28;01mNone\u001b[39;00m, \u001b[38;5;241m*\u001b[39m\u001b[38;5;241m*\u001b[39mkwargs):\n\u001b[1;32m    104\u001b[0m     \u001b[38;5;124mr\u001b[39m\u001b[38;5;124;03m\"\"\"Sends a POST request.\u001b[39;00m\n\u001b[1;32m    105\u001b[0m \n\u001b[1;32m    106\u001b[0m \u001b[38;5;124;03m    :param url: URL for the new :class:`Request` object.\u001b[39;00m\n\u001b[0;32m   (...)\u001b[0m\n\u001b[1;32m    112\u001b[0m \u001b[38;5;124;03m    :rtype: requests.Response\u001b[39;00m\n\u001b[1;32m    113\u001b[0m \u001b[38;5;124;03m    \"\"\"\u001b[39;00m\n\u001b[0;32m--> 115\u001b[0m     \u001b[38;5;28;01mreturn\u001b[39;00m \u001b[43mrequest\u001b[49m\u001b[43m(\u001b[49m\u001b[38;5;124;43m\"\u001b[39;49m\u001b[38;5;124;43mpost\u001b[39;49m\u001b[38;5;124;43m\"\u001b[39;49m\u001b[43m,\u001b[49m\u001b[43m \u001b[49m\u001b[43murl\u001b[49m\u001b[43m,\u001b[49m\u001b[43m \u001b[49m\u001b[43mdata\u001b[49m\u001b[38;5;241;43m=\u001b[39;49m\u001b[43mdata\u001b[49m\u001b[43m,\u001b[49m\u001b[43m \u001b[49m\u001b[43mjson\u001b[49m\u001b[38;5;241;43m=\u001b[39;49m\u001b[43mjson\u001b[49m\u001b[43m,\u001b[49m\u001b[43m \u001b[49m\u001b[38;5;241;43m*\u001b[39;49m\u001b[38;5;241;43m*\u001b[39;49m\u001b[43mkwargs\u001b[49m\u001b[43m)\u001b[49m\n",
            "File \u001b[0;32m/anaconda/envs/azureml_py38/lib/python3.8/site-packages/requests/api.py:59\u001b[0m, in \u001b[0;36mrequest\u001b[0;34m(method, url, **kwargs)\u001b[0m\n\u001b[1;32m     55\u001b[0m \u001b[38;5;66;03m# By using the 'with' statement we are sure the session is closed, thus we\u001b[39;00m\n\u001b[1;32m     56\u001b[0m \u001b[38;5;66;03m# avoid leaving sockets open which can trigger a ResourceWarning in some\u001b[39;00m\n\u001b[1;32m     57\u001b[0m \u001b[38;5;66;03m# cases, and look like a memory leak in others.\u001b[39;00m\n\u001b[1;32m     58\u001b[0m \u001b[38;5;28;01mwith\u001b[39;00m sessions\u001b[38;5;241m.\u001b[39mSession() \u001b[38;5;28;01mas\u001b[39;00m session:\n\u001b[0;32m---> 59\u001b[0m     \u001b[38;5;28;01mreturn\u001b[39;00m \u001b[43msession\u001b[49m\u001b[38;5;241;43m.\u001b[39;49m\u001b[43mrequest\u001b[49m\u001b[43m(\u001b[49m\u001b[43mmethod\u001b[49m\u001b[38;5;241;43m=\u001b[39;49m\u001b[43mmethod\u001b[49m\u001b[43m,\u001b[49m\u001b[43m \u001b[49m\u001b[43murl\u001b[49m\u001b[38;5;241;43m=\u001b[39;49m\u001b[43murl\u001b[49m\u001b[43m,\u001b[49m\u001b[43m \u001b[49m\u001b[38;5;241;43m*\u001b[39;49m\u001b[38;5;241;43m*\u001b[39;49m\u001b[43mkwargs\u001b[49m\u001b[43m)\u001b[49m\n",
            "File \u001b[0;32m/anaconda/envs/azureml_py38/lib/python3.8/site-packages/requests/sessions.py:573\u001b[0m, in \u001b[0;36mSession.request\u001b[0;34m(self, method, url, params, data, headers, cookies, files, auth, timeout, allow_redirects, proxies, hooks, stream, verify, cert, json)\u001b[0m\n\u001b[1;32m    560\u001b[0m \u001b[38;5;66;03m# Create the Request.\u001b[39;00m\n\u001b[1;32m    561\u001b[0m req \u001b[38;5;241m=\u001b[39m Request(\n\u001b[1;32m    562\u001b[0m     method\u001b[38;5;241m=\u001b[39mmethod\u001b[38;5;241m.\u001b[39mupper(),\n\u001b[1;32m    563\u001b[0m     url\u001b[38;5;241m=\u001b[39murl,\n\u001b[0;32m   (...)\u001b[0m\n\u001b[1;32m    571\u001b[0m     hooks\u001b[38;5;241m=\u001b[39mhooks,\n\u001b[1;32m    572\u001b[0m )\n\u001b[0;32m--> 573\u001b[0m prep \u001b[38;5;241m=\u001b[39m \u001b[38;5;28;43mself\u001b[39;49m\u001b[38;5;241;43m.\u001b[39;49m\u001b[43mprepare_request\u001b[49m\u001b[43m(\u001b[49m\u001b[43mreq\u001b[49m\u001b[43m)\u001b[49m\n\u001b[1;32m    575\u001b[0m proxies \u001b[38;5;241m=\u001b[39m proxies \u001b[38;5;129;01mor\u001b[39;00m {}\n\u001b[1;32m    577\u001b[0m settings \u001b[38;5;241m=\u001b[39m \u001b[38;5;28mself\u001b[39m\u001b[38;5;241m.\u001b[39mmerge_environment_settings(\n\u001b[1;32m    578\u001b[0m     prep\u001b[38;5;241m.\u001b[39murl, proxies, stream, verify, cert\n\u001b[1;32m    579\u001b[0m )\n",
            "File \u001b[0;32m/anaconda/envs/azureml_py38/lib/python3.8/site-packages/requests/sessions.py:484\u001b[0m, in \u001b[0;36mSession.prepare_request\u001b[0;34m(self, request)\u001b[0m\n\u001b[1;32m    481\u001b[0m     auth \u001b[38;5;241m=\u001b[39m get_netrc_auth(request\u001b[38;5;241m.\u001b[39murl)\n\u001b[1;32m    483\u001b[0m p \u001b[38;5;241m=\u001b[39m PreparedRequest()\n\u001b[0;32m--> 484\u001b[0m \u001b[43mp\u001b[49m\u001b[38;5;241;43m.\u001b[39;49m\u001b[43mprepare\u001b[49m\u001b[43m(\u001b[49m\n\u001b[1;32m    485\u001b[0m \u001b[43m    \u001b[49m\u001b[43mmethod\u001b[49m\u001b[38;5;241;43m=\u001b[39;49m\u001b[43mrequest\u001b[49m\u001b[38;5;241;43m.\u001b[39;49m\u001b[43mmethod\u001b[49m\u001b[38;5;241;43m.\u001b[39;49m\u001b[43mupper\u001b[49m\u001b[43m(\u001b[49m\u001b[43m)\u001b[49m\u001b[43m,\u001b[49m\n\u001b[1;32m    486\u001b[0m \u001b[43m    \u001b[49m\u001b[43murl\u001b[49m\u001b[38;5;241;43m=\u001b[39;49m\u001b[43mrequest\u001b[49m\u001b[38;5;241;43m.\u001b[39;49m\u001b[43murl\u001b[49m\u001b[43m,\u001b[49m\n\u001b[1;32m    487\u001b[0m \u001b[43m    \u001b[49m\u001b[43mfiles\u001b[49m\u001b[38;5;241;43m=\u001b[39;49m\u001b[43mrequest\u001b[49m\u001b[38;5;241;43m.\u001b[39;49m\u001b[43mfiles\u001b[49m\u001b[43m,\u001b[49m\n\u001b[1;32m    488\u001b[0m \u001b[43m    \u001b[49m\u001b[43mdata\u001b[49m\u001b[38;5;241;43m=\u001b[39;49m\u001b[43mrequest\u001b[49m\u001b[38;5;241;43m.\u001b[39;49m\u001b[43mdata\u001b[49m\u001b[43m,\u001b[49m\n\u001b[1;32m    489\u001b[0m \u001b[43m    \u001b[49m\u001b[43mjson\u001b[49m\u001b[38;5;241;43m=\u001b[39;49m\u001b[43mrequest\u001b[49m\u001b[38;5;241;43m.\u001b[39;49m\u001b[43mjson\u001b[49m\u001b[43m,\u001b[49m\n\u001b[1;32m    490\u001b[0m \u001b[43m    \u001b[49m\u001b[43mheaders\u001b[49m\u001b[38;5;241;43m=\u001b[39;49m\u001b[43mmerge_setting\u001b[49m\u001b[43m(\u001b[49m\n\u001b[1;32m    491\u001b[0m \u001b[43m        \u001b[49m\u001b[43mrequest\u001b[49m\u001b[38;5;241;43m.\u001b[39;49m\u001b[43mheaders\u001b[49m\u001b[43m,\u001b[49m\u001b[43m \u001b[49m\u001b[38;5;28;43mself\u001b[39;49m\u001b[38;5;241;43m.\u001b[39;49m\u001b[43mheaders\u001b[49m\u001b[43m,\u001b[49m\u001b[43m \u001b[49m\u001b[43mdict_class\u001b[49m\u001b[38;5;241;43m=\u001b[39;49m\u001b[43mCaseInsensitiveDict\u001b[49m\n\u001b[1;32m    492\u001b[0m \u001b[43m    \u001b[49m\u001b[43m)\u001b[49m\u001b[43m,\u001b[49m\n\u001b[1;32m    493\u001b[0m \u001b[43m    \u001b[49m\u001b[43mparams\u001b[49m\u001b[38;5;241;43m=\u001b[39;49m\u001b[43mmerge_setting\u001b[49m\u001b[43m(\u001b[49m\u001b[43mrequest\u001b[49m\u001b[38;5;241;43m.\u001b[39;49m\u001b[43mparams\u001b[49m\u001b[43m,\u001b[49m\u001b[43m \u001b[49m\u001b[38;5;28;43mself\u001b[39;49m\u001b[38;5;241;43m.\u001b[39;49m\u001b[43mparams\u001b[49m\u001b[43m)\u001b[49m\u001b[43m,\u001b[49m\n\u001b[1;32m    494\u001b[0m \u001b[43m    \u001b[49m\u001b[43mauth\u001b[49m\u001b[38;5;241;43m=\u001b[39;49m\u001b[43mmerge_setting\u001b[49m\u001b[43m(\u001b[49m\u001b[43mauth\u001b[49m\u001b[43m,\u001b[49m\u001b[43m \u001b[49m\u001b[38;5;28;43mself\u001b[39;49m\u001b[38;5;241;43m.\u001b[39;49m\u001b[43mauth\u001b[49m\u001b[43m)\u001b[49m\u001b[43m,\u001b[49m\n\u001b[1;32m    495\u001b[0m \u001b[43m    \u001b[49m\u001b[43mcookies\u001b[49m\u001b[38;5;241;43m=\u001b[39;49m\u001b[43mmerged_cookies\u001b[49m\u001b[43m,\u001b[49m\n\u001b[1;32m    496\u001b[0m \u001b[43m    \u001b[49m\u001b[43mhooks\u001b[49m\u001b[38;5;241;43m=\u001b[39;49m\u001b[43mmerge_hooks\u001b[49m\u001b[43m(\u001b[49m\u001b[43mrequest\u001b[49m\u001b[38;5;241;43m.\u001b[39;49m\u001b[43mhooks\u001b[49m\u001b[43m,\u001b[49m\u001b[43m \u001b[49m\u001b[38;5;28;43mself\u001b[39;49m\u001b[38;5;241;43m.\u001b[39;49m\u001b[43mhooks\u001b[49m\u001b[43m)\u001b[49m\u001b[43m,\u001b[49m\n\u001b[1;32m    497\u001b[0m \u001b[43m\u001b[49m\u001b[43m)\u001b[49m\n\u001b[1;32m    498\u001b[0m \u001b[38;5;28;01mreturn\u001b[39;00m p\n",
            "File \u001b[0;32m/anaconda/envs/azureml_py38/lib/python3.8/site-packages/requests/models.py:368\u001b[0m, in \u001b[0;36mPreparedRequest.prepare\u001b[0;34m(self, method, url, headers, files, data, params, auth, cookies, hooks, json)\u001b[0m\n\u001b[1;32m    365\u001b[0m \u001b[38;5;124;03m\"\"\"Prepares the entire request with the given parameters.\"\"\"\u001b[39;00m\n\u001b[1;32m    367\u001b[0m \u001b[38;5;28mself\u001b[39m\u001b[38;5;241m.\u001b[39mprepare_method(method)\n\u001b[0;32m--> 368\u001b[0m \u001b[38;5;28;43mself\u001b[39;49m\u001b[38;5;241;43m.\u001b[39;49m\u001b[43mprepare_url\u001b[49m\u001b[43m(\u001b[49m\u001b[43murl\u001b[49m\u001b[43m,\u001b[49m\u001b[43m \u001b[49m\u001b[43mparams\u001b[49m\u001b[43m)\u001b[49m\n\u001b[1;32m    369\u001b[0m \u001b[38;5;28mself\u001b[39m\u001b[38;5;241m.\u001b[39mprepare_headers(headers)\n\u001b[1;32m    370\u001b[0m \u001b[38;5;28mself\u001b[39m\u001b[38;5;241m.\u001b[39mprepare_cookies(cookies)\n",
            "File \u001b[0;32m/anaconda/envs/azureml_py38/lib/python3.8/site-packages/requests/models.py:439\u001b[0m, in \u001b[0;36mPreparedRequest.prepare_url\u001b[0;34m(self, url, params)\u001b[0m\n\u001b[1;32m    436\u001b[0m     \u001b[38;5;28;01mraise\u001b[39;00m InvalidURL(\u001b[38;5;241m*\u001b[39me\u001b[38;5;241m.\u001b[39margs)\n\u001b[1;32m    438\u001b[0m \u001b[38;5;28;01mif\u001b[39;00m \u001b[38;5;129;01mnot\u001b[39;00m scheme:\n\u001b[0;32m--> 439\u001b[0m     \u001b[38;5;28;01mraise\u001b[39;00m MissingSchema(\n\u001b[1;32m    440\u001b[0m         \u001b[38;5;124mf\u001b[39m\u001b[38;5;124m\"\u001b[39m\u001b[38;5;124mInvalid URL \u001b[39m\u001b[38;5;132;01m{\u001b[39;00murl\u001b[38;5;132;01m!r}\u001b[39;00m\u001b[38;5;124m: No scheme supplied. \u001b[39m\u001b[38;5;124m\"\u001b[39m\n\u001b[1;32m    441\u001b[0m         \u001b[38;5;124mf\u001b[39m\u001b[38;5;124m\"\u001b[39m\u001b[38;5;124mPerhaps you meant http://\u001b[39m\u001b[38;5;132;01m{\u001b[39;00murl\u001b[38;5;132;01m}\u001b[39;00m\u001b[38;5;124m?\u001b[39m\u001b[38;5;124m\"\u001b[39m\n\u001b[1;32m    442\u001b[0m     )\n\u001b[1;32m    444\u001b[0m \u001b[38;5;28;01mif\u001b[39;00m \u001b[38;5;129;01mnot\u001b[39;00m host:\n\u001b[1;32m    445\u001b[0m     \u001b[38;5;28;01mraise\u001b[39;00m InvalidURL(\u001b[38;5;124mf\u001b[39m\u001b[38;5;124m\"\u001b[39m\u001b[38;5;124mInvalid URL \u001b[39m\u001b[38;5;132;01m{\u001b[39;00murl\u001b[38;5;132;01m!r}\u001b[39;00m\u001b[38;5;124m: No host supplied\u001b[39m\u001b[38;5;124m\"\u001b[39m)\n",
            "\u001b[0;31mMissingSchema\u001b[0m: Invalid URL 'None': No scheme supplied. Perhaps you meant http://None?"
          ]
        }
      ],
      "execution_count": 50,
      "metadata": {
        "gather": {
          "logged": 1668061101696
        },
        "jupyter": {
          "outputs_hidden": false,
          "source_hidden": false
        },
        "nteract": {
          "transient": {
            "deleting": false
          }
        }
      }
    },
    {
      "cell_type": "markdown",
      "source": [
        "TODO: In the cell below, print the logs of the web service and delete the service"
      ],
      "metadata": {
        "collapsed": true,
        "gather": {
          "logged": 1598432765711
        },
        "jupyter": {
          "outputs_hidden": false,
          "source_hidden": false
        },
        "nteract": {
          "transient": {
            "deleting": false
          }
        }
      }
    },
    {
      "cell_type": "code",
      "source": [
        "service.get_logs()"
      ],
      "outputs": [
        {
          "output_type": "stream",
          "name": "stderr",
          "text": "2022-11-10:05:52:43,592 ERROR    [_azureml_exception.py:273] Received bad response from Model Management Service:\nResponse Code: 404\nHeaders: {'Date': 'Thu, 10 Nov 2022 05:52:43 GMT', 'Content-Type': 'application/json', 'Transfer-Encoding': 'chunked', 'Connection': 'keep-alive', 'Vary': 'Accept-Encoding', 'x-ms-client-request-id': '36b7b7b7-13fd-4f9b-9780-c97c1a0b7d4d', 'x-ms-client-session-id': 'c68ca68d-043b-4d0d-822d-a55df8da382d', 'api-supported-versions': '1.0, 2018-03-01-preview, 2018-11-19', 'Strict-Transport-Security': 'max-age=15724800; includeSubDomains; preload', 'X-Content-Type-Options': 'nosniff', 'x-aml-cluster': 'vienna-southcentralus-02', 'x-request-time': '0.840', 'Content-Encoding': 'gzip'}\nContent: b'{\"code\":\"NotFound\",\"statusCode\":404,\"message\":\"The specified resource was not found.\",\"details\":[{\"code\":\"ResourceNotFound\",\"message\":\"The Resource \\'Microsoft.ContainerInstance/containerGroups/nba-games-ws-PCybbNxSIkS2Yt8Nd_XKqg\\' under resource group \\'aml-quickstarts-214827\\' was not found. For more details please go to https://aka.ms/ARMResourceNotFoundFix\"}],\"correlation\":{\"RequestId\":\"36b7b7b7-13fd-4f9b-9780-c97c1a0b7d4d\"}}'\n\n"
        },
        {
          "output_type": "error",
          "ename": "WebserviceException",
          "evalue": "WebserviceException:\n\tMessage: Received bad response from Model Management Service:\nResponse Code: 404\nHeaders: {'Date': 'Thu, 10 Nov 2022 05:52:43 GMT', 'Content-Type': 'application/json', 'Transfer-Encoding': 'chunked', 'Connection': 'keep-alive', 'Vary': 'Accept-Encoding', 'x-ms-client-request-id': '36b7b7b7-13fd-4f9b-9780-c97c1a0b7d4d', 'x-ms-client-session-id': 'c68ca68d-043b-4d0d-822d-a55df8da382d', 'api-supported-versions': '1.0, 2018-03-01-preview, 2018-11-19', 'Strict-Transport-Security': 'max-age=15724800; includeSubDomains; preload', 'X-Content-Type-Options': 'nosniff', 'x-aml-cluster': 'vienna-southcentralus-02', 'x-request-time': '0.840', 'Content-Encoding': 'gzip'}\nContent: b'{\"code\":\"NotFound\",\"statusCode\":404,\"message\":\"The specified resource was not found.\",\"details\":[{\"code\":\"ResourceNotFound\",\"message\":\"The Resource \\'Microsoft.ContainerInstance/containerGroups/nba-games-ws-PCybbNxSIkS2Yt8Nd_XKqg\\' under resource group \\'aml-quickstarts-214827\\' was not found. For more details please go to https://aka.ms/ARMResourceNotFoundFix\"}],\"correlation\":{\"RequestId\":\"36b7b7b7-13fd-4f9b-9780-c97c1a0b7d4d\"}}'\n\tInnerException None\n\tErrorResponse \n{\n    \"error\": {\n        \"message\": \"Received bad response from Model Management Service:\\nResponse Code: 404\\nHeaders: {'Date': 'Thu, 10 Nov 2022 05:52:43 GMT', 'Content-Type': 'application/json', 'Transfer-Encoding': 'chunked', 'Connection': 'keep-alive', 'Vary': 'Accept-Encoding', 'x-ms-client-request-id': '36b7b7b7-13fd-4f9b-9780-c97c1a0b7d4d', 'x-ms-client-session-id': 'c68ca68d-043b-4d0d-822d-a55df8da382d', 'api-supported-versions': '1.0, 2018-03-01-preview, 2018-11-19', 'Strict-Transport-Security': 'max-age=15724800; includeSubDomains; preload', 'X-Content-Type-Options': 'nosniff', 'x-aml-cluster': 'vienna-southcentralus-02', 'x-request-time': '0.840', 'Content-Encoding': 'gzip'}\\nContent: b'{\\\"code\\\":\\\"NotFound\\\",\\\"statusCode\\\":404,\\\"message\\\":\\\"The specified resource was not found.\\\",\\\"details\\\":[{\\\"code\\\":\\\"ResourceNotFound\\\",\\\"message\\\":\\\"The Resource \\\\'Microsoft.ContainerInstance/containerGroups/nba-games-ws-PCybbNxSIkS2Yt8Nd_XKqg\\\\' under resource group \\\\'aml-quickstarts-214827\\\\' was not found. For more details please go to https://aka.ms/ARMResourceNotFoundFix\\\"}],\\\"correlation\\\":{\\\"RequestId\\\":\\\"36b7b7b7-13fd-4f9b-9780-c97c1a0b7d4d\\\"}}'\"\n    }\n}",
          "traceback": [
            "\u001b[0;31m---------------------------------------------------------------------------\u001b[0m",
            "\u001b[0;31mWebserviceException\u001b[0m                       Traceback (most recent call last)",
            "Input \u001b[0;32mIn [39]\u001b[0m, in \u001b[0;36m<cell line: 1>\u001b[0;34m()\u001b[0m\n\u001b[0;32m----> 1\u001b[0m \u001b[43mservice\u001b[49m\u001b[38;5;241;43m.\u001b[39;49m\u001b[43mget_logs\u001b[49m\u001b[43m(\u001b[49m\u001b[43m)\u001b[49m\n",
            "File \u001b[0;32m/anaconda/envs/azureml_py38/lib/python3.8/site-packages/azureml/core/webservice/webservice.py:1237\u001b[0m, in \u001b[0;36mWebservice.get_logs\u001b[0;34m(self, num_lines, init)\u001b[0m\n\u001b[1;32m   1235\u001b[0m resp \u001b[38;5;241m=\u001b[39m ClientBase\u001b[38;5;241m.\u001b[39m_execute_func(get_requests_session()\u001b[38;5;241m.\u001b[39mget, service_logs_url, headers\u001b[38;5;241m=\u001b[39mheaders, params\u001b[38;5;241m=\u001b[39mparams)\n\u001b[1;32m   1236\u001b[0m \u001b[38;5;28;01mif\u001b[39;00m resp\u001b[38;5;241m.\u001b[39mstatus_code \u001b[38;5;241m>\u001b[39m\u001b[38;5;241m=\u001b[39m \u001b[38;5;241m400\u001b[39m:\n\u001b[0;32m-> 1237\u001b[0m     \u001b[38;5;28;01mraise\u001b[39;00m WebserviceException(\u001b[38;5;124m'\u001b[39m\u001b[38;5;124mReceived bad response from Model Management Service:\u001b[39m\u001b[38;5;130;01m\\n\u001b[39;00m\u001b[38;5;124m'\u001b[39m\n\u001b[1;32m   1238\u001b[0m                               \u001b[38;5;124m'\u001b[39m\u001b[38;5;124mResponse Code: \u001b[39m\u001b[38;5;132;01m{}\u001b[39;00m\u001b[38;5;130;01m\\n\u001b[39;00m\u001b[38;5;124m'\u001b[39m\n\u001b[1;32m   1239\u001b[0m                               \u001b[38;5;124m'\u001b[39m\u001b[38;5;124mHeaders: \u001b[39m\u001b[38;5;132;01m{}\u001b[39;00m\u001b[38;5;130;01m\\n\u001b[39;00m\u001b[38;5;124m'\u001b[39m\n\u001b[1;32m   1240\u001b[0m                               \u001b[38;5;124m'\u001b[39m\u001b[38;5;124mContent: \u001b[39m\u001b[38;5;132;01m{}\u001b[39;00m\u001b[38;5;124m'\u001b[39m\u001b[38;5;241m.\u001b[39mformat(resp\u001b[38;5;241m.\u001b[39mstatus_code, resp\u001b[38;5;241m.\u001b[39mheaders, resp\u001b[38;5;241m.\u001b[39mcontent),\n\u001b[1;32m   1241\u001b[0m                               logger\u001b[38;5;241m=\u001b[39mmodule_logger)\n\u001b[1;32m   1242\u001b[0m \u001b[38;5;28;01melse\u001b[39;00m:\n\u001b[1;32m   1243\u001b[0m     content \u001b[38;5;241m=\u001b[39m resp\u001b[38;5;241m.\u001b[39mcontent\n",
            "\u001b[0;31mWebserviceException\u001b[0m: WebserviceException:\n\tMessage: Received bad response from Model Management Service:\nResponse Code: 404\nHeaders: {'Date': 'Thu, 10 Nov 2022 05:52:43 GMT', 'Content-Type': 'application/json', 'Transfer-Encoding': 'chunked', 'Connection': 'keep-alive', 'Vary': 'Accept-Encoding', 'x-ms-client-request-id': '36b7b7b7-13fd-4f9b-9780-c97c1a0b7d4d', 'x-ms-client-session-id': 'c68ca68d-043b-4d0d-822d-a55df8da382d', 'api-supported-versions': '1.0, 2018-03-01-preview, 2018-11-19', 'Strict-Transport-Security': 'max-age=15724800; includeSubDomains; preload', 'X-Content-Type-Options': 'nosniff', 'x-aml-cluster': 'vienna-southcentralus-02', 'x-request-time': '0.840', 'Content-Encoding': 'gzip'}\nContent: b'{\"code\":\"NotFound\",\"statusCode\":404,\"message\":\"The specified resource was not found.\",\"details\":[{\"code\":\"ResourceNotFound\",\"message\":\"The Resource \\'Microsoft.ContainerInstance/containerGroups/nba-games-ws-PCybbNxSIkS2Yt8Nd_XKqg\\' under resource group \\'aml-quickstarts-214827\\' was not found. For more details please go to https://aka.ms/ARMResourceNotFoundFix\"}],\"correlation\":{\"RequestId\":\"36b7b7b7-13fd-4f9b-9780-c97c1a0b7d4d\"}}'\n\tInnerException None\n\tErrorResponse \n{\n    \"error\": {\n        \"message\": \"Received bad response from Model Management Service:\\nResponse Code: 404\\nHeaders: {'Date': 'Thu, 10 Nov 2022 05:52:43 GMT', 'Content-Type': 'application/json', 'Transfer-Encoding': 'chunked', 'Connection': 'keep-alive', 'Vary': 'Accept-Encoding', 'x-ms-client-request-id': '36b7b7b7-13fd-4f9b-9780-c97c1a0b7d4d', 'x-ms-client-session-id': 'c68ca68d-043b-4d0d-822d-a55df8da382d', 'api-supported-versions': '1.0, 2018-03-01-preview, 2018-11-19', 'Strict-Transport-Security': 'max-age=15724800; includeSubDomains; preload', 'X-Content-Type-Options': 'nosniff', 'x-aml-cluster': 'vienna-southcentralus-02', 'x-request-time': '0.840', 'Content-Encoding': 'gzip'}\\nContent: b'{\\\"code\\\":\\\"NotFound\\\",\\\"statusCode\\\":404,\\\"message\\\":\\\"The specified resource was not found.\\\",\\\"details\\\":[{\\\"code\\\":\\\"ResourceNotFound\\\",\\\"message\\\":\\\"The Resource \\\\'Microsoft.ContainerInstance/containerGroups/nba-games-ws-PCybbNxSIkS2Yt8Nd_XKqg\\\\' under resource group \\\\'aml-quickstarts-214827\\\\' was not found. For more details please go to https://aka.ms/ARMResourceNotFoundFix\\\"}],\\\"correlation\\\":{\\\"RequestId\\\":\\\"36b7b7b7-13fd-4f9b-9780-c97c1a0b7d4d\\\"}}'\"\n    }\n}"
          ]
        }
      ],
      "execution_count": 39,
      "metadata": {
        "jupyter": {
          "outputs_hidden": false,
          "source_hidden": false
        },
        "nteract": {
          "transient": {
            "deleting": false
          }
        },
        "gather": {
          "logged": 1668059563736
        }
      }
    },
    {
      "cell_type": "code",
      "source": [
        "service.delete()"
      ],
      "outputs": [
        {
          "output_type": "error",
          "ename": "WebserviceException",
          "evalue": "WebserviceException:\n\tMessage: There is a deployment operation in flight for the Service: nba-games-ws\n\tInnerException None\n\tErrorResponse \n{\n    \"error\": {\n        \"message\": \"There is a deployment operation in flight for the Service: nba-games-ws\"\n    }\n}",
          "traceback": [
            "\u001b[0;31m---------------------------------------------------------------------------\u001b[0m",
            "\u001b[0;31mWebserviceException\u001b[0m                       Traceback (most recent call last)",
            "Input \u001b[0;32mIn [38]\u001b[0m, in \u001b[0;36m<cell line: 1>\u001b[0;34m()\u001b[0m\n\u001b[0;32m----> 1\u001b[0m \u001b[43mservice\u001b[49m\u001b[38;5;241;43m.\u001b[39;49m\u001b[43mdelete\u001b[49m\u001b[43m(\u001b[49m\u001b[43m)\u001b[49m\n",
            "File \u001b[0;32m/anaconda/envs/azureml_py38/lib/python3.8/site-packages/azureml/core/webservice/webservice.py:1419\u001b[0m, in \u001b[0;36mWebservice.delete\u001b[0;34m(self)\u001b[0m\n\u001b[1;32m   1409\u001b[0m \u001b[38;5;28;01mdef\u001b[39;00m \u001b[38;5;21mdelete\u001b[39m(\u001b[38;5;28mself\u001b[39m):\n\u001b[1;32m   1410\u001b[0m     \u001b[38;5;124;03m\"\"\"\u001b[39;00m\n\u001b[1;32m   1411\u001b[0m \u001b[38;5;124;03m    Delete this Webservice from its associated workspace.\u001b[39;00m\n\u001b[1;32m   1412\u001b[0m \n\u001b[0;32m   (...)\u001b[0m\n\u001b[1;32m   1417\u001b[0m \u001b[38;5;124;03m    :raises: :class:`azureml.exceptions.WebserviceException`\u001b[39;00m\n\u001b[1;32m   1418\u001b[0m \u001b[38;5;124;03m    \"\"\"\u001b[39;00m\n\u001b[0;32m-> 1419\u001b[0m     \u001b[43mWebservice\u001b[49m\u001b[38;5;241;43m.\u001b[39;49m\u001b[43m_check_for_webservice\u001b[49m\u001b[43m(\u001b[49m\u001b[38;5;28;43mself\u001b[39;49m\u001b[38;5;241;43m.\u001b[39;49m\u001b[43mworkspace\u001b[49m\u001b[43m,\u001b[49m\u001b[43m \u001b[49m\u001b[38;5;28;43mself\u001b[39;49m\u001b[38;5;241;43m.\u001b[39;49m\u001b[43mname\u001b[49m\u001b[43m,\u001b[49m\u001b[43m \u001b[49m\u001b[38;5;28;43mself\u001b[39;49m\u001b[38;5;241;43m.\u001b[39;49m\u001b[43mcompute_type\u001b[49m\u001b[43m,\u001b[49m\n\u001b[1;32m   1420\u001b[0m \u001b[43m                                     \u001b[49m\u001b[38;5;28;43;01mNone\u001b[39;49;00m\u001b[43m,\u001b[49m\u001b[43m \u001b[49m\u001b[43mSERVICE_REQUEST_OPERATION_DELETE\u001b[49m\u001b[43m)\u001b[49m\n\u001b[1;32m   1422\u001b[0m     headers \u001b[38;5;241m=\u001b[39m \u001b[38;5;28mself\u001b[39m\u001b[38;5;241m.\u001b[39m_auth\u001b[38;5;241m.\u001b[39mget_authentication_header()\n\u001b[1;32m   1423\u001b[0m     params \u001b[38;5;241m=\u001b[39m {}\n",
            "File \u001b[0;32m/anaconda/envs/azureml_py38/lib/python3.8/site-packages/azureml/core/webservice/webservice.py:744\u001b[0m, in \u001b[0;36mWebservice._check_for_webservice\u001b[0;34m(workspace, name, compute_type, payload, action, request_func, check_func)\u001b[0m\n\u001b[1;32m    741\u001b[0m     \u001b[38;5;28;01mdef\u001b[39;00m \u001b[38;5;21mcheck_func\u001b[39m(content):\n\u001b[1;32m    742\u001b[0m         \u001b[38;5;28;01mreturn\u001b[39;00m Webservice\u001b[38;5;241m.\u001b[39m_check_validate_error(content)\n\u001b[0;32m--> 744\u001b[0m \u001b[43mWebservice\u001b[49m\u001b[38;5;241;43m.\u001b[39;49m\u001b[43m_run_validate_framework\u001b[49m\u001b[43m(\u001b[49m\u001b[43mrequest_func\u001b[49m\u001b[43m,\u001b[49m\u001b[43m \u001b[49m\u001b[43mcheck_func\u001b[49m\u001b[43m)\u001b[49m\n",
            "File \u001b[0;32m/anaconda/envs/azureml_py38/lib/python3.8/site-packages/azureml/core/webservice/webservice.py:638\u001b[0m, in \u001b[0;36mWebservice._run_validate_framework\u001b[0;34m(request_func, check_func)\u001b[0m\n\u001b[1;32m    635\u001b[0m \u001b[38;5;28;01mif\u001b[39;00m \u001b[38;5;129;01mnot\u001b[39;00m error:\n\u001b[1;32m    636\u001b[0m     \u001b[38;5;28;01mreturn\u001b[39;00m\n\u001b[0;32m--> 638\u001b[0m \u001b[38;5;28;01mraise\u001b[39;00m WebserviceException(error)\n",
            "\u001b[0;31mWebserviceException\u001b[0m: WebserviceException:\n\tMessage: There is a deployment operation in flight for the Service: nba-games-ws\n\tInnerException None\n\tErrorResponse \n{\n    \"error\": {\n        \"message\": \"There is a deployment operation in flight for the Service: nba-games-ws\"\n    }\n}"
          ]
        }
      ],
      "execution_count": 38,
      "metadata": {
        "jupyter": {
          "source_hidden": false,
          "outputs_hidden": false
        },
        "nteract": {
          "transient": {
            "deleting": false
          }
        },
        "gather": {
          "logged": 1668059473417
        }
      }
    },
    {
      "cell_type": "markdown",
      "source": [
        "**Submission Checklist**\n",
        "- I have registered the model.\n",
        "- I have deployed the model with the best accuracy as a webservice.\n",
        "- I have tested the webservice by sending a request to the model endpoint.\n",
        "- I have deleted the webservice and shutdown all the computes that I have used.\n",
        "- I have taken a screenshot showing the model endpoint as active.\n",
        "- The project includes a file containing the environment details.\n"
      ],
      "metadata": {}
    },
    {
      "cell_type": "markdown",
      "source": [],
      "metadata": {}
    }
  ],
  "metadata": {
    "kernel_info": {
      "name": "python3"
    },
    "kernelspec": {
      "name": "python3",
      "language": "python",
      "display_name": "Python 3 (ipykernel)"
    },
    "language_info": {
      "name": "python",
      "version": "3.8.5",
      "mimetype": "text/x-python",
      "codemirror_mode": {
        "name": "ipython",
        "version": 3
      },
      "pygments_lexer": "ipython3",
      "nbconvert_exporter": "python",
      "file_extension": ".py"
    },
    "nteract": {
      "version": "nteract-front-end@1.0.0"
    },
    "microsoft": {
      "host": {
        "AzureML": {
          "notebookHasBeenCompleted": true
        }
      }
    }
  },
  "nbformat": 4,
  "nbformat_minor": 2
}