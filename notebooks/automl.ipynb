{
 "cells": [
  {
   "cell_type": "markdown",
   "metadata": {},
   "source": [
    "# Automated ML\n",
    "\n",
    "TODO: Import Dependencies. In the cell below, import all the dependencies that you will need to complete the project."
   ]
  },
  {
   "cell_type": "code",
   "execution_count": 1,
   "metadata": {
    "gather": {
     "logged": 1668572665305
    },
    "scrolled": false
   },
   "outputs": [
    {
     "ename": "ModuleNotFoundError",
     "evalue": "No module named 'azureml.core'",
     "output_type": "error",
     "traceback": [
      "\u001b[0;31m---------------------------------------------------------------------------\u001b[0m",
      "\u001b[0;31mModuleNotFoundError\u001b[0m                       Traceback (most recent call last)",
      "Cell \u001b[0;32mIn [1], line 1\u001b[0m\n\u001b[0;32m----> 1\u001b[0m \u001b[38;5;28;01mimport\u001b[39;00m \u001b[38;5;21;01mazureml\u001b[39;00m\u001b[38;5;21;01m.\u001b[39;00m\u001b[38;5;21;01mcore\u001b[39;00m\n\u001b[1;32m      2\u001b[0m \u001b[38;5;28;01mfrom\u001b[39;00m \u001b[38;5;21;01mazureml\u001b[39;00m\u001b[38;5;21;01m.\u001b[39;00m\u001b[38;5;21;01mcore\u001b[39;00m\u001b[38;5;21;01m.\u001b[39;00m\u001b[38;5;21;01mexperiment\u001b[39;00m \u001b[38;5;28;01mimport\u001b[39;00m Experiment\n\u001b[1;32m      3\u001b[0m \u001b[38;5;28;01mfrom\u001b[39;00m \u001b[38;5;21;01mazureml\u001b[39;00m\u001b[38;5;21;01m.\u001b[39;00m\u001b[38;5;21;01mcore\u001b[39;00m\u001b[38;5;21;01m.\u001b[39;00m\u001b[38;5;21;01mworkspace\u001b[39;00m \u001b[38;5;28;01mimport\u001b[39;00m Workspace\n",
      "\u001b[0;31mModuleNotFoundError\u001b[0m: No module named 'azureml.core'"
     ]
    }
   ],
   "source": [
    "import azureml.core\n",
    "from azureml.core.experiment import Experiment\n",
    "from azureml.core.workspace import Workspace\n",
    "from azureml.core.dataset import Dataset\n",
    "from azureml.train.automl import AutoMLConfig\n",
    "from azureml.train.automl.run import AutoMLRun"
   ]
  },
  {
   "cell_type": "markdown",
   "metadata": {},
   "source": [
    "## Dataset\n",
    "\n",
    "### Overview\n",
    "The National Basketball Association (NBA) Games Data Kaggle dataset (https://www.kaggle.com/datasets/nathanlauga/nba-games) is a dataset of all NBA games from 2004-2020.  The information was collected from the NBA stats website and contains key information about the perfromance of each team during the game.  I will be using this data to train a model on what the key characteristics are for an NBA team in a win.  Using a data-driven approach, NBA teams can choose their focus area for strategizing and practicing when preparing for a successful season."
   ]
  },
  {
   "cell_type": "code",
   "execution_count": 3,
   "metadata": {
    "gather": {
     "logged": 1668572766154
    },
    "jupyter": {
     "outputs_hidden": false,
     "source_hidden": false
    },
    "nteract": {
     "transient": {
      "deleting": false
     }
    }
   },
   "outputs": [],
   "source": [
    "ws = Workspace.from_config()\n",
    "\n",
    "# choose a name for experiment\n",
    "experiment_name = 'nba_automl'\n",
    "\n",
    "experiment=Experiment(ws, experiment_name)"
   ]
  },
  {
   "cell_type": "markdown",
   "metadata": {},
   "source": [
    "## AutoML Configuration\n",
    "\n",
    "TODO: Explain why you chose the automl settings and cofiguration you used below."
   ]
  },
  {
   "cell_type": "code",
   "execution_count": 4,
   "metadata": {
    "gather": {
     "logged": 1668572773343
    },
    "jupyter": {
     "outputs_hidden": false,
     "source_hidden": false
    },
    "nteract": {
     "transient": {
      "deleting": false
     }
    }
   },
   "outputs": [],
   "source": [
    "# Read Data\n",
    "dataset = Dataset.get_by_name(ws, name='nba-games-data')\n",
    "df = dataset.to_pandas_dataframe()\n",
    "\n",
    "from sklearn.model_selection import train_test_split\n",
    "train_data, test_data = train_test_split(df, test_size=0.15)"
   ]
  },
  {
   "cell_type": "code",
   "execution_count": 5,
   "metadata": {
    "gather": {
     "logged": 1668572775893
    },
    "jupyter": {
     "outputs_hidden": false,
     "source_hidden": false
    },
    "nteract": {
     "transient": {
      "deleting": false
     }
    }
   },
   "outputs": [],
   "source": [
    "automl_settings = {\"n_cross_validations\": 3,\n",
    "    \"primary_metric\": \"AUC_weighted\",\n",
    "    \"enable_early_stopping\": True,\n",
    "    \"max_concurrent_iterations\": 2,  \n",
    "    \"experiment_timeout_hours\": 0.25\n",
    "}\n",
    "\n",
    "automl_config = AutoMLConfig( task=\"classification\",\n",
    "    debug_log=\"automl_errors.log\",\n",
    "    training_data=train_data,\n",
    "    label_column_name='HOME_TEAM_WINS',\n",
    "    **automl_settings)"
   ]
  },
  {
   "cell_type": "code",
   "execution_count": 6,
   "metadata": {
    "gather": {
     "logged": 1668573872450
    },
    "jupyter": {
     "outputs_hidden": false,
     "source_hidden": false
    },
    "nteract": {
     "transient": {
      "deleting": false
     }
    }
   },
   "outputs": [
    {
     "name": "stderr",
     "output_type": "stream",
     "text": [
      "2022-11-16:04:26:25,566 WARNING  [local_experiment_driver.py:145] Running on local machine. Note that local runs always run synchronously even if you use the parameter 'show_output=False'\n"
     ]
    },
    {
     "data": {
      "text/html": [
       "<table style=\"width:100%\"><tr><th>Experiment</th><th>Id</th><th>Type</th><th>Status</th><th>Details Page</th><th>Docs Page</th></tr><tr><td>nba_automl</td><td>AutoML_c0d4f8bc-c737-42c2-8800-8776418cc59a</td><td>automl</td><td>Preparing</td><td><a href=\"https://ml.azure.com/runs/AutoML_c0d4f8bc-c737-42c2-8800-8776418cc59a?wsid=/subscriptions/3e42d11f-d64d-4173-af9b-12ecaa1030b3/resourcegroups/aml-quickstarts-215640/workspaces/quick-starts-ws-215640&amp;tid=660b3398-b80e-49d2-bc5b-ac1dc93b5254\" target=\"_blank\" rel=\"noopener\">Link to Azure Machine Learning studio</a></td><td><a href=\"https://docs.microsoft.com/en-us/python/api/overview/azure/ml/intro?view=azure-ml-py\" target=\"_blank\" rel=\"noopener\">Link to Documentation</a></td></tr></table>"
      ],
      "text/plain": [
       "<IPython.core.display.HTML object>"
      ]
     },
     "metadata": {},
     "output_type": "display_data"
    },
    {
     "name": "stderr",
     "output_type": "stream",
     "text": [
      "2022-11-16:04:44:25,476 INFO     [explanation_client.py:334] Using default datastore for uploads\n"
     ]
    }
   ],
   "source": [
    "remote_run = experiment.submit(automl_config)"
   ]
  },
  {
   "cell_type": "markdown",
   "metadata": {},
   "source": [
    "## Run Details\n"
   ]
  },
  {
   "cell_type": "code",
   "execution_count": 7,
   "metadata": {
    "gather": {
     "logged": 1668574066998
    },
    "jupyter": {
     "outputs_hidden": false,
     "source_hidden": false
    },
    "nteract": {
     "transient": {
      "deleting": false
     }
    }
   },
   "outputs": [
    {
     "data": {
      "application/vnd.jupyter.widget-view+json": {
       "model_id": "01d9f36d8a894875b919ab90cfb8a45d",
       "version_major": 2,
       "version_minor": 0
      },
      "text/plain": [
       "_AutoMLWidget(widget_settings={'childWidgetDisplay': 'popup', 'send_telemetry': False, 'log_level': 'INFO', 's…"
      ]
     },
     "metadata": {},
     "output_type": "display_data"
    },
    {
     "data": {
      "application/aml.mini.widget.v1": "{\"status\": \"Completed\", \"workbench_run_details_uri\": \"https://ml.azure.com/runs/AutoML_c0d4f8bc-c737-42c2-8800-8776418cc59a?wsid=/subscriptions/3e42d11f-d64d-4173-af9b-12ecaa1030b3/resourcegroups/aml-quickstarts-215640/workspaces/quick-starts-ws-215640&tid=660b3398-b80e-49d2-bc5b-ac1dc93b5254\", \"run_id\": \"AutoML_c0d4f8bc-c737-42c2-8800-8776418cc59a\", \"run_properties\": {\"run_id\": \"AutoML_c0d4f8bc-c737-42c2-8800-8776418cc59a\", \"created_utc\": \"2022-11-16T04:26:26.520941Z\", \"properties\": {\"num_iterations\": \"1000\", \"training_type\": \"TrainFull\", \"acquisition_function\": \"EI\", \"primary_metric\": \"AUC_weighted\", \"train_split\": \"0\", \"acquisition_parameter\": \"0\", \"num_cross_validation\": \"3\", \"target\": \"local\", \"AMLSettingsJsonString\": \"{\\\"path\\\":null,\\\"name\\\":\\\"nba_automl\\\",\\\"subscription_id\\\":\\\"3e42d11f-d64d-4173-af9b-12ecaa1030b3\\\",\\\"resource_group\\\":\\\"aml-quickstarts-215640\\\",\\\"workspace_name\\\":\\\"quick-starts-ws-215640\\\",\\\"region\\\":\\\"southcentralus\\\",\\\"compute_target\\\":\\\"local\\\",\\\"spark_service\\\":null,\\\"azure_service\\\":\\\"Microsoft.AzureNotebookVM\\\",\\\"many_models\\\":false,\\\"pipeline_fetch_max_batch_size\\\":1,\\\"enable_batch_run\\\":false,\\\"enable_run_restructure\\\":false,\\\"start_auxiliary_runs_before_parent_complete\\\":false,\\\"enable_code_generation\\\":true,\\\"iterations\\\":1000,\\\"primary_metric\\\":\\\"AUC_weighted\\\",\\\"task_type\\\":\\\"classification\\\",\\\"positive_label\\\":null,\\\"data_script\\\":null,\\\"test_size\\\":0.0,\\\"test_include_predictions_only\\\":false,\\\"validation_size\\\":0.0,\\\"n_cross_validations\\\":3,\\\"y_min\\\":null,\\\"y_max\\\":null,\\\"num_classes\\\":null,\\\"featurization\\\":\\\"auto\\\",\\\"_ignore_package_version_incompatibilities\\\":false,\\\"is_timeseries\\\":false,\\\"max_cores_per_iteration\\\":1,\\\"max_concurrent_iterations\\\":2,\\\"iteration_timeout_minutes\\\":null,\\\"mem_in_mb\\\":null,\\\"enforce_time_on_windows\\\":false,\\\"experiment_timeout_minutes\\\":15,\\\"experiment_exit_score\\\":null,\\\"partition_column_names\\\":null,\\\"whitelist_models\\\":null,\\\"blacklist_algos\\\":[\\\"TensorFlowLinearClassifier\\\",\\\"TensorFlowDNN\\\"],\\\"supported_models\\\":[\\\"LinearSVM\\\",\\\"DecisionTree\\\",\\\"LogisticRegression\\\",\\\"RandomForest\\\",\\\"SGD\\\",\\\"BernoulliNaiveBayes\\\",\\\"SVM\\\",\\\"XGBoostClassifier\\\",\\\"MultinomialNaiveBayes\\\",\\\"KNN\\\",\\\"ExtremeRandomTrees\\\",\\\"TensorFlowLinearClassifier\\\",\\\"GradientBoosting\\\",\\\"LightGBM\\\",\\\"TabnetClassifier\\\",\\\"TensorFlowDNN\\\",\\\"AveragedPerceptronClassifier\\\"],\\\"private_models\\\":[],\\\"auto_blacklist\\\":true,\\\"blacklist_samples_reached\\\":false,\\\"exclude_nan_labels\\\":true,\\\"verbosity\\\":20,\\\"_debug_log\\\":\\\"automl_errors.log\\\",\\\"show_warnings\\\":false,\\\"model_explainability\\\":true,\\\"service_url\\\":null,\\\"sdk_url\\\":null,\\\"sdk_packages\\\":null,\\\"enable_onnx_compatible_models\\\":false,\\\"enable_split_onnx_featurizer_estimator_models\\\":false,\\\"vm_type\\\":null,\\\"telemetry_verbosity\\\":20,\\\"send_telemetry\\\":true,\\\"enable_dnn\\\":false,\\\"scenario\\\":\\\"AutoML\\\",\\\"environment_label\\\":null,\\\"save_mlflow\\\":false,\\\"enable_categorical_indicators\\\":false,\\\"force_text_dnn\\\":false,\\\"enable_feature_sweeping\\\":true,\\\"enable_early_stopping\\\":true,\\\"early_stopping_n_iters\\\":10,\\\"arguments\\\":null,\\\"dataset_id\\\":null,\\\"hyperdrive_config\\\":null,\\\"validation_dataset_id\\\":null,\\\"run_source\\\":null,\\\"metrics\\\":null,\\\"enable_metric_confidence\\\":false,\\\"enable_ensembling\\\":true,\\\"enable_stack_ensembling\\\":true,\\\"ensemble_iterations\\\":15,\\\"enable_tf\\\":false,\\\"enable_subsampling\\\":null,\\\"subsample_seed\\\":null,\\\"enable_nimbusml\\\":false,\\\"enable_streaming\\\":false,\\\"force_streaming\\\":false,\\\"track_child_runs\\\":true,\\\"allowed_private_models\\\":[],\\\"label_column_name\\\":\\\"HOME_TEAM_WINS\\\",\\\"weight_column_name\\\":null,\\\"cv_split_column_names\\\":null,\\\"enable_local_managed\\\":false,\\\"_local_managed_run_id\\\":null,\\\"cost_mode\\\":1,\\\"lag_length\\\":0,\\\"metric_operation\\\":\\\"maximize\\\",\\\"preprocess\\\":true}\", \"DataPrepJsonString\": null, \"EnableSubsampling\": null, \"runTemplate\": \"AutoML\", \"azureml.runsource\": \"automl\", \"display_task_type\": \"classification\", \"dependencies_versions\": \"{\\\"azureml-widgets\\\": \\\"1.44.0\\\", \\\"azureml-training-tabular\\\": \\\"1.44.0\\\", \\\"azureml-train\\\": \\\"1.44.0\\\", \\\"azureml-train-restclients-hyperdrive\\\": \\\"1.44.0\\\", \\\"azureml-train-core\\\": \\\"1.44.0\\\", \\\"azureml-train-automl\\\": \\\"1.44.0\\\", \\\"azureml-train-automl-runtime\\\": \\\"1.44.0\\\", \\\"azureml-train-automl-client\\\": \\\"1.44.0\\\", \\\"azureml-tensorboard\\\": \\\"1.44.0\\\", \\\"azureml-telemetry\\\": \\\"1.44.0\\\", \\\"azureml-sdk\\\": \\\"1.44.0\\\", \\\"azureml-samples\\\": \\\"0+unknown\\\", \\\"azureml-responsibleai\\\": \\\"1.44.0\\\", \\\"azureml-pipeline\\\": \\\"1.44.0\\\", \\\"azureml-pipeline-steps\\\": \\\"1.44.0\\\", \\\"azureml-pipeline-core\\\": \\\"1.44.0\\\", \\\"azureml-opendatasets\\\": \\\"1.44.0\\\", \\\"azureml-mlflow\\\": \\\"1.44.0\\\", \\\"azureml-interpret\\\": \\\"1.44.0\\\", \\\"azureml-inference-server-http\\\": \\\"0.7.4\\\", \\\"azureml-explain-model\\\": \\\"1.44.0\\\", \\\"azureml-defaults\\\": \\\"1.44.0\\\", \\\"azureml-dataset-runtime\\\": \\\"1.44.0\\\", \\\"azureml-dataprep\\\": \\\"4.2.2\\\", \\\"azureml-dataprep-rslex\\\": \\\"2.8.1\\\", \\\"azureml-dataprep-native\\\": \\\"38.0.0\\\", \\\"azureml-datadrift\\\": \\\"1.44.0\\\", \\\"azureml-core\\\": \\\"1.44.0\\\", \\\"azureml-contrib-services\\\": \\\"1.44.0\\\", \\\"azureml-contrib-server\\\": \\\"1.44.0\\\", \\\"azureml-contrib-reinforcementlearning\\\": \\\"1.44.0\\\", \\\"azureml-contrib-pipeline-steps\\\": \\\"1.44.0\\\", \\\"azureml-contrib-notebook\\\": \\\"1.44.0\\\", \\\"azureml-contrib-fairness\\\": \\\"1.44.0\\\", \\\"azureml-contrib-dataset\\\": \\\"1.44.0\\\", \\\"azureml-contrib-automl-pipeline-steps\\\": \\\"1.44.0\\\", \\\"azureml-cli-common\\\": \\\"1.44.0\\\", \\\"azureml-automl-runtime\\\": \\\"1.44.0\\\", \\\"azureml-automl-dnn-nlp\\\": \\\"1.44.0\\\", \\\"azureml-automl-core\\\": \\\"1.44.0\\\", \\\"azureml-accel-models\\\": \\\"1.44.0\\\"}\", \"_aml_system_scenario_identification\": \"Local.Parent\", \"ClientSdkVersion\": \"1.44.0\", \"ClientType\": \"SDK\", \"environment_cpu_name\": \"AzureML-AutoML\", \"environment_cpu_label\": \"prod\", \"environment_gpu_name\": \"AzureML-AutoML-GPU\", \"environment_gpu_label\": \"prod\", \"root_attribution\": \"automl\", \"attribution\": \"AutoML\", \"Orchestrator\": \"AutoML\", \"_azureml.ComputeTargetType\": \"local\", \"ProblemInfoJsonString\": \"{\\\"dataset_num_categorical\\\": 0, \\\"is_sparse\\\": false, \\\"subsampling\\\": false, \\\"has_extra_col\\\": true, \\\"dataset_classes\\\": 2, \\\"dataset_features\\\": 11, \\\"dataset_samples\\\": 21926, \\\"single_frequency_class_detected\\\": false}\"}, \"tags\": {\"model_explain_run\": \"best_run\", \"_aml_system_automl_run_workspace_id\": \"260111fa-1d62-47e0-8a2c-7c2f5739d572\", \"best_score\": \"0.9495522139946031\", \"best_pipeline\": \"VotingEnsemble\", \"automl_best_child_run_id\": \"AutoML_c0d4f8bc-c737-42c2-8800-8776418cc59a_26\", \"model_explain_best_run_child_id\": \"AutoML_c0d4f8bc-c737-42c2-8800-8776418cc59a_26\"}, \"end_time_utc\": \"2022-11-16T04:42:52.276255Z\", \"status\": \"Completed\", \"log_files\": {}, \"log_groups\": [], \"run_duration\": \"0:16:25\", \"run_number\": \"1668572786\", \"run_queued_details\": {\"status\": \"Completed\", \"details\": null}}, \"child_runs\": [{\"run_id\": \"AutoML_c0d4f8bc-c737-42c2-8800-8776418cc59a_0\", \"run_number\": 1668572802, \"metric\": null, \"status\": \"Completed\", \"run_type\": null, \"training_percent\": \"100\", \"start_time\": \"2022-11-16T04:26:42.549519Z\", \"end_time\": \"2022-11-16T04:27:15.539994Z\", \"created_time\": \"2022-11-16T04:26:42.451218Z\", \"created_time_dt\": \"2022-11-16T04:26:42.451218Z\", \"duration\": \"0:00:33\", \"iteration\": \"0\", \"goal\": \"AUC_weighted_max\", \"run_name\": \"MaxAbsScaler, LightGBM\", \"run_properties\": \"copy=True\", \"primary_metric\": 0.94677816, \"best_metric\": 0.94677816}, {\"run_id\": \"AutoML_c0d4f8bc-c737-42c2-8800-8776418cc59a_1\", \"run_number\": 1668572835, \"metric\": null, \"status\": \"Completed\", \"run_type\": null, \"training_percent\": \"100\", \"start_time\": \"2022-11-16T04:27:15.823167Z\", \"end_time\": \"2022-11-16T04:27:53.229112Z\", \"created_time\": \"2022-11-16T04:27:15.703817Z\", \"created_time_dt\": \"2022-11-16T04:27:15.703817Z\", \"duration\": \"0:00:37\", \"iteration\": \"1\", \"goal\": \"AUC_weighted_max\", \"run_name\": \"MaxAbsScaler, XGBoostClassifier\", \"run_properties\": \"copy=True\", \"primary_metric\": 0.94192023, \"best_metric\": 0.94677816}, {\"run_id\": \"AutoML_c0d4f8bc-c737-42c2-8800-8776418cc59a_2\", \"run_number\": 1668572873, \"metric\": null, \"status\": \"Completed\", \"run_type\": null, \"training_percent\": \"100\", \"start_time\": \"2022-11-16T04:27:54.03013Z\", \"end_time\": \"2022-11-16T04:28:23.967334Z\", \"created_time\": \"2022-11-16T04:27:53.901367Z\", \"created_time_dt\": \"2022-11-16T04:27:53.901367Z\", \"duration\": \"0:00:30\", \"iteration\": \"2\", \"goal\": \"AUC_weighted_max\", \"run_name\": \"MaxAbsScaler, ExtremeRandomTrees\", \"run_properties\": \"copy=True\", \"primary_metric\": 0.90409257, \"best_metric\": 0.94677816}, {\"run_id\": \"AutoML_c0d4f8bc-c737-42c2-8800-8776418cc59a_3\", \"run_number\": 1668572905, \"metric\": null, \"status\": \"Completed\", \"run_type\": null, \"training_percent\": \"100\", \"start_time\": \"2022-11-16T04:28:25.256268Z\", \"end_time\": \"2022-11-16T04:28:54.890273Z\", \"created_time\": \"2022-11-16T04:28:25.146625Z\", \"created_time_dt\": \"2022-11-16T04:28:25.146625Z\", \"duration\": \"0:00:29\", \"iteration\": \"3\", \"goal\": \"AUC_weighted_max\", \"run_name\": \"MaxAbsScaler, RandomForest\", \"run_properties\": \"copy=True\", \"primary_metric\": 0.91370303, \"best_metric\": 0.94677816}, {\"run_id\": \"AutoML_c0d4f8bc-c737-42c2-8800-8776418cc59a_4\", \"run_number\": 1668572936, \"metric\": null, \"status\": \"Completed\", \"run_type\": null, \"training_percent\": \"100\", \"start_time\": \"2022-11-16T04:28:56.172278Z\", \"end_time\": \"2022-11-16T04:29:25.475764Z\", \"created_time\": \"2022-11-16T04:28:56.082726Z\", \"created_time_dt\": \"2022-11-16T04:28:56.082726Z\", \"duration\": \"0:00:29\", \"iteration\": \"4\", \"goal\": \"AUC_weighted_max\", \"run_name\": \"StandardScalerWrapper, LightGBM\", \"run_properties\": \"copy=True, with_mean=False, with_std=True\", \"primary_metric\": 0.92501813, \"best_metric\": 0.94677816}, {\"run_id\": \"AutoML_c0d4f8bc-c737-42c2-8800-8776418cc59a_5\", \"run_number\": 1668572966, \"metric\": null, \"status\": \"Completed\", \"run_type\": null, \"training_percent\": \"100\", \"start_time\": \"2022-11-16T04:29:26.794589Z\", \"end_time\": \"2022-11-16T04:29:57.185056Z\", \"created_time\": \"2022-11-16T04:29:26.698496Z\", \"created_time_dt\": \"2022-11-16T04:29:26.698496Z\", \"duration\": \"0:00:30\", \"iteration\": \"5\", \"goal\": \"AUC_weighted_max\", \"run_name\": \"SparseNormalizer, XGBoostClassifier\", \"run_properties\": \"copy=True, norm='max'\", \"primary_metric\": 0.93394046, \"best_metric\": 0.94677816}, {\"run_id\": \"AutoML_c0d4f8bc-c737-42c2-8800-8776418cc59a_6\", \"run_number\": 1668572998, \"metric\": null, \"status\": \"Completed\", \"run_type\": null, \"training_percent\": \"100\", \"start_time\": \"2022-11-16T04:29:58.434695Z\", \"end_time\": \"2022-11-16T04:30:39.323319Z\", \"created_time\": \"2022-11-16T04:29:58.313209Z\", \"created_time_dt\": \"2022-11-16T04:29:58.313209Z\", \"duration\": \"0:00:41\", \"iteration\": \"6\", \"goal\": \"AUC_weighted_max\", \"run_name\": \"SparseNormalizer, RandomForest\", \"run_properties\": \"copy=True, norm='l2'\", \"primary_metric\": 0.9254153, \"best_metric\": 0.94677816}, {\"run_id\": \"AutoML_c0d4f8bc-c737-42c2-8800-8776418cc59a_7\", \"run_number\": 1668573040, \"metric\": null, \"status\": \"Completed\", \"run_type\": null, \"training_percent\": \"100\", \"start_time\": \"2022-11-16T04:30:40.829385Z\", \"end_time\": \"2022-11-16T04:31:12.500519Z\", \"created_time\": \"2022-11-16T04:30:40.6155Z\", \"created_time_dt\": \"2022-11-16T04:30:40.6155Z\", \"duration\": \"0:00:31\", \"iteration\": \"7\", \"goal\": \"AUC_weighted_max\", \"run_name\": \"MinMaxScaler, RandomForest\", \"run_properties\": \"copy=True, feature_range=(0, 1\", \"primary_metric\": 0.89306711, \"best_metric\": 0.94677816}, {\"run_id\": \"AutoML_c0d4f8bc-c737-42c2-8800-8776418cc59a_8\", \"run_number\": 1668573073, \"metric\": null, \"status\": \"Completed\", \"run_type\": null, \"training_percent\": \"100\", \"start_time\": \"2022-11-16T04:31:13.98531Z\", \"end_time\": \"2022-11-16T04:31:43.228779Z\", \"created_time\": \"2022-11-16T04:31:13.857199Z\", \"created_time_dt\": \"2022-11-16T04:31:13.857199Z\", \"duration\": \"0:00:29\", \"iteration\": \"8\", \"goal\": \"AUC_weighted_max\", \"run_name\": \"StandardScalerWrapper, LogisticRegression\", \"run_properties\": \"copy=True, with_mean=True, with_std=True\", \"primary_metric\": 0.94615429, \"best_metric\": 0.94677816}, {\"run_id\": \"AutoML_c0d4f8bc-c737-42c2-8800-8776418cc59a_9\", \"run_number\": 1668573104, \"metric\": null, \"status\": \"Completed\", \"run_type\": null, \"training_percent\": \"100\", \"start_time\": \"2022-11-16T04:31:44.73753Z\", \"end_time\": \"2022-11-16T04:32:16.66373Z\", \"created_time\": \"2022-11-16T04:31:44.584219Z\", \"created_time_dt\": \"2022-11-16T04:31:44.584219Z\", \"duration\": \"0:00:32\", \"iteration\": \"9\", \"goal\": \"AUC_weighted_max\", \"run_name\": \"StandardScalerWrapper, XGBoostClassifier\", \"run_properties\": \"copy=True, with_mean=False, with_std=False\", \"primary_metric\": 0.92259529, \"best_metric\": 0.94677816}, {\"run_id\": \"AutoML_c0d4f8bc-c737-42c2-8800-8776418cc59a_10\", \"run_number\": 1668573138, \"metric\": null, \"status\": \"Completed\", \"run_type\": null, \"training_percent\": \"100\", \"start_time\": \"2022-11-16T04:32:18.259983Z\", \"end_time\": \"2022-11-16T04:32:48.301764Z\", \"created_time\": \"2022-11-16T04:32:18.161417Z\", \"created_time_dt\": \"2022-11-16T04:32:18.161417Z\", \"duration\": \"0:00:30\", \"iteration\": \"10\", \"goal\": \"AUC_weighted_max\", \"run_name\": \"RobustScaler, ExtremeRandomTrees\", \"run_properties\": \"copy=True, quantile_range=[10, 90], with_centering=True,\\n             with_scaling=False\", \"primary_metric\": 0.9079177, \"best_metric\": 0.94677816}, {\"run_id\": \"AutoML_c0d4f8bc-c737-42c2-8800-8776418cc59a_11\", \"run_number\": 1668573169, \"metric\": null, \"status\": \"Completed\", \"run_type\": null, \"training_percent\": \"100\", \"start_time\": \"2022-11-16T04:32:49.742016Z\", \"end_time\": \"2022-11-16T04:33:21.780094Z\", \"created_time\": \"2022-11-16T04:32:49.610669Z\", \"created_time_dt\": \"2022-11-16T04:32:49.610669Z\", \"duration\": \"0:00:32\", \"iteration\": \"11\", \"goal\": \"AUC_weighted_max\", \"run_name\": \"SparseNormalizer, XGBoostClassifier\", \"run_properties\": \"copy=True, norm='max'\", \"primary_metric\": 0.93314112, \"best_metric\": 0.94677816}, {\"run_id\": \"AutoML_c0d4f8bc-c737-42c2-8800-8776418cc59a_12\", \"run_number\": 1668573202, \"metric\": null, \"status\": \"Completed\", \"run_type\": null, \"training_percent\": \"100\", \"start_time\": \"2022-11-16T04:33:23.069816Z\", \"end_time\": \"2022-11-16T04:33:54.104885Z\", \"created_time\": \"2022-11-16T04:33:22.938639Z\", \"created_time_dt\": \"2022-11-16T04:33:22.938639Z\", \"duration\": \"0:00:31\", \"iteration\": \"12\", \"goal\": \"AUC_weighted_max\", \"run_name\": \"MinMaxScaler, ExtremeRandomTrees\", \"run_properties\": \"copy=True, feature_range=(0, 1\", \"primary_metric\": 0.91833953, \"best_metric\": 0.94677816}, {\"run_id\": \"AutoML_c0d4f8bc-c737-42c2-8800-8776418cc59a_13\", \"run_number\": 1668573235, \"metric\": null, \"status\": \"Completed\", \"run_type\": null, \"training_percent\": \"100\", \"start_time\": \"2022-11-16T04:33:55.506178Z\", \"end_time\": \"2022-11-16T04:34:27.792295Z\", \"created_time\": \"2022-11-16T04:33:55.385755Z\", \"created_time_dt\": \"2022-11-16T04:33:55.385755Z\", \"duration\": \"0:00:32\", \"iteration\": \"13\", \"goal\": \"AUC_weighted_max\", \"run_name\": \"MinMaxScaler, ExtremeRandomTrees\", \"run_properties\": \"copy=True, feature_range=(0, 1\", \"primary_metric\": 0.92474128, \"best_metric\": 0.94677816}, {\"run_id\": \"AutoML_c0d4f8bc-c737-42c2-8800-8776418cc59a_14\", \"run_number\": 1668573269, \"metric\": null, \"status\": \"Completed\", \"run_type\": null, \"training_percent\": \"100\", \"start_time\": \"2022-11-16T04:34:29.262089Z\", \"end_time\": \"2022-11-16T04:35:01.407493Z\", \"created_time\": \"2022-11-16T04:34:29.145678Z\", \"created_time_dt\": \"2022-11-16T04:34:29.145678Z\", \"duration\": \"0:00:32\", \"iteration\": \"14\", \"goal\": \"AUC_weighted_max\", \"run_name\": \"SparseNormalizer, LightGBM\", \"run_properties\": \"copy=True, norm='l1'\", \"primary_metric\": 0.92003369, \"best_metric\": 0.94677816}, {\"run_id\": \"AutoML_c0d4f8bc-c737-42c2-8800-8776418cc59a_15\", \"run_number\": 1668573302, \"metric\": null, \"status\": \"Completed\", \"run_type\": null, \"training_percent\": \"100\", \"start_time\": \"2022-11-16T04:35:02.759548Z\", \"end_time\": \"2022-11-16T04:35:42.803128Z\", \"created_time\": \"2022-11-16T04:35:02.543579Z\", \"created_time_dt\": \"2022-11-16T04:35:02.543579Z\", \"duration\": \"0:00:40\", \"iteration\": \"15\", \"goal\": \"AUC_weighted_max\", \"run_name\": \"MaxAbsScaler, ExtremeRandomTrees\", \"run_properties\": \"copy=True\", \"primary_metric\": 0.92966552, \"best_metric\": 0.94677816}, {\"run_id\": \"AutoML_c0d4f8bc-c737-42c2-8800-8776418cc59a_16\", \"run_number\": 1668573344, \"metric\": null, \"status\": \"Completed\", \"run_type\": null, \"training_percent\": \"100\", \"start_time\": \"2022-11-16T04:35:44.125922Z\", \"end_time\": \"2022-11-16T04:36:16.961194Z\", \"created_time\": \"2022-11-16T04:35:44.005969Z\", \"created_time_dt\": \"2022-11-16T04:35:44.005969Z\", \"duration\": \"0:00:32\", \"iteration\": \"16\", \"goal\": \"AUC_weighted_max\", \"run_name\": \"StandardScalerWrapper, XGBoostClassifier\", \"run_properties\": \"copy=True, with_mean=False, with_std=False\", \"primary_metric\": 0.93997665, \"best_metric\": 0.94677816}, {\"run_id\": \"AutoML_c0d4f8bc-c737-42c2-8800-8776418cc59a_17\", \"run_number\": 1668573378, \"metric\": null, \"status\": \"Completed\", \"run_type\": null, \"training_percent\": \"100\", \"start_time\": \"2022-11-16T04:36:18.252417Z\", \"end_time\": \"2022-11-16T04:37:01.145514Z\", \"created_time\": \"2022-11-16T04:36:18.13953Z\", \"created_time_dt\": \"2022-11-16T04:36:18.13953Z\", \"duration\": \"0:00:43\", \"iteration\": \"17\", \"goal\": \"AUC_weighted_max\", \"run_name\": \"StandardScalerWrapper, RandomForest\", \"run_properties\": \"copy=True, with_mean=False, with_std=False\", \"primary_metric\": 0.93823322, \"best_metric\": 0.94677816}, {\"run_id\": \"AutoML_c0d4f8bc-c737-42c2-8800-8776418cc59a_18\", \"run_number\": 1668573422, \"metric\": null, \"status\": \"Completed\", \"run_type\": null, \"training_percent\": \"100\", \"start_time\": \"2022-11-16T04:37:02.569484Z\", \"end_time\": \"2022-11-16T04:37:33.646633Z\", \"created_time\": \"2022-11-16T04:37:02.462543Z\", \"created_time_dt\": \"2022-11-16T04:37:02.462543Z\", \"duration\": \"0:00:31\", \"iteration\": \"18\", \"goal\": \"AUC_weighted_max\", \"run_name\": \"MaxAbsScaler, LightGBM\", \"run_properties\": \"copy=True\", \"primary_metric\": 0.93793827, \"best_metric\": 0.94677816}, {\"run_id\": \"AutoML_c0d4f8bc-c737-42c2-8800-8776418cc59a_19\", \"run_number\": 1668573455, \"metric\": null, \"status\": \"Completed\", \"run_type\": null, \"training_percent\": \"100\", \"start_time\": \"2022-11-16T04:37:35.136961Z\", \"end_time\": \"2022-11-16T04:38:04.969278Z\", \"created_time\": \"2022-11-16T04:37:35.009431Z\", \"created_time_dt\": \"2022-11-16T04:37:35.009431Z\", \"duration\": \"0:00:29\", \"iteration\": \"19\", \"goal\": \"AUC_weighted_max\", \"run_name\": \"MaxAbsScaler, LogisticRegression\", \"run_properties\": \"copy=True\", \"primary_metric\": 0.9461395, \"best_metric\": 0.94677816}, {\"run_id\": \"AutoML_c0d4f8bc-c737-42c2-8800-8776418cc59a_20\", \"run_number\": 1668573486, \"metric\": null, \"status\": \"Completed\", \"run_type\": null, \"training_percent\": \"100\", \"start_time\": \"2022-11-16T04:38:06.253871Z\", \"end_time\": \"2022-11-16T04:38:45.487824Z\", \"created_time\": \"2022-11-16T04:38:06.147687Z\", \"created_time_dt\": \"2022-11-16T04:38:06.147687Z\", \"duration\": \"0:00:39\", \"iteration\": \"20\", \"goal\": \"AUC_weighted_max\", \"run_name\": \"StandardScalerWrapper, ExtremeRandomTrees\", \"run_properties\": \"copy=True, with_mean=False, with_std=True\", \"primary_metric\": 0.92223664, \"best_metric\": 0.94677816}, {\"run_id\": \"AutoML_c0d4f8bc-c737-42c2-8800-8776418cc59a_21\", \"run_number\": 1668573526, \"metric\": null, \"status\": \"Completed\", \"run_type\": null, \"training_percent\": \"100\", \"start_time\": \"2022-11-16T04:38:46.991731Z\", \"end_time\": \"2022-11-16T04:39:18.998458Z\", \"created_time\": \"2022-11-16T04:38:46.883602Z\", \"created_time_dt\": \"2022-11-16T04:38:46.883602Z\", \"duration\": \"0:00:32\", \"iteration\": \"21\", \"goal\": \"AUC_weighted_max\", \"run_name\": \"StandardScalerWrapper, XGBoostClassifier\", \"run_properties\": \"copy=True, with_mean=False, with_std=False\", \"primary_metric\": 0.93683716, \"best_metric\": 0.94677816}, {\"run_id\": \"AutoML_c0d4f8bc-c737-42c2-8800-8776418cc59a_22\", \"run_number\": 1668573560, \"metric\": null, \"status\": \"Completed\", \"run_type\": null, \"training_percent\": \"100\", \"start_time\": \"2022-11-16T04:39:20.318611Z\", \"end_time\": \"2022-11-16T04:39:56.315595Z\", \"created_time\": \"2022-11-16T04:39:20.225841Z\", \"created_time_dt\": \"2022-11-16T04:39:20.225841Z\", \"duration\": \"0:00:36\", \"iteration\": \"22\", \"goal\": \"AUC_weighted_max\", \"run_name\": \"StandardScalerWrapper, XGBoostClassifier\", \"run_properties\": \"copy=True, with_mean=False, with_std=False\", \"primary_metric\": 0.94405003, \"best_metric\": 0.94677816}, {\"run_id\": \"AutoML_c0d4f8bc-c737-42c2-8800-8776418cc59a_23\", \"run_number\": 1668573597, \"metric\": null, \"status\": \"Completed\", \"run_type\": null, \"training_percent\": \"100\", \"start_time\": \"2022-11-16T04:39:57.827966Z\", \"end_time\": \"2022-11-16T04:40:28.410854Z\", \"created_time\": \"2022-11-16T04:39:57.632946Z\", \"created_time_dt\": \"2022-11-16T04:39:57.632946Z\", \"duration\": \"0:00:30\", \"iteration\": \"23\", \"goal\": \"AUC_weighted_max\", \"run_name\": \"MaxAbsScaler, LogisticRegression\", \"run_properties\": \"copy=True\", \"primary_metric\": 0.94615343, \"best_metric\": 0.94677816}, {\"run_id\": \"AutoML_c0d4f8bc-c737-42c2-8800-8776418cc59a_24\", \"run_number\": 1668573629, \"metric\": null, \"status\": \"Completed\", \"run_type\": null, \"training_percent\": \"100\", \"start_time\": \"2022-11-16T04:40:29.593829Z\", \"end_time\": \"2022-11-16T04:41:01.521936Z\", \"created_time\": \"2022-11-16T04:40:29.480659Z\", \"created_time_dt\": \"2022-11-16T04:40:29.480659Z\", \"duration\": \"0:00:32\", \"iteration\": \"24\", \"goal\": \"AUC_weighted_max\", \"run_name\": \"StandardScalerWrapper, LogisticRegression\", \"run_properties\": \"copy=True, with_mean=False, with_std=True\", \"primary_metric\": 0.94615264, \"best_metric\": 0.94677816}, {\"run_id\": \"AutoML_c0d4f8bc-c737-42c2-8800-8776418cc59a_25\", \"run_number\": 1668573663, \"metric\": null, \"status\": \"Completed\", \"run_type\": null, \"training_percent\": \"100\", \"start_time\": \"2022-11-16T04:41:03.909998Z\", \"end_time\": \"2022-11-16T04:41:33.806785Z\", \"created_time\": \"2022-11-16T04:41:03.737302Z\", \"created_time_dt\": \"2022-11-16T04:41:03.737302Z\", \"duration\": \"0:00:30\", \"iteration\": \"25\", \"goal\": \"AUC_weighted_max\", \"run_name\": \"PCA, LightGBM\", \"run_properties\": \"copy=True, iterated_power='auto', n_components=0.15842105263157896,\\n    random_state=None, svd_solver='auto', tol=0.0, whiten=False\", \"primary_metric\": 0.73880836, \"best_metric\": 0.94677816}, {\"run_id\": \"AutoML_c0d4f8bc-c737-42c2-8800-8776418cc59a_26\", \"run_number\": 1668573693, \"metric\": null, \"status\": \"Completed\", \"run_type\": null, \"training_percent\": \"100\", \"start_time\": \"2022-11-16T04:41:34.105717Z\", \"end_time\": \"2022-11-16T04:42:08.614388Z\", \"created_time\": \"2022-11-16T04:41:33.983993Z\", \"created_time_dt\": \"2022-11-16T04:41:33.983993Z\", \"duration\": \"0:00:34\", \"iteration\": \"26\", \"goal\": \"AUC_weighted_max\", \"run_name\": \"VotingEnsemble\", \"run_properties\": \"classification_labels=numpy.array([0, 1]\", \"primary_metric\": 0.94955221, \"best_metric\": 0.94955221}, {\"run_id\": \"AutoML_c0d4f8bc-c737-42c2-8800-8776418cc59a_27\", \"run_number\": 1668573728, \"metric\": null, \"status\": \"Completed\", \"run_type\": null, \"training_percent\": \"100\", \"start_time\": \"2022-11-16T04:42:08.90005Z\", \"end_time\": \"2022-11-16T04:42:51.886766Z\", \"created_time\": \"2022-11-16T04:42:08.794251Z\", \"created_time_dt\": \"2022-11-16T04:42:08.794251Z\", \"duration\": \"0:00:43\", \"iteration\": \"27\", \"goal\": \"AUC_weighted_max\", \"run_name\": \"StackEnsemble\", \"run_properties\": \"base_learners=[('0', Pipeline(memory=None, steps=[('maxabsscaler', MaxAbsScaler(copy=True\", \"primary_metric\": 0.94939583, \"best_metric\": 0.94955221}], \"children_metrics\": {\"categories\": [0], \"series\": {\"precision_score_micro\": [{\"categories\": [\"0\", \"1\", \"2\", \"3\", \"4\", \"5\", \"6\", \"7\", \"8\", \"9\", \"10\", \"11\", \"12\", \"13\", \"14\", \"15\", \"16\", \"17\", \"18\", \"19\", \"20\", \"21\", \"22\", \"23\", \"24\", \"25\", \"26\", \"27\"], \"mode\": \"markers\", \"name\": \"precision_score_micro\", \"stepped\": false, \"type\": \"scatter\", \"data\": [0.870701406111222, 0.8652285888970939, 0.8181608057127611, 0.8305665457724092, 0.8413755747569516, 0.8578400753517874, 0.8441574207434437, 0.8043417515985581, 0.870017280557427, 0.8446135855730073, 0.8193015079718294, 0.8573383296103514, 0.8329378764871614, 0.8403264461973375, 0.8400071925979994, 0.8478518397701643, 0.8637690261927741, 0.8615342385163248, 0.8602572553216775, 0.8650915653371293, 0.8366778889068366, 0.8623095508560287, 0.8684666496374782, 0.870245322408692, 0.869926075049895, 0.690002976488462, 0.8749886078923025, 0.8618077863929695]}, {\"categories\": [\"0\", \"1\", \"2\", \"3\", \"4\", \"5\", \"6\", \"7\", \"8\", \"9\", \"10\", \"11\", \"12\", \"13\", \"14\", \"15\", \"16\", \"17\", \"18\", \"19\", \"20\", \"21\", \"22\", \"23\", \"24\", \"25\", \"26\", \"27\"], \"mode\": \"lines\", \"name\": \"precision_score_micro_max\", \"stepped\": true, \"type\": \"scatter\", \"data\": [0.870701406111222, 0.870701406111222, 0.870701406111222, 0.870701406111222, 0.870701406111222, 0.870701406111222, 0.870701406111222, 0.870701406111222, 0.870701406111222, 0.870701406111222, 0.870701406111222, 0.870701406111222, 0.870701406111222, 0.870701406111222, 0.870701406111222, 0.870701406111222, 0.870701406111222, 0.870701406111222, 0.870701406111222, 0.870701406111222, 0.870701406111222, 0.870701406111222, 0.870701406111222, 0.870701406111222, 0.870701406111222, 0.870701406111222, 0.8749886078923025, 0.8749886078923025]}], \"matthews_correlation\": [{\"categories\": [\"0\", \"1\", \"2\", \"3\", \"4\", \"5\", \"6\", \"7\", \"8\", \"9\", \"10\", \"11\", \"12\", \"13\", \"14\", \"15\", \"16\", \"17\", \"18\", \"19\", \"20\", \"21\", \"22\", \"23\", \"24\", \"25\", \"26\", \"27\"], \"mode\": \"markers\", \"name\": \"matthews_correlation\", \"stepped\": false, \"type\": \"scatter\", \"data\": [0.7319007406448256, 0.7206505295179143, 0.6213447176450421, 0.6470944369186721, 0.6699858338375119, 0.7050728230477211, 0.6823388434834289, 0.5916019182432802, 0.7305538529932857, 0.6773647911310329, 0.6315824157794562, 0.7041236157898841, 0.652241969256227, 0.6759240804226119, 0.6669688800809862, 0.6912205746633733, 0.7171549315170584, 0.7126319287040664, 0.7095378619768088, 0.7244481756524941, 0.6687767819130013, 0.7144794019741324, 0.7273667507629161, 0.7310224341320603, 0.7303580139246858, 0.3427012257110495, 0.7409749307723649, 0.7165118012768149]}, {\"categories\": [\"0\", \"1\", \"2\", \"3\", \"4\", \"5\", \"6\", \"7\", \"8\", \"9\", \"10\", \"11\", \"12\", \"13\", \"14\", \"15\", \"16\", \"17\", \"18\", \"19\", \"20\", \"21\", \"22\", \"23\", \"24\", \"25\", \"26\", \"27\"], \"mode\": \"lines\", \"name\": \"matthews_correlation_max\", \"stepped\": true, \"type\": \"scatter\", \"data\": [0.7319007406448256, 0.7319007406448256, 0.7319007406448256, 0.7319007406448256, 0.7319007406448256, 0.7319007406448256, 0.7319007406448256, 0.7319007406448256, 0.7319007406448256, 0.7319007406448256, 0.7319007406448256, 0.7319007406448256, 0.7319007406448256, 0.7319007406448256, 0.7319007406448256, 0.7319007406448256, 0.7319007406448256, 0.7319007406448256, 0.7319007406448256, 0.7319007406448256, 0.7319007406448256, 0.7319007406448256, 0.7319007406448256, 0.7319007406448256, 0.7319007406448256, 0.7319007406448256, 0.7409749307723649, 0.7409749307723649]}], \"norm_macro_recall\": [{\"categories\": [\"0\", \"1\", \"2\", \"3\", \"4\", \"5\", \"6\", \"7\", \"8\", \"9\", \"10\", \"11\", \"12\", \"13\", \"14\", \"15\", \"16\", \"17\", \"18\", \"19\", \"20\", \"21\", \"22\", \"23\", \"24\", \"25\", \"26\", \"27\"], \"mode\": \"markers\", \"name\": \"norm_macro_recall\", \"stepped\": false, \"type\": \"scatter\", \"data\": [0.7280319038659316, 0.7170111919417629, 0.5981621242578229, 0.6348474420180292, 0.6529490285345375, 0.7001991407015528, 0.6880184470227673, 0.5706096777845641, 0.7268264516988472, 0.6716992666165958, 0.6363510123188961, 0.699602870115975, 0.6353904249209863, 0.682777250632452, 0.6531642349831449, 0.6980392955966227, 0.7110289567362451, 0.7073250924063599, 0.697169299365057, 0.729728541200065, 0.675762477048499, 0.7104320105909956, 0.7238156467525538, 0.727249416681519, 0.7265457842661155, 0.3196379424001114, 0.7378136468114699, 0.6880110374196825]}, {\"categories\": [\"0\", \"1\", \"2\", \"3\", \"4\", \"5\", \"6\", \"7\", \"8\", \"9\", \"10\", \"11\", \"12\", \"13\", \"14\", \"15\", \"16\", \"17\", \"18\", \"19\", \"20\", \"21\", \"22\", \"23\", \"24\", \"25\", \"26\", \"27\"], \"mode\": \"lines\", \"name\": \"norm_macro_recall_max\", \"stepped\": true, \"type\": \"scatter\", \"data\": [0.7280319038659316, 0.7280319038659316, 0.7280319038659316, 0.7280319038659316, 0.7280319038659316, 0.7280319038659316, 0.7280319038659316, 0.7280319038659316, 0.7280319038659316, 0.7280319038659316, 0.7280319038659316, 0.7280319038659316, 0.7280319038659316, 0.7280319038659316, 0.7280319038659316, 0.7280319038659316, 0.7280319038659316, 0.7280319038659316, 0.7280319038659316, 0.729728541200065, 0.729728541200065, 0.729728541200065, 0.729728541200065, 0.729728541200065, 0.729728541200065, 0.729728541200065, 0.7378136468114699, 0.7378136468114699]}], \"f1_score_micro\": [{\"categories\": [\"0\", \"1\", \"2\", \"3\", \"4\", \"5\", \"6\", \"7\", \"8\", \"9\", \"10\", \"11\", \"12\", \"13\", \"14\", \"15\", \"16\", \"17\", \"18\", \"19\", \"20\", \"21\", \"22\", \"23\", \"24\", \"25\", \"26\", \"27\"], \"mode\": \"markers\", \"name\": \"f1_score_micro\", \"stepped\": false, \"type\": \"scatter\", \"data\": [0.870701406111222, 0.8652285888970939, 0.8181608057127611, 0.8305665457724092, 0.8413755747569516, 0.8578400753517874, 0.8441574207434437, 0.8043417515985581, 0.870017280557427, 0.8446135855730074, 0.8193015079718293, 0.8573383296103514, 0.8329378764871614, 0.8403264461973375, 0.8400071925979994, 0.8478518397701643, 0.8637690261927741, 0.8615342385163248, 0.8602572553216775, 0.8650915653371293, 0.8366778889068366, 0.8623095508560287, 0.8684666496374782, 0.870245322408692, 0.869926075049895, 0.690002976488462, 0.8749886078923025, 0.8618077863929695]}, {\"categories\": [\"0\", \"1\", \"2\", \"3\", \"4\", \"5\", \"6\", \"7\", \"8\", \"9\", \"10\", \"11\", \"12\", \"13\", \"14\", \"15\", \"16\", \"17\", \"18\", \"19\", \"20\", \"21\", \"22\", \"23\", \"24\", \"25\", \"26\", \"27\"], \"mode\": \"lines\", \"name\": \"f1_score_micro_max\", \"stepped\": true, \"type\": \"scatter\", \"data\": [0.870701406111222, 0.870701406111222, 0.870701406111222, 0.870701406111222, 0.870701406111222, 0.870701406111222, 0.870701406111222, 0.870701406111222, 0.870701406111222, 0.870701406111222, 0.870701406111222, 0.870701406111222, 0.870701406111222, 0.870701406111222, 0.870701406111222, 0.870701406111222, 0.870701406111222, 0.870701406111222, 0.870701406111222, 0.870701406111222, 0.870701406111222, 0.870701406111222, 0.870701406111222, 0.870701406111222, 0.870701406111222, 0.870701406111222, 0.8749886078923025, 0.8749886078923025]}], \"recall_score_weighted\": [{\"categories\": [\"0\", \"1\", \"2\", \"3\", \"4\", \"5\", \"6\", \"7\", \"8\", \"9\", \"10\", \"11\", \"12\", \"13\", \"14\", \"15\", \"16\", \"17\", \"18\", \"19\", \"20\", \"21\", \"22\", \"23\", \"24\", \"25\", \"26\", \"27\"], \"mode\": \"markers\", \"name\": \"recall_score_weighted\", \"stepped\": false, \"type\": \"scatter\", \"data\": [0.870701406111222, 0.8652285888970939, 0.8181608057127611, 0.8305665457724092, 0.8413755747569516, 0.8578400753517874, 0.8441574207434437, 0.8043417515985581, 0.870017280557427, 0.8446135855730073, 0.8193015079718294, 0.8573383296103514, 0.8329378764871614, 0.8403264461973375, 0.8400071925979994, 0.8478518397701643, 0.8637690261927741, 0.8615342385163248, 0.8602572553216775, 0.8650915653371293, 0.8366778889068366, 0.8623095508560287, 0.8684666496374782, 0.870245322408692, 0.869926075049895, 0.690002976488462, 0.8749886078923025, 0.8618077863929695]}, {\"categories\": [\"0\", \"1\", \"2\", \"3\", \"4\", \"5\", \"6\", \"7\", \"8\", \"9\", \"10\", \"11\", \"12\", \"13\", \"14\", \"15\", \"16\", \"17\", \"18\", \"19\", \"20\", \"21\", \"22\", \"23\", \"24\", \"25\", \"26\", \"27\"], \"mode\": \"lines\", \"name\": \"recall_score_weighted_max\", \"stepped\": true, \"type\": \"scatter\", \"data\": [0.870701406111222, 0.870701406111222, 0.870701406111222, 0.870701406111222, 0.870701406111222, 0.870701406111222, 0.870701406111222, 0.870701406111222, 0.870701406111222, 0.870701406111222, 0.870701406111222, 0.870701406111222, 0.870701406111222, 0.870701406111222, 0.870701406111222, 0.870701406111222, 0.870701406111222, 0.870701406111222, 0.870701406111222, 0.870701406111222, 0.870701406111222, 0.870701406111222, 0.870701406111222, 0.870701406111222, 0.870701406111222, 0.870701406111222, 0.8749886078923025, 0.8749886078923025]}], \"recall_score_macro\": [{\"categories\": [\"0\", \"1\", \"2\", \"3\", \"4\", \"5\", \"6\", \"7\", \"8\", \"9\", \"10\", \"11\", \"12\", \"13\", \"14\", \"15\", \"16\", \"17\", \"18\", \"19\", \"20\", \"21\", \"22\", \"23\", \"24\", \"25\", \"26\", \"27\"], \"mode\": \"markers\", \"name\": \"recall_score_macro\", \"stepped\": false, \"type\": \"scatter\", \"data\": [0.8640159519329659, 0.8585055959708815, 0.7990810621289114, 0.8174237210090146, 0.8264745142672688, 0.8500995703507764, 0.8440092235113837, 0.785304838892282, 0.8634132258494236, 0.8358496333082979, 0.8181755061594481, 0.8498014350579876, 0.8176952124604933, 0.841388625316226, 0.8265821174915725, 0.8490196477983113, 0.8555144783681227, 0.8536625462031799, 0.8485846496825286, 0.8648642706000326, 0.8378812385242496, 0.8552160052954978, 0.8619078233762769, 0.8636247083407594, 0.8632728921330578, 0.6598189712000557, 0.868906823405735, 0.8440055187098413]}, {\"categories\": [\"0\", \"1\", \"2\", \"3\", \"4\", \"5\", \"6\", \"7\", \"8\", \"9\", \"10\", \"11\", \"12\", \"13\", \"14\", \"15\", \"16\", \"17\", \"18\", \"19\", \"20\", \"21\", \"22\", \"23\", \"24\", \"25\", \"26\", \"27\"], \"mode\": \"lines\", \"name\": \"recall_score_macro_max\", \"stepped\": true, \"type\": \"scatter\", \"data\": [0.8640159519329659, 0.8640159519329659, 0.8640159519329659, 0.8640159519329659, 0.8640159519329659, 0.8640159519329659, 0.8640159519329659, 0.8640159519329659, 0.8640159519329659, 0.8640159519329659, 0.8640159519329659, 0.8640159519329659, 0.8640159519329659, 0.8640159519329659, 0.8640159519329659, 0.8640159519329659, 0.8640159519329659, 0.8640159519329659, 0.8640159519329659, 0.8648642706000326, 0.8648642706000326, 0.8648642706000326, 0.8648642706000326, 0.8648642706000326, 0.8648642706000326, 0.8648642706000326, 0.868906823405735, 0.868906823405735]}], \"AUC_weighted\": [{\"categories\": [\"0\", \"1\", \"2\", \"3\", \"4\", \"5\", \"6\", \"7\", \"8\", \"9\", \"10\", \"11\", \"12\", \"13\", \"14\", \"15\", \"16\", \"17\", \"18\", \"19\", \"20\", \"21\", \"22\", \"23\", \"24\", \"25\", \"26\", \"27\"], \"mode\": \"markers\", \"name\": \"AUC_weighted\", \"stepped\": false, \"type\": \"scatter\", \"data\": [0.9467781561495988, 0.9419202256362231, 0.9040925731628754, 0.9137030290981855, 0.9250181345957987, 0.9339404580787858, 0.9254152970554074, 0.8930671083679558, 0.9461542879911552, 0.9225952945015269, 0.9079177007953375, 0.9331411194386326, 0.9183395305836212, 0.9247412805910803, 0.920033685683065, 0.9296655216100885, 0.9399766507328667, 0.9382332229226881, 0.9379382706307244, 0.9461394979564953, 0.9222366417644136, 0.9368371603673392, 0.9440500276346379, 0.9461534326256924, 0.9461526443411272, 0.7388083641964235, 0.9495522139946031, 0.9493958301604367]}, {\"categories\": [\"0\", \"1\", \"2\", \"3\", \"4\", \"5\", \"6\", \"7\", \"8\", \"9\", \"10\", \"11\", \"12\", \"13\", \"14\", \"15\", \"16\", \"17\", \"18\", \"19\", \"20\", \"21\", \"22\", \"23\", \"24\", \"25\", \"26\", \"27\"], \"mode\": \"lines\", \"name\": \"AUC_weighted_max\", \"stepped\": true, \"type\": \"scatter\", \"data\": [0.9467781561495988, 0.9467781561495988, 0.9467781561495988, 0.9467781561495988, 0.9467781561495988, 0.9467781561495988, 0.9467781561495988, 0.9467781561495988, 0.9467781561495988, 0.9467781561495988, 0.9467781561495988, 0.9467781561495988, 0.9467781561495988, 0.9467781561495988, 0.9467781561495988, 0.9467781561495988, 0.9467781561495988, 0.9467781561495988, 0.9467781561495988, 0.9467781561495988, 0.9467781561495988, 0.9467781561495988, 0.9467781561495988, 0.9467781561495988, 0.9467781561495988, 0.9467781561495988, 0.9495522139946031, 0.9495522139946031]}], \"average_precision_score_micro\": [{\"categories\": [\"0\", \"1\", \"2\", \"3\", \"4\", \"5\", \"6\", \"7\", \"8\", \"9\", \"10\", \"11\", \"12\", \"13\", \"14\", \"15\", \"16\", \"17\", \"18\", \"19\", \"20\", \"21\", \"22\", \"23\", \"24\", \"25\", \"26\", \"27\"], \"mode\": \"markers\", \"name\": \"average_precision_score_micro\", \"stepped\": false, \"type\": \"scatter\", \"data\": [0.9505729876417814, 0.9459548336090267, 0.9037580353254032, 0.918476656700606, 0.9276821637253794, 0.9376950707795615, 0.9272774339530901, 0.8968044387126902, 0.9496705308112553, 0.927255927815524, 0.9101388412312393, 0.9368902375490483, 0.9212018528801211, 0.926196416064029, 0.9232907342679887, 0.9311478952927302, 0.9436419494246086, 0.9405734963801233, 0.9383981106443456, 0.9475521330736525, 0.9237226606228699, 0.940246948072295, 0.9478713122139356, 0.9496754874776058, 0.9496778268664442, 0.7415031457749359, 0.9530815446942466, 0.9303000294302487]}, {\"categories\": [\"0\", \"1\", \"2\", \"3\", \"4\", \"5\", \"6\", \"7\", \"8\", \"9\", \"10\", \"11\", \"12\", \"13\", \"14\", \"15\", \"16\", \"17\", \"18\", \"19\", \"20\", \"21\", \"22\", \"23\", \"24\", \"25\", \"26\", \"27\"], \"mode\": \"lines\", \"name\": \"average_precision_score_micro_max\", \"stepped\": true, \"type\": \"scatter\", \"data\": [0.9505729876417814, 0.9505729876417814, 0.9505729876417814, 0.9505729876417814, 0.9505729876417814, 0.9505729876417814, 0.9505729876417814, 0.9505729876417814, 0.9505729876417814, 0.9505729876417814, 0.9505729876417814, 0.9505729876417814, 0.9505729876417814, 0.9505729876417814, 0.9505729876417814, 0.9505729876417814, 0.9505729876417814, 0.9505729876417814, 0.9505729876417814, 0.9505729876417814, 0.9505729876417814, 0.9505729876417814, 0.9505729876417814, 0.9505729876417814, 0.9505729876417814, 0.9505729876417814, 0.9530815446942466, 0.9530815446942466]}], \"precision_score_weighted\": [{\"categories\": [\"0\", \"1\", \"2\", \"3\", \"4\", \"5\", \"6\", \"7\", \"8\", \"9\", \"10\", \"11\", \"12\", \"13\", \"14\", \"15\", \"16\", \"17\", \"18\", \"19\", \"20\", \"21\", \"22\", \"23\", \"24\", \"25\", \"26\", \"27\"], \"mode\": \"markers\", \"name\": \"precision_score_weighted\", \"stepped\": false, \"type\": \"scatter\", \"data\": [0.8703907994145078, 0.8649501896810191, 0.8202522049696164, 0.8304062512945466, 0.8423001484597972, 0.8575138677651991, 0.8467928149849014, 0.8054273652058797, 0.8697422240894336, 0.8442014427897359, 0.8222742733840893, 0.8570533120669342, 0.833773676347456, 0.8439549083959719, 0.8402713839278687, 0.8513587647453605, 0.8634540962161785, 0.8611947761810775, 0.8605574907142491, 0.8670263214085138, 0.8405497892572176, 0.8619989791614079, 0.8681968420788566, 0.8699726281275795, 0.8696549005372352, 0.6867233091389163, 0.874748374645893, 0.86772228059795]}, {\"categories\": [\"0\", \"1\", \"2\", \"3\", \"4\", \"5\", \"6\", \"7\", \"8\", \"9\", \"10\", \"11\", \"12\", \"13\", \"14\", \"15\", \"16\", \"17\", \"18\", \"19\", \"20\", \"21\", \"22\", \"23\", \"24\", \"25\", \"26\", \"27\"], \"mode\": \"lines\", \"name\": \"precision_score_weighted_max\", \"stepped\": true, \"type\": \"scatter\", \"data\": [0.8703907994145078, 0.8703907994145078, 0.8703907994145078, 0.8703907994145078, 0.8703907994145078, 0.8703907994145078, 0.8703907994145078, 0.8703907994145078, 0.8703907994145078, 0.8703907994145078, 0.8703907994145078, 0.8703907994145078, 0.8703907994145078, 0.8703907994145078, 0.8703907994145078, 0.8703907994145078, 0.8703907994145078, 0.8703907994145078, 0.8703907994145078, 0.8703907994145078, 0.8703907994145078, 0.8703907994145078, 0.8703907994145078, 0.8703907994145078, 0.8703907994145078, 0.8703907994145078, 0.874748374645893, 0.874748374645893]}], \"AUC_micro\": [{\"categories\": [\"0\", \"1\", \"2\", \"3\", \"4\", \"5\", \"6\", \"7\", \"8\", \"9\", \"10\", \"11\", \"12\", \"13\", \"14\", \"15\", \"16\", \"17\", \"18\", \"19\", \"20\", \"21\", \"22\", \"23\", \"24\", \"25\", \"26\", \"27\"], \"mode\": \"markers\", \"name\": \"AUC_micro\", \"stepped\": false, \"type\": \"scatter\", \"data\": [0.94897611912563, 0.9443703430840612, 0.90290353250947, 0.9166121416243705, 0.9257595731978244, 0.9365347424565852, 0.9258519835951541, 0.8946871548223786, 0.9483799047921941, 0.9259588790645789, 0.9080237099252041, 0.9358535481345186, 0.9193725265761142, 0.9240680966373032, 0.9224219210134806, 0.9290394684060951, 0.942417442989789, 0.9408739096937971, 0.9379071613623063, 0.9461394623277791, 0.9215408725186007, 0.9394440645301549, 0.9464227851870218, 0.948378975632106, 0.9483773345584993, 0.757047603953548, 0.9515323725645869, 0.9297959081297101]}, {\"categories\": [\"0\", \"1\", \"2\", \"3\", \"4\", \"5\", \"6\", \"7\", \"8\", \"9\", \"10\", \"11\", \"12\", \"13\", \"14\", \"15\", \"16\", \"17\", \"18\", \"19\", \"20\", \"21\", \"22\", \"23\", \"24\", \"25\", \"26\", \"27\"], \"mode\": \"lines\", \"name\": \"AUC_micro_max\", \"stepped\": true, \"type\": \"scatter\", \"data\": [0.94897611912563, 0.94897611912563, 0.94897611912563, 0.94897611912563, 0.94897611912563, 0.94897611912563, 0.94897611912563, 0.94897611912563, 0.94897611912563, 0.94897611912563, 0.94897611912563, 0.94897611912563, 0.94897611912563, 0.94897611912563, 0.94897611912563, 0.94897611912563, 0.94897611912563, 0.94897611912563, 0.94897611912563, 0.94897611912563, 0.94897611912563, 0.94897611912563, 0.94897611912563, 0.94897611912563, 0.94897611912563, 0.94897611912563, 0.9515323725645869, 0.9515323725645869]}], \"average_precision_score_weighted\": [{\"categories\": [\"0\", \"1\", \"2\", \"3\", \"4\", \"5\", \"6\", \"7\", \"8\", \"9\", \"10\", \"11\", \"12\", \"13\", \"14\", \"15\", \"16\", \"17\", \"18\", \"19\", \"20\", \"21\", \"22\", \"23\", \"24\", \"25\", \"26\", \"27\"], \"mode\": \"markers\", \"name\": \"average_precision_score_weighted\", \"stepped\": false, \"type\": \"scatter\", \"data\": [0.9494009379807503, 0.9446887596995288, 0.9074854551940374, 0.9173000022589894, 0.9282332384184443, 0.9363730571736782, 0.9282810905529821, 0.8965345783877806, 0.9484610476574943, 0.9256204873898463, 0.9118450050902519, 0.9356397539286249, 0.9218954925320576, 0.9280664872052761, 0.9228604303178946, 0.9328695076613832, 0.9424933707418187, 0.9392914744547637, 0.9405413256989442, 0.9484474348098201, 0.9255811339289872, 0.9389640060366716, 0.9466702800067726, 0.9484643572751903, 0.948466721081246, 0.7292883061799262, 0.9519651975315454, 0.9518026679360427]}, {\"categories\": [\"0\", \"1\", \"2\", \"3\", \"4\", \"5\", \"6\", \"7\", \"8\", \"9\", \"10\", \"11\", \"12\", \"13\", \"14\", \"15\", \"16\", \"17\", \"18\", \"19\", \"20\", \"21\", \"22\", \"23\", \"24\", \"25\", \"26\", \"27\"], \"mode\": \"lines\", \"name\": \"average_precision_score_weighted_max\", \"stepped\": true, \"type\": \"scatter\", \"data\": [0.9494009379807503, 0.9494009379807503, 0.9494009379807503, 0.9494009379807503, 0.9494009379807503, 0.9494009379807503, 0.9494009379807503, 0.9494009379807503, 0.9494009379807503, 0.9494009379807503, 0.9494009379807503, 0.9494009379807503, 0.9494009379807503, 0.9494009379807503, 0.9494009379807503, 0.9494009379807503, 0.9494009379807503, 0.9494009379807503, 0.9494009379807503, 0.9494009379807503, 0.9494009379807503, 0.9494009379807503, 0.9494009379807503, 0.9494009379807503, 0.9494009379807503, 0.9494009379807503, 0.9519651975315454, 0.9519651975315454]}], \"log_loss\": [{\"categories\": [\"0\", \"1\", \"2\", \"3\", \"4\", \"5\", \"6\", \"7\", \"8\", \"9\", \"10\", \"11\", \"12\", \"13\", \"14\", \"15\", \"16\", \"17\", \"18\", \"19\", \"20\", \"21\", \"22\", \"23\", \"24\", \"25\", \"26\", \"27\"], \"mode\": \"markers\", \"name\": \"log_loss\", \"stepped\": false, \"type\": \"scatter\", \"data\": [0.2893665383748236, 0.3101560888514659, 0.46857655861395187, 0.39267920490250785, 0.4057473272226764, 0.3288044380134043, 0.37303461550048245, 0.43529997960922334, 0.2900713132892572, 0.352922514080884, 0.512313666896821, 0.32796761993153617, 0.41880531042779195, 0.3992925683112955, 0.3916991965618104, 0.5114484169080539, 0.3330863817136905, 0.3208637336298334, 0.4001738353569421, 0.2959493917232321, 0.40753516310489796, 0.3209998722235851, 0.29734445991329067, 0.29007044177144353, 0.29006256760679, 0.586192112896681, 0.2822017167785791, 0.46012795726186884]}, {\"categories\": [\"0\", \"1\", \"2\", \"3\", \"4\", \"5\", \"6\", \"7\", \"8\", \"9\", \"10\", \"11\", \"12\", \"13\", \"14\", \"15\", \"16\", \"17\", \"18\", \"19\", \"20\", \"21\", \"22\", \"23\", \"24\", \"25\", \"26\", \"27\"], \"mode\": \"lines\", \"name\": \"log_loss_min\", \"stepped\": true, \"type\": \"scatter\", \"data\": [0.2893665383748236, 0.2893665383748236, 0.2893665383748236, 0.2893665383748236, 0.2893665383748236, 0.2893665383748236, 0.2893665383748236, 0.2893665383748236, 0.2893665383748236, 0.2893665383748236, 0.2893665383748236, 0.2893665383748236, 0.2893665383748236, 0.2893665383748236, 0.2893665383748236, 0.2893665383748236, 0.2893665383748236, 0.2893665383748236, 0.2893665383748236, 0.2893665383748236, 0.2893665383748236, 0.2893665383748236, 0.2893665383748236, 0.2893665383748236, 0.2893665383748236, 0.2893665383748236, 0.2822017167785791, 0.2822017167785791]}], \"AUC_macro\": [{\"categories\": [\"0\", \"1\", \"2\", \"3\", \"4\", \"5\", \"6\", \"7\", \"8\", \"9\", \"10\", \"11\", \"12\", \"13\", \"14\", \"15\", \"16\", \"17\", \"18\", \"19\", \"20\", \"21\", \"22\", \"23\", \"24\", \"25\", \"26\", \"27\"], \"mode\": \"markers\", \"name\": \"AUC_macro\", \"stepped\": false, \"type\": \"scatter\", \"data\": [0.9467781561495988, 0.9419202256362232, 0.9040925731628754, 0.9137030290981856, 0.9250181345957987, 0.9339404580787858, 0.9254152970554074, 0.8930671083679558, 0.9461542879911552, 0.9225952945015269, 0.9079177007953375, 0.9331411181802117, 0.9183395305836212, 0.9247412805910803, 0.920033685683065, 0.9296655216100885, 0.9399766518723607, 0.9382332229226881, 0.9379382706307245, 0.9461394979564952, 0.9222366417644136, 0.9368371603673391, 0.9440500276346376, 0.9461534326256924, 0.9461526443411273, 0.7388083641964235, 0.9495522139946031, 0.9493958301604367]}, {\"categories\": [\"0\", \"1\", \"2\", \"3\", \"4\", \"5\", \"6\", \"7\", \"8\", \"9\", \"10\", \"11\", \"12\", \"13\", \"14\", \"15\", \"16\", \"17\", \"18\", \"19\", \"20\", \"21\", \"22\", \"23\", \"24\", \"25\", \"26\", \"27\"], \"mode\": \"lines\", \"name\": \"AUC_macro_max\", \"stepped\": true, \"type\": \"scatter\", \"data\": [0.9467781561495988, 0.9467781561495988, 0.9467781561495988, 0.9467781561495988, 0.9467781561495988, 0.9467781561495988, 0.9467781561495988, 0.9467781561495988, 0.9467781561495988, 0.9467781561495988, 0.9467781561495988, 0.9467781561495988, 0.9467781561495988, 0.9467781561495988, 0.9467781561495988, 0.9467781561495988, 0.9467781561495988, 0.9467781561495988, 0.9467781561495988, 0.9467781561495988, 0.9467781561495988, 0.9467781561495988, 0.9467781561495988, 0.9467781561495988, 0.9467781561495988, 0.9467781561495988, 0.9495522139946031, 0.9495522139946031]}], \"recall_score_micro\": [{\"categories\": [\"0\", \"1\", \"2\", \"3\", \"4\", \"5\", \"6\", \"7\", \"8\", \"9\", \"10\", \"11\", \"12\", \"13\", \"14\", \"15\", \"16\", \"17\", \"18\", \"19\", \"20\", \"21\", \"22\", \"23\", \"24\", \"25\", \"26\", \"27\"], \"mode\": \"markers\", \"name\": \"recall_score_micro\", \"stepped\": false, \"type\": \"scatter\", \"data\": [0.870701406111222, 0.8652285888970939, 0.8181608057127611, 0.8305665457724092, 0.8413755747569516, 0.8578400753517874, 0.8441574207434437, 0.8043417515985581, 0.870017280557427, 0.8446135855730073, 0.8193015079718294, 0.8573383296103514, 0.8329378764871614, 0.8403264461973375, 0.8400071925979994, 0.8478518397701643, 0.8637690261927741, 0.8615342385163248, 0.8602572553216775, 0.8650915653371293, 0.8366778889068366, 0.8623095508560287, 0.8684666496374782, 0.870245322408692, 0.869926075049895, 0.690002976488462, 0.8749886078923025, 0.8618077863929695]}, {\"categories\": [\"0\", \"1\", \"2\", \"3\", \"4\", \"5\", \"6\", \"7\", \"8\", \"9\", \"10\", \"11\", \"12\", \"13\", \"14\", \"15\", \"16\", \"17\", \"18\", \"19\", \"20\", \"21\", \"22\", \"23\", \"24\", \"25\", \"26\", \"27\"], \"mode\": \"lines\", \"name\": \"recall_score_micro_max\", \"stepped\": true, \"type\": \"scatter\", \"data\": [0.870701406111222, 0.870701406111222, 0.870701406111222, 0.870701406111222, 0.870701406111222, 0.870701406111222, 0.870701406111222, 0.870701406111222, 0.870701406111222, 0.870701406111222, 0.870701406111222, 0.870701406111222, 0.870701406111222, 0.870701406111222, 0.870701406111222, 0.870701406111222, 0.870701406111222, 0.870701406111222, 0.870701406111222, 0.870701406111222, 0.870701406111222, 0.870701406111222, 0.870701406111222, 0.870701406111222, 0.870701406111222, 0.870701406111222, 0.8749886078923025, 0.8749886078923025]}], \"f1_score_macro\": [{\"categories\": [\"0\", \"1\", \"2\", \"3\", \"4\", \"5\", \"6\", \"7\", \"8\", \"9\", \"10\", \"11\", \"12\", \"13\", \"14\", \"15\", \"16\", \"17\", \"18\", \"19\", \"20\", \"21\", \"22\", \"23\", \"24\", \"25\", \"26\", \"27\"], \"mode\": \"markers\", \"name\": \"f1_score_macro\", \"stepped\": false, \"type\": \"scatter\", \"data\": [0.8657586029610949, 0.8601151388616629, 0.8060048459680514, 0.8219549016047528, 0.8324097892716947, 0.8521952870432932, 0.8404807948800518, 0.7916021317407823, 0.8650776524201597, 0.8382276838539955, 0.814972431054528, 0.8517332937454257, 0.8234439728022044, 0.8369227202862577, 0.8316293473579046, 0.8445704561761428, 0.8581381797990625, 0.8559582818760707, 0.8533491353570634, 0.8617327349882228, 0.8332667773330377, 0.8569981444921306, 0.863490850680409, 0.8653073627681399, 0.864969392213791, 0.6619866279025604, 0.8703357534006483, 0.8522425824274388]}, {\"categories\": [\"0\", \"1\", \"2\", \"3\", \"4\", \"5\", \"6\", \"7\", \"8\", \"9\", \"10\", \"11\", \"12\", \"13\", \"14\", \"15\", \"16\", \"17\", \"18\", \"19\", \"20\", \"21\", \"22\", \"23\", \"24\", \"25\", \"26\", \"27\"], \"mode\": \"lines\", \"name\": \"f1_score_macro_max\", \"stepped\": true, \"type\": \"scatter\", \"data\": [0.8657586029610949, 0.8657586029610949, 0.8657586029610949, 0.8657586029610949, 0.8657586029610949, 0.8657586029610949, 0.8657586029610949, 0.8657586029610949, 0.8657586029610949, 0.8657586029610949, 0.8657586029610949, 0.8657586029610949, 0.8657586029610949, 0.8657586029610949, 0.8657586029610949, 0.8657586029610949, 0.8657586029610949, 0.8657586029610949, 0.8657586029610949, 0.8657586029610949, 0.8657586029610949, 0.8657586029610949, 0.8657586029610949, 0.8657586029610949, 0.8657586029610949, 0.8657586029610949, 0.8703357534006483, 0.8703357534006483]}], \"average_precision_score_macro\": [{\"categories\": [\"0\", \"1\", \"2\", \"3\", \"4\", \"5\", \"6\", \"7\", \"8\", \"9\", \"10\", \"11\", \"12\", \"13\", \"14\", \"15\", \"16\", \"17\", \"18\", \"19\", \"20\", \"21\", \"22\", \"23\", \"24\", \"25\", \"26\", \"27\"], \"mode\": \"markers\", \"name\": \"average_precision_score_macro\", \"stepped\": false, \"type\": \"scatter\", \"data\": [0.946627834366609, 0.9417242384303538, 0.9025264751179208, 0.9128815251178168, 0.9241945030152953, 0.932940738828452, 0.9245120272375815, 0.89073948148995, 0.9457063508146583, 0.9217986608055617, 0.9070399384822139, 0.9321852120210726, 0.9176053580700921, 0.9241957288928203, 0.9188419139382464, 0.929235299823036, 0.9394670016885094, 0.9361534196971558, 0.9373984454653631, 0.9456770612803297, 0.9215054455302879, 0.9357340558405559, 0.9438115950556223, 0.9457084449497568, 0.9457095862263714, 0.7182645497594159, 0.9492868060781564, 0.9491209748978214]}, {\"categories\": [\"0\", \"1\", \"2\", \"3\", \"4\", \"5\", \"6\", \"7\", \"8\", \"9\", \"10\", \"11\", \"12\", \"13\", \"14\", \"15\", \"16\", \"17\", \"18\", \"19\", \"20\", \"21\", \"22\", \"23\", \"24\", \"25\", \"26\", \"27\"], \"mode\": \"lines\", \"name\": \"average_precision_score_macro_max\", \"stepped\": true, \"type\": \"scatter\", \"data\": [0.946627834366609, 0.946627834366609, 0.946627834366609, 0.946627834366609, 0.946627834366609, 0.946627834366609, 0.946627834366609, 0.946627834366609, 0.946627834366609, 0.946627834366609, 0.946627834366609, 0.946627834366609, 0.946627834366609, 0.946627834366609, 0.946627834366609, 0.946627834366609, 0.946627834366609, 0.946627834366609, 0.946627834366609, 0.946627834366609, 0.946627834366609, 0.946627834366609, 0.946627834366609, 0.946627834366609, 0.946627834366609, 0.946627834366609, 0.9492868060781564, 0.9492868060781564]}], \"accuracy\": [{\"categories\": [\"0\", \"1\", \"2\", \"3\", \"4\", \"5\", \"6\", \"7\", \"8\", \"9\", \"10\", \"11\", \"12\", \"13\", \"14\", \"15\", \"16\", \"17\", \"18\", \"19\", \"20\", \"21\", \"22\", \"23\", \"24\", \"25\", \"26\", \"27\"], \"mode\": \"markers\", \"name\": \"accuracy\", \"stepped\": false, \"type\": \"scatter\", \"data\": [0.870701406111222, 0.8652285888970939, 0.8181608057127611, 0.8305665457724092, 0.8413755747569516, 0.8578400753517874, 0.8441574207434437, 0.8043417515985581, 0.870017280557427, 0.8446135855730073, 0.8193015079718294, 0.8573383296103514, 0.8329378764871614, 0.8403264461973375, 0.8400071925979994, 0.8478518397701643, 0.8637690261927741, 0.8615342385163248, 0.8602572553216775, 0.8650915653371293, 0.8366778889068366, 0.8623095508560287, 0.8684666496374782, 0.870245322408692, 0.869926075049895, 0.690002976488462, 0.8749886078923025, 0.8618077863929695]}, {\"categories\": [\"0\", \"1\", \"2\", \"3\", \"4\", \"5\", \"6\", \"7\", \"8\", \"9\", \"10\", \"11\", \"12\", \"13\", \"14\", \"15\", \"16\", \"17\", \"18\", \"19\", \"20\", \"21\", \"22\", \"23\", \"24\", \"25\", \"26\", \"27\"], \"mode\": \"lines\", \"name\": \"accuracy_max\", \"stepped\": true, \"type\": \"scatter\", \"data\": [0.870701406111222, 0.870701406111222, 0.870701406111222, 0.870701406111222, 0.870701406111222, 0.870701406111222, 0.870701406111222, 0.870701406111222, 0.870701406111222, 0.870701406111222, 0.870701406111222, 0.870701406111222, 0.870701406111222, 0.870701406111222, 0.870701406111222, 0.870701406111222, 0.870701406111222, 0.870701406111222, 0.870701406111222, 0.870701406111222, 0.870701406111222, 0.870701406111222, 0.870701406111222, 0.870701406111222, 0.870701406111222, 0.870701406111222, 0.8749886078923025, 0.8749886078923025]}], \"precision_score_macro\": [{\"categories\": [\"0\", \"1\", \"2\", \"3\", \"4\", \"5\", \"6\", \"7\", \"8\", \"9\", \"10\", \"11\", \"12\", \"13\", \"14\", \"15\", \"16\", \"17\", \"18\", \"19\", \"20\", \"21\", \"22\", \"23\", \"24\", \"25\", \"26\", \"27\"], \"mode\": \"markers\", \"name\": \"precision_score_macro\", \"stepped\": false, \"type\": \"scatter\", \"data\": [0.8678964396688298, 0.8621583776393725, 0.8227263869805045, 0.8297960946874122, 0.8437372770834318, 0.8549951648992463, 0.8383555802107017, 0.8066917340253067, 0.8671526210388055, 0.8415439091031232, 0.8134271779517689, 0.8543430714377926, 0.8347837649060975, 0.8345710949405994, 0.8405350266455439, 0.8422372623446942, 0.8616690963268999, 0.8589920047703338, 0.8610644361359746, 0.8596046220730708, 0.8309327587386113, 0.8592779670856779, 0.8654705773685313, 0.8674100323072588, 0.8670978025112296, 0.6837385894349927, 0.872077349708066, 0.8732429175786071]}, {\"categories\": [\"0\", \"1\", \"2\", \"3\", \"4\", \"5\", \"6\", \"7\", \"8\", \"9\", \"10\", \"11\", \"12\", \"13\", \"14\", \"15\", \"16\", \"17\", \"18\", \"19\", \"20\", \"21\", \"22\", \"23\", \"24\", \"25\", \"26\", \"27\"], \"mode\": \"lines\", \"name\": \"precision_score_macro_max\", \"stepped\": true, \"type\": \"scatter\", \"data\": [0.8678964396688298, 0.8678964396688298, 0.8678964396688298, 0.8678964396688298, 0.8678964396688298, 0.8678964396688298, 0.8678964396688298, 0.8678964396688298, 0.8678964396688298, 0.8678964396688298, 0.8678964396688298, 0.8678964396688298, 0.8678964396688298, 0.8678964396688298, 0.8678964396688298, 0.8678964396688298, 0.8678964396688298, 0.8678964396688298, 0.8678964396688298, 0.8678964396688298, 0.8678964396688298, 0.8678964396688298, 0.8678964396688298, 0.8678964396688298, 0.8678964396688298, 0.8678964396688298, 0.872077349708066, 0.8732429175786071]}], \"balanced_accuracy\": [{\"categories\": [\"0\", \"1\", \"2\", \"3\", \"4\", \"5\", \"6\", \"7\", \"8\", \"9\", \"10\", \"11\", \"12\", \"13\", \"14\", \"15\", \"16\", \"17\", \"18\", \"19\", \"20\", \"21\", \"22\", \"23\", \"24\", \"25\", \"26\", \"27\"], \"mode\": \"markers\", \"name\": \"balanced_accuracy\", \"stepped\": false, \"type\": \"scatter\", \"data\": [0.8640159519329659, 0.8585055959708815, 0.7990810621289114, 0.8174237210090146, 0.8264745142672688, 0.8500995703507764, 0.8440092235113837, 0.785304838892282, 0.8634132258494236, 0.8358496333082979, 0.8181755061594481, 0.8498014350579876, 0.8176952124604933, 0.841388625316226, 0.8265821174915725, 0.8490196477983113, 0.8555144783681227, 0.8536625462031799, 0.8485846496825286, 0.8648642706000326, 0.8378812385242496, 0.8552160052954978, 0.8619078233762769, 0.8636247083407594, 0.8632728921330578, 0.6598189712000557, 0.868906823405735, 0.8440055187098413]}, {\"categories\": [\"0\", \"1\", \"2\", \"3\", \"4\", \"5\", \"6\", \"7\", \"8\", \"9\", \"10\", \"11\", \"12\", \"13\", \"14\", \"15\", \"16\", \"17\", \"18\", \"19\", \"20\", \"21\", \"22\", \"23\", \"24\", \"25\", \"26\", \"27\"], \"mode\": \"lines\", \"name\": \"balanced_accuracy_max\", \"stepped\": true, \"type\": \"scatter\", \"data\": [0.8640159519329659, 0.8640159519329659, 0.8640159519329659, 0.8640159519329659, 0.8640159519329659, 0.8640159519329659, 0.8640159519329659, 0.8640159519329659, 0.8640159519329659, 0.8640159519329659, 0.8640159519329659, 0.8640159519329659, 0.8640159519329659, 0.8640159519329659, 0.8640159519329659, 0.8640159519329659, 0.8640159519329659, 0.8640159519329659, 0.8640159519329659, 0.8648642706000326, 0.8648642706000326, 0.8648642706000326, 0.8648642706000326, 0.8648642706000326, 0.8648642706000326, 0.8648642706000326, 0.868906823405735, 0.868906823405735]}], \"weighted_accuracy\": [{\"categories\": [\"0\", \"1\", \"2\", \"3\", \"4\", \"5\", \"6\", \"7\", \"8\", \"9\", \"10\", \"11\", \"12\", \"13\", \"14\", \"15\", \"16\", \"17\", \"18\", \"19\", \"20\", \"21\", \"22\", \"23\", \"24\", \"25\", \"26\", \"27\"], \"mode\": \"markers\", \"name\": \"weighted_accuracy\", \"stepped\": false, \"type\": \"scatter\", \"data\": [0.8769738089717167, 0.8715370558488812, 0.8360464098748984, 0.8428897367731979, 0.8553466236902315, 0.8651059412715448, 0.844301814321037, 0.8221878473564416, 0.8762163804238924, 0.8528411727942252, 0.8203359859304346, 0.8644150653338581, 0.8472316753359578, 0.8393326383883292, 0.8525994107772785, 0.8467664340721287, 0.8715147513302792, 0.8689221240119723, 0.8712051936380378, 0.8653091240699201, 0.8355505741132604, 0.8689686868112543, 0.8746232159335893, 0.8764600732390379, 0.8761716782993609, 0.7183182036051537, 0.8806961847171122, 0.8785048320622949]}, {\"categories\": [\"0\", \"1\", \"2\", \"3\", \"4\", \"5\", \"6\", \"7\", \"8\", \"9\", \"10\", \"11\", \"12\", \"13\", \"14\", \"15\", \"16\", \"17\", \"18\", \"19\", \"20\", \"21\", \"22\", \"23\", \"24\", \"25\", \"26\", \"27\"], \"mode\": \"lines\", \"name\": \"weighted_accuracy_max\", \"stepped\": true, \"type\": \"scatter\", \"data\": [0.8769738089717167, 0.8769738089717167, 0.8769738089717167, 0.8769738089717167, 0.8769738089717167, 0.8769738089717167, 0.8769738089717167, 0.8769738089717167, 0.8769738089717167, 0.8769738089717167, 0.8769738089717167, 0.8769738089717167, 0.8769738089717167, 0.8769738089717167, 0.8769738089717167, 0.8769738089717167, 0.8769738089717167, 0.8769738089717167, 0.8769738089717167, 0.8769738089717167, 0.8769738089717167, 0.8769738089717167, 0.8769738089717167, 0.8769738089717167, 0.8769738089717167, 0.8769738089717167, 0.8806961847171122, 0.8806961847171122]}], \"f1_score_weighted\": [{\"categories\": [\"0\", \"1\", \"2\", \"3\", \"4\", \"5\", \"6\", \"7\", \"8\", \"9\", \"10\", \"11\", \"12\", \"13\", \"14\", \"15\", \"16\", \"17\", \"18\", \"19\", \"20\", \"21\", \"22\", \"23\", \"24\", \"25\", \"26\", \"27\"], \"mode\": \"markers\", \"name\": \"f1_score_weighted\", \"stepped\": false, \"type\": \"scatter\", \"data\": [0.8703600786407303, 0.8648856885243176, 0.8146795488217397, 0.8289440660723951, 0.8393344983028493, 0.8573460786984555, 0.8448084612769158, 0.8008148291102414, 0.8696863133437032, 0.8439660804962376, 0.8199895673426911, 0.8568770795067556, 0.8307601492593709, 0.8411330875364885, 0.8383408268257906, 0.8485981815928443, 0.863185455486697, 0.8610174377520906, 0.8590312492711542, 0.8655835430912102, 0.8375260034337746, 0.8619197365983785, 0.8681449105026194, 0.869911092765468, 0.8695870105247119, 0.6792999575730185, 0.8747213241302378, 0.8589036167700601]}, {\"categories\": [\"0\", \"1\", \"2\", \"3\", \"4\", \"5\", \"6\", \"7\", \"8\", \"9\", \"10\", \"11\", \"12\", \"13\", \"14\", \"15\", \"16\", \"17\", \"18\", \"19\", \"20\", \"21\", \"22\", \"23\", \"24\", \"25\", \"26\", \"27\"], \"mode\": \"lines\", \"name\": \"f1_score_weighted_max\", \"stepped\": true, \"type\": \"scatter\", \"data\": [0.8703600786407303, 0.8703600786407303, 0.8703600786407303, 0.8703600786407303, 0.8703600786407303, 0.8703600786407303, 0.8703600786407303, 0.8703600786407303, 0.8703600786407303, 0.8703600786407303, 0.8703600786407303, 0.8703600786407303, 0.8703600786407303, 0.8703600786407303, 0.8703600786407303, 0.8703600786407303, 0.8703600786407303, 0.8703600786407303, 0.8703600786407303, 0.8703600786407303, 0.8703600786407303, 0.8703600786407303, 0.8703600786407303, 0.8703600786407303, 0.8703600786407303, 0.8703600786407303, 0.8747213241302378, 0.8747213241302378]}]}, \"metricName\": null, \"primaryMetricName\": \"AUC_weighted\", \"showLegend\": false}, \"run_metrics\": [{\"name\": \"log_loss\", \"run_id\": \"AutoML_c0d4f8bc-c737-42c2-8800-8776418cc59a\", \"categories\": [0], \"series\": [{\"data\": [0.2822017167785791]}]}, {\"name\": \"weighted_accuracy\", \"run_id\": \"AutoML_c0d4f8bc-c737-42c2-8800-8776418cc59a\", \"categories\": [0], \"series\": [{\"data\": [0.8806961847171122]}]}, {\"name\": \"f1_score_macro\", \"run_id\": \"AutoML_c0d4f8bc-c737-42c2-8800-8776418cc59a\", \"categories\": [0], \"series\": [{\"data\": [0.8703357534006483]}]}, {\"name\": \"average_precision_score_weighted\", \"run_id\": \"AutoML_c0d4f8bc-c737-42c2-8800-8776418cc59a\", \"categories\": [0], \"series\": [{\"data\": [0.9519651975315454]}]}, {\"name\": \"AUC_macro\", \"run_id\": \"AutoML_c0d4f8bc-c737-42c2-8800-8776418cc59a\", \"categories\": [0], \"series\": [{\"data\": [0.9495522139946031]}]}, {\"name\": \"average_precision_score_macro\", \"run_id\": \"AutoML_c0d4f8bc-c737-42c2-8800-8776418cc59a\", \"categories\": [0], \"series\": [{\"data\": [0.9492868060781564]}]}, {\"name\": \"recall_score_weighted\", \"run_id\": \"AutoML_c0d4f8bc-c737-42c2-8800-8776418cc59a\", \"categories\": [0], \"series\": [{\"data\": [0.8749886078923025]}]}, {\"name\": \"precision_score_weighted\", \"run_id\": \"AutoML_c0d4f8bc-c737-42c2-8800-8776418cc59a\", \"categories\": [0], \"series\": [{\"data\": [0.874748374645893]}]}, {\"name\": \"AUC_weighted\", \"run_id\": \"AutoML_c0d4f8bc-c737-42c2-8800-8776418cc59a\", \"categories\": [0], \"series\": [{\"data\": [0.9495522139946031]}]}, {\"name\": \"accuracy\", \"run_id\": \"AutoML_c0d4f8bc-c737-42c2-8800-8776418cc59a\", \"categories\": [0], \"series\": [{\"data\": [0.8749886078923025]}]}, {\"name\": \"f1_score_micro\", \"run_id\": \"AutoML_c0d4f8bc-c737-42c2-8800-8776418cc59a\", \"categories\": [0], \"series\": [{\"data\": [0.8749886078923025]}]}, {\"name\": \"precision_score_micro\", \"run_id\": \"AutoML_c0d4f8bc-c737-42c2-8800-8776418cc59a\", \"categories\": [0], \"series\": [{\"data\": [0.8749886078923025]}]}, {\"name\": \"AUC_micro\", \"run_id\": \"AutoML_c0d4f8bc-c737-42c2-8800-8776418cc59a\", \"categories\": [0], \"series\": [{\"data\": [0.9515323725645869]}]}, {\"name\": \"recall_score_macro\", \"run_id\": \"AutoML_c0d4f8bc-c737-42c2-8800-8776418cc59a\", \"categories\": [0], \"series\": [{\"data\": [0.868906823405735]}]}, {\"name\": \"matthews_correlation\", \"run_id\": \"AutoML_c0d4f8bc-c737-42c2-8800-8776418cc59a\", \"categories\": [0], \"series\": [{\"data\": [0.7409749307723649]}]}, {\"name\": \"f1_score_weighted\", \"run_id\": \"AutoML_c0d4f8bc-c737-42c2-8800-8776418cc59a\", \"categories\": [0], \"series\": [{\"data\": [0.8747213241302378]}]}, {\"name\": \"balanced_accuracy\", \"run_id\": \"AutoML_c0d4f8bc-c737-42c2-8800-8776418cc59a\", \"categories\": [0], \"series\": [{\"data\": [0.868906823405735]}]}, {\"name\": \"precision_score_macro\", \"run_id\": \"AutoML_c0d4f8bc-c737-42c2-8800-8776418cc59a\", \"categories\": [0], \"series\": [{\"data\": [0.872077349708066]}]}, {\"name\": \"recall_score_micro\", \"run_id\": \"AutoML_c0d4f8bc-c737-42c2-8800-8776418cc59a\", \"categories\": [0], \"series\": [{\"data\": [0.8749886078923025]}]}, {\"name\": \"average_precision_score_micro\", \"run_id\": \"AutoML_c0d4f8bc-c737-42c2-8800-8776418cc59a\", \"categories\": [0], \"series\": [{\"data\": [0.9530815446942466]}]}, {\"name\": \"norm_macro_recall\", \"run_id\": \"AutoML_c0d4f8bc-c737-42c2-8800-8776418cc59a\", \"categories\": [0], \"series\": [{\"data\": [0.7378136468114699]}]}], \"run_logs\": \"\\nRun is completed.\", \"graph\": {}, \"widget_settings\": {\"childWidgetDisplay\": \"popup\", \"send_telemetry\": false, \"log_level\": \"INFO\", \"sdk_version\": \"1.44.0\"}, \"loading\": false}"
     },
     "metadata": {},
     "output_type": "display_data"
    }
   ],
   "source": [
    "from azureml.widgets import RunDetails\n",
    "RunDetails(remote_run).show()"
   ]
  },
  {
   "cell_type": "markdown",
   "metadata": {},
   "source": [
    "## Best Model\n",
    "\n",
    "TODO: In the cell below, get the best model from the automl experiments and display all the properties of the model.\n",
    "\n"
   ]
  },
  {
   "cell_type": "code",
   "execution_count": 8,
   "metadata": {
    "gather": {
     "logged": 1668574129522
    },
    "jupyter": {
     "outputs_hidden": false,
     "source_hidden": false
    },
    "nteract": {
     "transient": {
      "deleting": false
     }
    }
   },
   "outputs": [
    {
     "data": {
      "text/plain": [
       "{'precision_score_micro': 0.8749886078923025,\n",
       " 'matthews_correlation': 0.7409749307723649,\n",
       " 'norm_macro_recall': 0.7378136468114699,\n",
       " 'f1_score_micro': 0.8749886078923025,\n",
       " 'recall_score_weighted': 0.8749886078923025,\n",
       " 'recall_score_macro': 0.868906823405735,\n",
       " 'AUC_weighted': 0.9495522139946031,\n",
       " 'average_precision_score_micro': 0.9530815446942466,\n",
       " 'precision_score_weighted': 0.874748374645893,\n",
       " 'AUC_micro': 0.9515323725645869,\n",
       " 'average_precision_score_weighted': 0.9519651975315454,\n",
       " 'log_loss': 0.2822017167785791,\n",
       " 'AUC_macro': 0.9495522139946031,\n",
       " 'recall_score_micro': 0.8749886078923025,\n",
       " 'f1_score_macro': 0.8703357534006483,\n",
       " 'average_precision_score_macro': 0.9492868060781564,\n",
       " 'accuracy': 0.8749886078923025,\n",
       " 'precision_score_macro': 0.872077349708066,\n",
       " 'balanced_accuracy': 0.868906823405735,\n",
       " 'weighted_accuracy': 0.8806961847171122,\n",
       " 'f1_score_weighted': 0.8747213241302378,\n",
       " 'accuracy_table': 'aml://artifactId/ExperimentRun/dcid.AutoML_c0d4f8bc-c737-42c2-8800-8776418cc59a_26/accuracy_table',\n",
       " 'confusion_matrix': 'aml://artifactId/ExperimentRun/dcid.AutoML_c0d4f8bc-c737-42c2-8800-8776418cc59a_26/confusion_matrix'}"
      ]
     },
     "execution_count": 8,
     "metadata": {},
     "output_type": "execute_result"
    }
   ],
   "source": [
    "best_auto_run, fitted_auto_model = remote_run.get_output()\n",
    "best_auto_run.get_metrics()"
   ]
  },
  {
   "cell_type": "code",
   "execution_count": 9,
   "metadata": {
    "gather": {
     "logged": 1668574129722
    },
    "jupyter": {
     "outputs_hidden": false,
     "source_hidden": false
    },
    "nteract": {
     "transient": {
      "deleting": false
     }
    }
   },
   "outputs": [
    {
     "data": {
      "text/plain": [
       "['nba-games-model.pkl']"
      ]
     },
     "execution_count": 9,
     "metadata": {},
     "output_type": "execute_result"
    }
   ],
   "source": [
    "import joblib\n",
    "joblib.dump(fitted_auto_model, 'nba-games-model.pkl')"
   ]
  },
  {
   "cell_type": "code",
   "execution_count": 14,
   "metadata": {
    "gather": {
     "logged": 1668574442456
    },
    "jupyter": {
     "outputs_hidden": false,
     "source_hidden": false
    },
    "nteract": {
     "transient": {
      "deleting": false
     }
    }
   },
   "outputs": [
    {
     "data": {
      "text/plain": [
       "Model(workspace=Workspace.create(name='quick-starts-ws-215640', subscription_id='3e42d11f-d64d-4173-af9b-12ecaa1030b3', resource_group='aml-quickstarts-215640'), name=nba-games-auto, id=nba-games-auto:1, version=1, tags={'version': '1'}, properties={})"
      ]
     },
     "execution_count": 14,
     "metadata": {},
     "output_type": "execute_result"
    }
   ],
   "source": [
    "remote_run.register_model(\n",
    "    model_name='nba-games-auto',\n",
    "    tags={'version':'1'}\n",
    ")"
   ]
  },
  {
   "cell_type": "code",
   "execution_count": null,
   "metadata": {},
   "outputs": [],
   "source": []
  },
  {
   "cell_type": "code",
   "execution_count": 11,
   "metadata": {},
   "outputs": [
    {
     "ename": "ModuleNotFoundError",
     "evalue": "No module named 'azureml.automl'",
     "output_type": "error",
     "traceback": [
      "\u001b[0;31m---------------------------------------------------------------------------\u001b[0m",
      "\u001b[0;31mModuleNotFoundError\u001b[0m                       Traceback (most recent call last)",
      "Cell \u001b[0;32mIn [11], line 2\u001b[0m\n\u001b[1;32m      1\u001b[0m \u001b[38;5;28;01mimport\u001b[39;00m \u001b[38;5;21;01mjoblib\u001b[39;00m\n\u001b[0;32m----> 2\u001b[0m model \u001b[38;5;241m=\u001b[39m \u001b[43mjoblib\u001b[49m\u001b[38;5;241;43m.\u001b[39;49m\u001b[43mload\u001b[49m\u001b[43m(\u001b[49m\u001b[38;5;124;43m'\u001b[39;49m\u001b[38;5;124;43m../nba-games-model.pkl\u001b[39;49m\u001b[38;5;124;43m'\u001b[39;49m\u001b[43m)\u001b[49m\n",
      "File \u001b[0;32m~/opt/miniconda3/envs/price-env/lib/python3.10/site-packages/joblib/numpy_pickle.py:658\u001b[0m, in \u001b[0;36mload\u001b[0;34m(filename, mmap_mode)\u001b[0m\n\u001b[1;32m    652\u001b[0m             \u001b[38;5;28;01mif\u001b[39;00m \u001b[38;5;28misinstance\u001b[39m(fobj, \u001b[38;5;28mstr\u001b[39m):\n\u001b[1;32m    653\u001b[0m                 \u001b[38;5;66;03m# if the returned file object is a string, this means we\u001b[39;00m\n\u001b[1;32m    654\u001b[0m                 \u001b[38;5;66;03m# try to load a pickle file generated with an version of\u001b[39;00m\n\u001b[1;32m    655\u001b[0m                 \u001b[38;5;66;03m# Joblib so we load it with joblib compatibility function.\u001b[39;00m\n\u001b[1;32m    656\u001b[0m                 \u001b[38;5;28;01mreturn\u001b[39;00m load_compatibility(fobj)\n\u001b[0;32m--> 658\u001b[0m             obj \u001b[38;5;241m=\u001b[39m \u001b[43m_unpickle\u001b[49m\u001b[43m(\u001b[49m\u001b[43mfobj\u001b[49m\u001b[43m,\u001b[49m\u001b[43m \u001b[49m\u001b[43mfilename\u001b[49m\u001b[43m,\u001b[49m\u001b[43m \u001b[49m\u001b[43mmmap_mode\u001b[49m\u001b[43m)\u001b[49m\n\u001b[1;32m    659\u001b[0m \u001b[38;5;28;01mreturn\u001b[39;00m obj\n",
      "File \u001b[0;32m~/opt/miniconda3/envs/price-env/lib/python3.10/site-packages/joblib/numpy_pickle.py:577\u001b[0m, in \u001b[0;36m_unpickle\u001b[0;34m(fobj, filename, mmap_mode)\u001b[0m\n\u001b[1;32m    575\u001b[0m obj \u001b[38;5;241m=\u001b[39m \u001b[38;5;28;01mNone\u001b[39;00m\n\u001b[1;32m    576\u001b[0m \u001b[38;5;28;01mtry\u001b[39;00m:\n\u001b[0;32m--> 577\u001b[0m     obj \u001b[38;5;241m=\u001b[39m \u001b[43munpickler\u001b[49m\u001b[38;5;241;43m.\u001b[39;49m\u001b[43mload\u001b[49m\u001b[43m(\u001b[49m\u001b[43m)\u001b[49m\n\u001b[1;32m    578\u001b[0m     \u001b[38;5;28;01mif\u001b[39;00m unpickler\u001b[38;5;241m.\u001b[39mcompat_mode:\n\u001b[1;32m    579\u001b[0m         warnings\u001b[38;5;241m.\u001b[39mwarn(\u001b[38;5;124m\"\u001b[39m\u001b[38;5;124mThe file \u001b[39m\u001b[38;5;124m'\u001b[39m\u001b[38;5;132;01m%s\u001b[39;00m\u001b[38;5;124m'\u001b[39m\u001b[38;5;124m has been generated with a \u001b[39m\u001b[38;5;124m\"\u001b[39m\n\u001b[1;32m    580\u001b[0m                       \u001b[38;5;124m\"\u001b[39m\u001b[38;5;124mjoblib version less than 0.10. \u001b[39m\u001b[38;5;124m\"\u001b[39m\n\u001b[1;32m    581\u001b[0m                       \u001b[38;5;124m\"\u001b[39m\u001b[38;5;124mPlease regenerate this pickle file.\u001b[39m\u001b[38;5;124m\"\u001b[39m\n\u001b[1;32m    582\u001b[0m                       \u001b[38;5;241m%\u001b[39m filename,\n\u001b[1;32m    583\u001b[0m                       \u001b[38;5;167;01mDeprecationWarning\u001b[39;00m, stacklevel\u001b[38;5;241m=\u001b[39m\u001b[38;5;241m3\u001b[39m)\n",
      "File \u001b[0;32m~/opt/miniconda3/envs/price-env/lib/python3.10/pickle.py:1213\u001b[0m, in \u001b[0;36m_Unpickler.load\u001b[0;34m(self)\u001b[0m\n\u001b[1;32m   1211\u001b[0m             \u001b[38;5;28;01mraise\u001b[39;00m \u001b[38;5;167;01mEOFError\u001b[39;00m\n\u001b[1;32m   1212\u001b[0m         \u001b[38;5;28;01massert\u001b[39;00m \u001b[38;5;28misinstance\u001b[39m(key, bytes_types)\n\u001b[0;32m-> 1213\u001b[0m         \u001b[43mdispatch\u001b[49m\u001b[43m[\u001b[49m\u001b[43mkey\u001b[49m\u001b[43m[\u001b[49m\u001b[38;5;241;43m0\u001b[39;49m\u001b[43m]\u001b[49m\u001b[43m]\u001b[49m\u001b[43m(\u001b[49m\u001b[38;5;28;43mself\u001b[39;49m\u001b[43m)\u001b[49m\n\u001b[1;32m   1214\u001b[0m \u001b[38;5;28;01mexcept\u001b[39;00m _Stop \u001b[38;5;28;01mas\u001b[39;00m stopinst:\n\u001b[1;32m   1215\u001b[0m     \u001b[38;5;28;01mreturn\u001b[39;00m stopinst\u001b[38;5;241m.\u001b[39mvalue\n",
      "File \u001b[0;32m~/opt/miniconda3/envs/price-env/lib/python3.10/pickle.py:1538\u001b[0m, in \u001b[0;36m_Unpickler.load_stack_global\u001b[0;34m(self)\u001b[0m\n\u001b[1;32m   1536\u001b[0m \u001b[38;5;28;01mif\u001b[39;00m \u001b[38;5;28mtype\u001b[39m(name) \u001b[38;5;129;01mis\u001b[39;00m \u001b[38;5;129;01mnot\u001b[39;00m \u001b[38;5;28mstr\u001b[39m \u001b[38;5;129;01mor\u001b[39;00m \u001b[38;5;28mtype\u001b[39m(module) \u001b[38;5;129;01mis\u001b[39;00m \u001b[38;5;129;01mnot\u001b[39;00m \u001b[38;5;28mstr\u001b[39m:\n\u001b[1;32m   1537\u001b[0m     \u001b[38;5;28;01mraise\u001b[39;00m UnpicklingError(\u001b[38;5;124m\"\u001b[39m\u001b[38;5;124mSTACK_GLOBAL requires str\u001b[39m\u001b[38;5;124m\"\u001b[39m)\n\u001b[0;32m-> 1538\u001b[0m \u001b[38;5;28mself\u001b[39m\u001b[38;5;241m.\u001b[39mappend(\u001b[38;5;28;43mself\u001b[39;49m\u001b[38;5;241;43m.\u001b[39;49m\u001b[43mfind_class\u001b[49m\u001b[43m(\u001b[49m\u001b[43mmodule\u001b[49m\u001b[43m,\u001b[49m\u001b[43m \u001b[49m\u001b[43mname\u001b[49m\u001b[43m)\u001b[49m)\n",
      "File \u001b[0;32m~/opt/miniconda3/envs/price-env/lib/python3.10/pickle.py:1580\u001b[0m, in \u001b[0;36m_Unpickler.find_class\u001b[0;34m(self, module, name)\u001b[0m\n\u001b[1;32m   1578\u001b[0m     \u001b[38;5;28;01melif\u001b[39;00m module \u001b[38;5;129;01min\u001b[39;00m _compat_pickle\u001b[38;5;241m.\u001b[39mIMPORT_MAPPING:\n\u001b[1;32m   1579\u001b[0m         module \u001b[38;5;241m=\u001b[39m _compat_pickle\u001b[38;5;241m.\u001b[39mIMPORT_MAPPING[module]\n\u001b[0;32m-> 1580\u001b[0m \u001b[38;5;28;43m__import__\u001b[39;49m\u001b[43m(\u001b[49m\u001b[43mmodule\u001b[49m\u001b[43m,\u001b[49m\u001b[43m \u001b[49m\u001b[43mlevel\u001b[49m\u001b[38;5;241;43m=\u001b[39;49m\u001b[38;5;241;43m0\u001b[39;49m\u001b[43m)\u001b[49m\n\u001b[1;32m   1581\u001b[0m \u001b[38;5;28;01mif\u001b[39;00m \u001b[38;5;28mself\u001b[39m\u001b[38;5;241m.\u001b[39mproto \u001b[38;5;241m>\u001b[39m\u001b[38;5;241m=\u001b[39m \u001b[38;5;241m4\u001b[39m:\n\u001b[1;32m   1582\u001b[0m     \u001b[38;5;28;01mreturn\u001b[39;00m _getattribute(sys\u001b[38;5;241m.\u001b[39mmodules[module], name)[\u001b[38;5;241m0\u001b[39m]\n",
      "\u001b[0;31mModuleNotFoundError\u001b[0m: No module named 'azureml.automl'"
     ]
    }
   ],
   "source": [
    "import joblib\n",
    "model = joblib.load('../nba-games-model.pkl')"
   ]
  },
  {
   "cell_type": "code",
   "execution_count": null,
   "metadata": {},
   "outputs": [],
   "source": [
    "type(model)"
   ]
  },
  {
   "cell_type": "code",
   "execution_count": 10,
   "metadata": {},
   "outputs": [
    {
     "name": "stdout",
     "output_type": "stream",
     "text": [
      "Collecting scikit-learn\n",
      "  Downloading scikit_learn-1.1.3-cp310-cp310-macosx_10_9_x86_64.whl (8.7 MB)\n",
      "\u001b[2K     \u001b[38;2;114;156;31m━━━━━━━━━━━━━━━━━━━━━━━━━━━━━━━━━━━━━━━━\u001b[0m \u001b[32m8.7/8.7 MB\u001b[0m \u001b[31m4.8 MB/s\u001b[0m eta \u001b[36m0:00:00\u001b[0mm eta \u001b[36m0:00:01\u001b[0m[36m0:00:01\u001b[0m\n",
      "\u001b[?25hCollecting scipy>=1.3.2\n",
      "  Downloading scipy-1.9.3-cp310-cp310-macosx_10_9_x86_64.whl (34.3 MB)\n",
      "\u001b[2K     \u001b[38;2;114;156;31m━━━━━━━━━━━━━━━━━━━━━━━━━━━━━━━━━━━━━━━━\u001b[0m \u001b[32m34.3/34.3 MB\u001b[0m \u001b[31m4.8 MB/s\u001b[0m eta \u001b[36m0:00:00\u001b[0mm eta \u001b[36m0:00:01\u001b[0m[36m0:00:01\u001b[0m\n",
      "\u001b[?25hRequirement already satisfied: joblib>=1.0.0 in /Users/rwhitcom/opt/miniconda3/envs/price-env/lib/python3.10/site-packages (from scikit-learn) (1.2.0)\n",
      "Requirement already satisfied: numpy>=1.17.3 in /Users/rwhitcom/opt/miniconda3/envs/price-env/lib/python3.10/site-packages (from scikit-learn) (1.23.4)\n",
      "Collecting threadpoolctl>=2.0.0\n",
      "  Using cached threadpoolctl-3.1.0-py3-none-any.whl (14 kB)\n",
      "Installing collected packages: threadpoolctl, scipy, scikit-learn\n",
      "Successfully installed scikit-learn-1.1.3 scipy-1.9.3 threadpoolctl-3.1.0\n"
     ]
    }
   ],
   "source": [
    "!pip install scikit-learn"
   ]
  },
  {
   "cell_type": "code",
   "execution_count": null,
   "metadata": {},
   "outputs": [],
   "source": []
  }
 ],
 "metadata": {
  "kernel_info": {
   "name": "python3"
  },
  "kernelspec": {
   "display_name": "Python 3 (ipykernel)",
   "language": "python",
   "name": "python3"
  },
  "language_info": {
   "codemirror_mode": {
    "name": "ipython",
    "version": 3
   },
   "file_extension": ".py",
   "mimetype": "text/x-python",
   "name": "python",
   "nbconvert_exporter": "python",
   "pygments_lexer": "ipython3",
   "version": "3.10.6"
  },
  "microsoft": {
   "host": {
    "AzureML": {
     "notebookHasBeenCompleted": true
    }
   }
  },
  "nteract": {
   "version": "nteract-front-end@1.0.0"
  }
 },
 "nbformat": 4,
 "nbformat_minor": 2
}
